{
 "cells": [
  {
   "cell_type": "markdown",
   "metadata": {},
   "source": [
    "## Extending plots with widgets"
   ]
  },
  {
   "cell_type": "markdown",
   "metadata": {},
   "source": [
    "This activity will combine most of what you have already learned about Bokeh. You will also need the skills you have acquired while working with Pandas for additional dataframe handling.  \n",
    "\n",
    "We will create an interactive visualization that lets us explore the end results of the olympics 2016 in Rio. Our visualization will display each country that participated in a coordinate system where the x-axis represents the number of won medals and the y-axis the number of athletes.\n",
    "\n",
    "Using interactive widgets, we will be able to filter down the displayed countries in both, maximum amount of won medals and maximum amount of athletes."
   ]
  },
  {
   "cell_type": "markdown",
   "metadata": {},
   "source": [
    "#### Loading our dataset"
   ]
  },
  {
   "cell_type": "code",
   "execution_count": 4,
   "metadata": {},
   "outputs": [],
   "source": [
    "# importing the necessary dependencies\n"
   ]
  },
  {
   "cell_type": "code",
   "execution_count": 3,
   "metadata": {},
   "outputs": [],
   "source": [
    "# make bokeh display figures inside the notebook\n"
   ]
  },
  {
   "cell_type": "code",
   "execution_count": 1,
   "metadata": {},
   "outputs": [],
   "source": [
    "# loading the Dataset with geoplotlib\n"
   ]
  },
  {
   "cell_type": "code",
   "execution_count": 2,
   "metadata": {},
   "outputs": [],
   "source": [
    "# looking at the dataset\n"
   ]
  },
  {
   "cell_type": "markdown",
   "metadata": {},
   "source": [
    "Here we can see the columns of our dataset.   \n",
    "We want to use the nationality, sex, gold, silver, and bronze columns to create a custom visualization that let's us dig through the olympians."
   ]
  },
  {
   "cell_type": "markdown",
   "metadata": {},
   "source": [
    "---"
   ]
  },
  {
   "cell_type": "markdown",
   "metadata": {},
   "source": [
    "#### Building an interactive visualization"
   ]
  },
  {
   "cell_type": "markdown",
   "metadata": {},
   "source": [
    "There are many options when it comes to choosing which interactivity to use.   \n",
    "Since the goal of this activity is to give you a better understanding of configuring widgets and adding tooltips, we will focus on having only two widgets.\n",
    "\n",
    "In the end, we will have a visualization that allows us to filter countries for the amount of medals and athletes they placed in the olympics and upon hovering the single data points, gives us more information about each country.   \n",
    "\n",
    "<img src=\"data/plot.png\" width=\"500\" align=\"left\"/>\n"
   ]
  },
  {
   "cell_type": "code",
   "execution_count": 5,
   "metadata": {},
   "outputs": [],
   "source": [
    "# importing the necessary dependencies \n"
   ]
  },
  {
   "cell_type": "markdown",
   "metadata": {},
   "source": [
    "Like in the previous exercises we need to do some data extraction first.   \n",
    "In this activity we will need:   \n",
    "- a list of unique countries from the dataset\n",
    "- the amount of athletes for each country\n",
    "- the amount of medals won by each country, split in gold, silver, and bronze"
   ]
  },
  {
   "cell_type": "code",
   "execution_count": 6,
   "metadata": {},
   "outputs": [],
   "source": [
    "# extract countries and group olympians by country and their sex\n",
    "# and the number of medals per country by sex\n"
   ]
  },
  {
   "cell_type": "markdown",
   "metadata": {},
   "source": [
    "Before we go in and implement the plotting for this visualization, we want to set up our widgets and the `@interact` method that will later display the plot upon execution.   \n",
    "\n",
    "Execute this empty `get_plot()` method cell and then move on to the widget creation. We will implement this later.\n",
    "\n",
    "The two arguments we get passed are `max_athletes` and `max_medals`. Both of them are int values.   \n",
    "First we want to filter down our countries dataset that contains all the countries that placed athletes in the olympic games.   \n",
    "We need to check whether they have less or equal medals and athletes than our max values passed as arguments.\n",
    "\n",
    "Once we have a filtered down dataset, we can create our datasource. This datasource will be used, both for the tooltips and the printing of the circle glyphs.\n",
    "\n",
    "> **Note:**   \n",
    "There is extensive documentation on how to use and setup tooltips, try to make use of that: https://bokeh.pydata.org/en/latest/docs/user_guide/tools.html\n",
    "\n",
    "Create a new plot using the `figure` method has the following attributes:   \n",
    "- title of 'Rio Olympics 2016 - Medal comparison'\n",
    "- x_axis_label of 'Number of Medals'\n",
    "- y_axis_label of 'Num of Athletes'"
   ]
  },
  {
   "cell_type": "code",
   "execution_count": 8,
   "metadata": {},
   "outputs": [],
   "source": [
    "# creating the scatter plot\n",
    "def get_plot(max_athletes, max_medals):\n",
    "    pass  "
   ]
  },
  {
   "cell_type": "markdown",
   "metadata": {},
   "source": [
    "In order to display every country with a different color, we want to randomly create the colors with a six digit hex code.    \n",
    "The method below does exactly this."
   ]
  },
  {
   "cell_type": "code",
   "execution_count": 9,
   "metadata": {},
   "outputs": [],
   "source": [
    "# get a 6 digit random hex color to differentiate the countries better\n",
    "import random\n",
    "\n",
    "def get_random_color():\n",
    "    return '%06x' % random.randint(0, 0xFFFFFF)"
   ]
  },
  {
   "cell_type": "markdown",
   "metadata": {},
   "source": [
    "We will use a bokeh ColumnDataSource to handle our data and make it easily accessible for our tooltip and glyphs.   \n",
    "Since we want to display additional information in a tooltip we need our datasource to have:\n",
    "- color field that holds the required amount of random colors\n",
    "- countries field that holds the list of filtered down countries\n",
    "- gold field that holds the number of gold medals for each country\n",
    "- silver field that holds the number of silver medals for each country\n",
    "- bronze field that holds the number of bronze medals for each country\n",
    "- x field that holds the summed number of medals for each country\n",
    "- y field that holds the number of athletes for each country"
   ]
  },
  {
   "cell_type": "code",
   "execution_count": 10,
   "metadata": {},
   "outputs": [],
   "source": [
    "# build the datasource\n",
    "def get_datasource(filtered_countries):\n",
    "    return ColumnDataSource(data=dict())"
   ]
  },
  {
   "cell_type": "markdown",
   "metadata": {},
   "source": [
    "Before we start to implement the plot with bokeh, we want to set up our widgets.   \n",
    "In this activity we will use two `IntSlider` widgets that will control the max numbers for the amount of athletes or and medals a country is allowed to have in order to be displayed in the visualization.   \n",
    "\n",
    "We need two values in order to set up the widgets:\n",
    "- the maximum amount of medals of all the countries\n",
    "- the maximum amount of athletes of all the countries"
   ]
  },
  {
   "cell_type": "code",
   "execution_count": 11,
   "metadata": {},
   "outputs": [],
   "source": [
    "# getting the max amount of medals and athletes of all countries\n"
   ]
  },
  {
   "cell_type": "markdown",
   "metadata": {},
   "source": [
    "Using those maximum numbers as the maximum for both widgets will give us reasonable slider values that are dynamically adjusted if we should increase the amount of atheletes or medals in the dataset.\n",
    "\n",
    "We need two `IntSlider` objects that handle the input for our `max_athletes` and `max_medals`.   \n",
    "To look like our actual visualization, we want to have the `max_athletes_slider` displayed in a vertical orientation and the `max_medals_slider` in a horizontal orientation.   \n",
    "In the visualization, they should be display as \"Max. Athletes\" and \"Max. Medals\"."
   ]
  },
  {
   "cell_type": "code",
   "execution_count": 12,
   "metadata": {},
   "outputs": [],
   "source": [
    "# setting up the interaction elements\n"
   ]
  },
  {
   "cell_type": "markdown",
   "metadata": {},
   "source": [
    "After setting up the widgets, we can the method that will be called with each update of the interaction widgets.   \n",
    "As seen in the previous exercise, we will use the `@interact` decorator for this.   \n",
    "\n",
    "Instead of value ranges or lists, we will provide the variable names of our already created widgets in the decorator.   \n",
    "Since we have already set up the empty method that will return a plot above, we can call `show()` with the method call inside to show the result once it is returned from the `get_plot` method.   \n",
    "\n",
    "Once you've build the widgets, upon execution, you will see them being displayed below the cell.   \n",
    "We are now ready to to **scroll up and implement the plotting** with Bokeh."
   ]
  },
  {
   "cell_type": "code",
   "execution_count": 13,
   "metadata": {},
   "outputs": [],
   "source": [
    "# creating the interact method \n"
   ]
  },
  {
   "cell_type": "markdown",
   "metadata": {},
   "source": [
    "This is a nice example that shows us how we can easily add widgets that help us discover our data.   \n",
    "Tooltips are a very useful way to also make visualizations more interactive and espacially more understandable by providing additional information for each data point.\n",
    "\n",
    "**Note:**   \n",
    "Think about what else you could add/change for this visualization. Maybe we also want to display information about how many male vs. female athletes there are for each country.\n"
   ]
  }
 ],
 "metadata": {
  "kernelspec": {
   "display_name": "Python 3",
   "language": "python",
   "name": "python3"
  },
  "language_info": {
   "codemirror_mode": {
    "name": "ipython",
    "version": 3
   },
   "file_extension": ".py",
   "mimetype": "text/x-python",
   "name": "python",
   "nbconvert_exporter": "python",
   "pygments_lexer": "ipython3",
   "version": "3.7.0"
  }
 },
 "nbformat": 4,
 "nbformat_minor": 2
}
