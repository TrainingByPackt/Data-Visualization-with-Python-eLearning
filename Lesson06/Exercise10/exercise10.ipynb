{
 "cells": [
  {
   "cell_type": "markdown",
   "metadata": {},
   "source": [
    "## Comparing the plotting and models interface"
   ]
  },
  {
   "cell_type": "markdown",
   "metadata": {},
   "source": [
    "In this exercise we want to compare the two interfaces, `plotting` and `models`.\n",
    "We will compare  them by creating a basic plot with the high-level `plotting` interface and then recreate this plot by using the lower-level `models` interface.   \n",
    "\n",
    "This will show us the differences between these two interfaces and give us a good instruction for the later exercises to understand how to use the `models` interface.\n",
    "\n",
    "Once again, we'll be using the `world_population.csv` dataset."
   ]
  },
  {
   "cell_type": "markdown",
   "metadata": {},
   "source": [
    "#### Loading our dataset"
   ]
  },
  {
   "cell_type": "code",
   "execution_count": 1,
   "metadata": {},
   "outputs": [],
   "source": [
    "# importing the necessary dependencies\n"
   ]
  },
  {
   "cell_type": "code",
   "execution_count": 2,
   "metadata": {},
   "outputs": [],
   "source": [
    "# make bokeh display figures inside the notebook\n"
   ]
  },
  {
   "cell_type": "markdown",
   "metadata": {},
   "source": [
    "**Note:**   \n",
    "The cell above allows us to plot the bokeh visualizations inline in the notebook. By default it will open a new tab in your browser window with the plot."
   ]
  },
  {
   "cell_type": "code",
   "execution_count": 3,
   "metadata": {},
   "outputs": [],
   "source": [
    "# loading the Dataset with pandas\n"
   ]
  },
  {
   "cell_type": "code",
   "execution_count": 4,
   "metadata": {},
   "outputs": [],
   "source": [
    "# looking at the dataset\n"
   ]
  },
  {
   "cell_type": "markdown",
   "metadata": {},
   "source": [
    "---"
   ]
  },
  {
   "cell_type": "markdown",
   "metadata": {},
   "source": [
    "#### Using the plotting interface"
   ]
  },
  {
   "cell_type": "code",
   "execution_count": 5,
   "metadata": {},
   "outputs": [],
   "source": [
    "# importing the plotting dependencies \n"
   ]
  },
  {
   "cell_type": "markdown",
   "metadata": {},
   "source": [
    "Using the knowledge from the first exercise, we'll create another visualization that compares two values against each other.   \n",
    "In this example, we'll take the mean population density for each year and compare its growth to the one of Japan.   \n",
    "In this first task, we'll create our plot with the high-level plotting interface of Bokeh. This will allow us to leverage the abstraction of this interface to quickly and easily build a visualization without too much configuration, as seen in the first exercise of this lesson.   \n",
    "Once we have our plot in place, we'll recreate the same one with the models interface to display the differences between the two interaces."
   ]
  },
  {
   "cell_type": "code",
   "execution_count": 6,
   "metadata": {},
   "outputs": [],
   "source": [
    "# preparing our data of the mean values per year and Japan\n"
   ]
  },
  {
   "cell_type": "code",
   "execution_count": 7,
   "metadata": {},
   "outputs": [],
   "source": [
    "# plotting the global population density change and the one for Japan \n"
   ]
  },
  {
   "cell_type": "markdown",
   "metadata": {},
   "source": [
    "**Note:**   \n",
    "Note that the amount of data points in the first and second argument passed to the plotting methods has to be the same.   \n",
    "If your `x` list has 10 values, your `y` list also has to have 10 values."
   ]
  },
  {
   "cell_type": "markdown",
   "metadata": {},
   "source": [
    "---"
   ]
  },
  {
   "cell_type": "markdown",
   "metadata": {},
   "source": [
    "#### Using the models interface"
   ]
  },
  {
   "cell_type": "code",
   "execution_count": 56,
   "metadata": {},
   "outputs": [],
   "source": [
    "# importing the models dependencies \n",
    "from bokeh.io import show\n",
    "from bokeh.models.grids import Grid\n",
    "from bokeh.models.plots import Plot \n",
    "from bokeh.models.axes import LinearAxis\n",
    "from bokeh.models.ranges import Range1d\n",
    "from bokeh.models.glyphs import Line, Cross\n",
    "from bokeh.models.sources import ColumnDataSource\n",
    "from bokeh.models.tickers import SingleIntervalTicker, YearsTicker\n",
    "from bokeh.models.renderers import GlyphRenderer\n",
    "from bokeh.models.annotations import Title, Legend, LegendItem"
   ]
  },
  {
   "cell_type": "markdown",
   "metadata": {},
   "source": [
    "**Note:**   \n",
    "Even though we are defining all the sub-packages for the imports here, we could also simply use the top level package `models` for each import.   \n",
    "However, keep in mind that this might lead to problems of wrong import references since there might be more than one definition of an element in the bokeh package.   \n",
    "For example the `show` mehtod is defined in the `bokeh.io` and `bokeh.plotting` packages.   \n",
    "\n",
    "All the sub-packages of the models interface can be found here:   \n",
    "http://bokeh.pydata.org/en/latest/docs/reference/models.html"
   ]
  },
  {
   "cell_type": "markdown",
   "metadata": {},
   "source": [
    "Before we build our plot, we have to find out the `min` and `max` values for the y axis since we don't want to have a too large or small range of values.   \n",
    "For the x axis, we have our list of years pre-defined."
   ]
  },
  {
   "cell_type": "code",
   "execution_count": 57,
   "metadata": {},
   "outputs": [],
   "source": [
    "# defining the range for the x and y axis\n",
    "extracted_mean_pop_vals = [val for i, val in enumerate(mean_pop_vals)\n",
    "                    if i not in [0, len(mean_pop_vals) - 1]]\n",
    "extracted_jp_vals = [jp_val['Japan'] for i, jp_val in enumerate(jp_vals)\n",
    "                    if i not in [0, len(jp_vals) - 1]]\n",
    "\n",
    "min_pop_density = min(extracted_mean_pop_vals)\n",
    "min_jp_densitiy = min(extracted_jp_vals)\n",
    "min_y = int(min(min_pop_density, min_jp_densitiy))\n",
    "\n",
    "max_pop_density = max(extracted_mean_pop_vals)\n",
    "max_jp_densitiy = max(extracted_jp_vals)\n",
    "max_y = int(max(max_jp_densitiy, max_pop_density))\n",
    "\n",
    "xdr = Range1d(int(years[0]), int(years[-1]))\n",
    "ydr = Range1d(min_y, max_y)"
   ]
  },
  {
   "cell_type": "markdown",
   "metadata": {},
   "source": [
    "Once we have the min and max values for the y axis, we can create two `Axis` objects that will be used to display the axis lines and the label for the axis.   \n",
    "Since we also want ticks between the different values, we have to pass in a `Ticker` object that creates this setup for us."
   ]
  },
  {
   "cell_type": "code",
   "execution_count": 8,
   "metadata": {},
   "outputs": [],
   "source": [
    "# creating the axis\n"
   ]
  },
  {
   "cell_type": "markdown",
   "metadata": {},
   "source": [
    "Creating the title and plot itself are straight forward. We can pass a `Title` object to the title attribute of the `Plot` object."
   ]
  },
  {
   "cell_type": "code",
   "execution_count": 9,
   "metadata": {},
   "outputs": [],
   "source": [
    "# creating the plot object\n"
   ]
  },
  {
   "cell_type": "code",
   "execution_count": 10,
   "metadata": {},
   "outputs": [],
   "source": [
    "# error will be thrown because we are missing renderers that are created when adding elements\n"
   ]
  },
  {
   "cell_type": "markdown",
   "metadata": {},
   "source": [
    "When working with data, we always need to insert our data into a `DataSource` object. This can then be used to map the data source to the `Glyph` object that will be displayed in the plot."
   ]
  },
  {
   "cell_type": "code",
   "execution_count": 11,
   "metadata": {},
   "outputs": [],
   "source": [
    "# creating the data display\n"
   ]
  },
  {
   "cell_type": "markdown",
   "metadata": {},
   "source": [
    "When adding objects to the plot, have to use the right add method.   \n",
    "For layout elements like the `Axis` objects, we have to use the `add_layout`method.   \n",
    "\n",
    "`Glyphs`, that display our data have to be added with the `add_glyph` method."
   ]
  },
  {
   "cell_type": "code",
   "execution_count": 12,
   "metadata": {},
   "outputs": [],
   "source": [
    "# assembling the plot\n"
   ]
  },
  {
   "cell_type": "code",
   "execution_count": 14,
   "metadata": {},
   "outputs": [],
   "source": [
    "# showing the plot\n"
   ]
  },
  {
   "cell_type": "markdown",
   "metadata": {},
   "source": [
    "In order to add a legend to our plot, we again have to use an object.   \n",
    "Each `LegendItem` object will be displayed in one line in the legend."
   ]
  },
  {
   "cell_type": "code",
   "execution_count": 15,
   "metadata": {},
   "outputs": [],
   "source": [
    "# creating the legend\n"
   ]
  },
  {
   "cell_type": "markdown",
   "metadata": {},
   "source": [
    "Creating the grid is straightforward, we simply have to instantiate two `Grid`objects for the x and y axis. These grids will get the tickers of the previously created x and y axis."
   ]
  },
  {
   "cell_type": "code",
   "execution_count": 16,
   "metadata": {},
   "outputs": [],
   "source": [
    "# creating the grid\n"
   ]
  },
  {
   "cell_type": "markdown",
   "metadata": {},
   "source": [
    "To add the last final touches, we, again, use the `add_layout` method to add the grid and the legend to our plot.   \n",
    "\n",
    "After this, we can finally display our complete plot that will look like the one we've created in the first task with only 4 lines of code."
   ]
  },
  {
   "cell_type": "code",
   "execution_count": 17,
   "metadata": {},
   "outputs": [],
   "source": [
    "# adding the legend and grids to the plot\n"
   ]
  },
  {
   "cell_type": "markdown",
   "metadata": {},
   "source": [
    "As we can really clearly see here, we get nearly the same result.   \n",
    "The models interface is not convenient for simple plots like the one we created here.   \n",
    "Later in this lesson, we will use some elements for interactions from the models interface, however, setting up a whole plot with the **models interface is not recommended**."
   ]
  }
 ],
 "metadata": {
  "kernelspec": {
   "display_name": "Python 3",
   "language": "python",
   "name": "python3"
  },
  "language_info": {
   "codemirror_mode": {
    "name": "ipython",
    "version": 3
   },
   "file_extension": ".py",
   "mimetype": "text/x-python",
   "name": "python",
   "nbconvert_exporter": "python",
   "pygments_lexer": "ipython3",
   "version": "3.7.0"
  }
 },
 "nbformat": 4,
 "nbformat_minor": 2
}
