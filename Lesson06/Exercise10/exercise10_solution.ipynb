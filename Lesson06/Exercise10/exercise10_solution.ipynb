{
 "cells": [
  {
   "cell_type": "markdown",
   "metadata": {},
   "source": [
    "## Comparing the plotting and models interface"
   ]
  },
  {
   "cell_type": "markdown",
   "metadata": {},
   "source": [
    "In this exercise we want to compare the two interfaces, `plotting` and `models`.\n",
    "We will compare  them by creating a basic plot with the high-level `plotting` interface and then recreate this plot by using the lower-level `models` interface.   \n",
    "\n",
    "This will show us the differences between these two interfaces and give us a good instruction for the later exercises to understand how to use the `models` interface.\n",
    "\n",
    "Once again, we'll be using the `world_population.csv` dataset."
   ]
  },
  {
   "cell_type": "markdown",
   "metadata": {},
   "source": [
    "#### Loading our dataset"
   ]
  },
  {
   "cell_type": "code",
   "execution_count": 18,
   "metadata": {},
   "outputs": [],
   "source": [
    "# importing the necessary dependencies\n",
    "import numpy as np\n",
    "import pandas as pd"
   ]
  },
  {
   "cell_type": "code",
   "execution_count": 19,
   "metadata": {},
   "outputs": [
    {
     "data": {
      "text/html": [
       "\n",
       "    <div class=\"bk-root\">\n",
       "        <a href=\"https://bokeh.pydata.org\" target=\"_blank\" class=\"bk-logo bk-logo-small bk-logo-notebook\"></a>\n",
       "        <span id=\"1361\">Loading BokehJS ...</span>\n",
       "    </div>"
      ]
     },
     "metadata": {},
     "output_type": "display_data"
    },
    {
     "data": {
      "application/javascript": [
       "\n",
       "(function(root) {\n",
       "  function now() {\n",
       "    return new Date();\n",
       "  }\n",
       "\n",
       "  var force = true;\n",
       "\n",
       "  if (typeof (root._bokeh_onload_callbacks) === \"undefined\" || force === true) {\n",
       "    root._bokeh_onload_callbacks = [];\n",
       "    root._bokeh_is_loading = undefined;\n",
       "  }\n",
       "\n",
       "  var JS_MIME_TYPE = 'application/javascript';\n",
       "  var HTML_MIME_TYPE = 'text/html';\n",
       "  var EXEC_MIME_TYPE = 'application/vnd.bokehjs_exec.v0+json';\n",
       "  var CLASS_NAME = 'output_bokeh rendered_html';\n",
       "\n",
       "  /**\n",
       "   * Render data to the DOM node\n",
       "   */\n",
       "  function render(props, node) {\n",
       "    var script = document.createElement(\"script\");\n",
       "    node.appendChild(script);\n",
       "  }\n",
       "\n",
       "  /**\n",
       "   * Handle when an output is cleared or removed\n",
       "   */\n",
       "  function handleClearOutput(event, handle) {\n",
       "    var cell = handle.cell;\n",
       "\n",
       "    var id = cell.output_area._bokeh_element_id;\n",
       "    var server_id = cell.output_area._bokeh_server_id;\n",
       "    // Clean up Bokeh references\n",
       "    if (id != null && id in Bokeh.index) {\n",
       "      Bokeh.index[id].model.document.clear();\n",
       "      delete Bokeh.index[id];\n",
       "    }\n",
       "\n",
       "    if (server_id !== undefined) {\n",
       "      // Clean up Bokeh references\n",
       "      var cmd = \"from bokeh.io.state import curstate; print(curstate().uuid_to_server['\" + server_id + \"'].get_sessions()[0].document.roots[0]._id)\";\n",
       "      cell.notebook.kernel.execute(cmd, {\n",
       "        iopub: {\n",
       "          output: function(msg) {\n",
       "            var id = msg.content.text.trim();\n",
       "            if (id in Bokeh.index) {\n",
       "              Bokeh.index[id].model.document.clear();\n",
       "              delete Bokeh.index[id];\n",
       "            }\n",
       "          }\n",
       "        }\n",
       "      });\n",
       "      // Destroy server and session\n",
       "      var cmd = \"import bokeh.io.notebook as ion; ion.destroy_server('\" + server_id + \"')\";\n",
       "      cell.notebook.kernel.execute(cmd);\n",
       "    }\n",
       "  }\n",
       "\n",
       "  /**\n",
       "   * Handle when a new output is added\n",
       "   */\n",
       "  function handleAddOutput(event, handle) {\n",
       "    var output_area = handle.output_area;\n",
       "    var output = handle.output;\n",
       "\n",
       "    // limit handleAddOutput to display_data with EXEC_MIME_TYPE content only\n",
       "    if ((output.output_type != \"display_data\") || (!output.data.hasOwnProperty(EXEC_MIME_TYPE))) {\n",
       "      return\n",
       "    }\n",
       "\n",
       "    var toinsert = output_area.element.find(\".\" + CLASS_NAME.split(' ')[0]);\n",
       "\n",
       "    if (output.metadata[EXEC_MIME_TYPE][\"id\"] !== undefined) {\n",
       "      toinsert[toinsert.length - 1].firstChild.textContent = output.data[JS_MIME_TYPE];\n",
       "      // store reference to embed id on output_area\n",
       "      output_area._bokeh_element_id = output.metadata[EXEC_MIME_TYPE][\"id\"];\n",
       "    }\n",
       "    if (output.metadata[EXEC_MIME_TYPE][\"server_id\"] !== undefined) {\n",
       "      var bk_div = document.createElement(\"div\");\n",
       "      bk_div.innerHTML = output.data[HTML_MIME_TYPE];\n",
       "      var script_attrs = bk_div.children[0].attributes;\n",
       "      for (var i = 0; i < script_attrs.length; i++) {\n",
       "        toinsert[toinsert.length - 1].firstChild.setAttribute(script_attrs[i].name, script_attrs[i].value);\n",
       "      }\n",
       "      // store reference to server id on output_area\n",
       "      output_area._bokeh_server_id = output.metadata[EXEC_MIME_TYPE][\"server_id\"];\n",
       "    }\n",
       "  }\n",
       "\n",
       "  function register_renderer(events, OutputArea) {\n",
       "\n",
       "    function append_mime(data, metadata, element) {\n",
       "      // create a DOM node to render to\n",
       "      var toinsert = this.create_output_subarea(\n",
       "        metadata,\n",
       "        CLASS_NAME,\n",
       "        EXEC_MIME_TYPE\n",
       "      );\n",
       "      this.keyboard_manager.register_events(toinsert);\n",
       "      // Render to node\n",
       "      var props = {data: data, metadata: metadata[EXEC_MIME_TYPE]};\n",
       "      render(props, toinsert[toinsert.length - 1]);\n",
       "      element.append(toinsert);\n",
       "      return toinsert\n",
       "    }\n",
       "\n",
       "    /* Handle when an output is cleared or removed */\n",
       "    events.on('clear_output.CodeCell', handleClearOutput);\n",
       "    events.on('delete.Cell', handleClearOutput);\n",
       "\n",
       "    /* Handle when a new output is added */\n",
       "    events.on('output_added.OutputArea', handleAddOutput);\n",
       "\n",
       "    /**\n",
       "     * Register the mime type and append_mime function with output_area\n",
       "     */\n",
       "    OutputArea.prototype.register_mime_type(EXEC_MIME_TYPE, append_mime, {\n",
       "      /* Is output safe? */\n",
       "      safe: true,\n",
       "      /* Index of renderer in `output_area.display_order` */\n",
       "      index: 0\n",
       "    });\n",
       "  }\n",
       "\n",
       "  // register the mime type if in Jupyter Notebook environment and previously unregistered\n",
       "  if (root.Jupyter !== undefined) {\n",
       "    var events = require('base/js/events');\n",
       "    var OutputArea = require('notebook/js/outputarea').OutputArea;\n",
       "\n",
       "    if (OutputArea.prototype.mime_types().indexOf(EXEC_MIME_TYPE) == -1) {\n",
       "      register_renderer(events, OutputArea);\n",
       "    }\n",
       "  }\n",
       "\n",
       "  \n",
       "  if (typeof (root._bokeh_timeout) === \"undefined\" || force === true) {\n",
       "    root._bokeh_timeout = Date.now() + 5000;\n",
       "    root._bokeh_failed_load = false;\n",
       "  }\n",
       "\n",
       "  var NB_LOAD_WARNING = {'data': {'text/html':\n",
       "     \"<div style='background-color: #fdd'>\\n\"+\n",
       "     \"<p>\\n\"+\n",
       "     \"BokehJS does not appear to have successfully loaded. If loading BokehJS from CDN, this \\n\"+\n",
       "     \"may be due to a slow or bad network connection. Possible fixes:\\n\"+\n",
       "     \"</p>\\n\"+\n",
       "     \"<ul>\\n\"+\n",
       "     \"<li>re-rerun `output_notebook()` to attempt to load from CDN again, or</li>\\n\"+\n",
       "     \"<li>use INLINE resources instead, as so:</li>\\n\"+\n",
       "     \"</ul>\\n\"+\n",
       "     \"<code>\\n\"+\n",
       "     \"from bokeh.resources import INLINE\\n\"+\n",
       "     \"output_notebook(resources=INLINE)\\n\"+\n",
       "     \"</code>\\n\"+\n",
       "     \"</div>\"}};\n",
       "\n",
       "  function display_loaded() {\n",
       "    var el = document.getElementById(\"1361\");\n",
       "    if (el != null) {\n",
       "      el.textContent = \"BokehJS is loading...\";\n",
       "    }\n",
       "    if (root.Bokeh !== undefined) {\n",
       "      if (el != null) {\n",
       "        el.textContent = \"BokehJS \" + root.Bokeh.version + \" successfully loaded.\";\n",
       "      }\n",
       "    } else if (Date.now() < root._bokeh_timeout) {\n",
       "      setTimeout(display_loaded, 100)\n",
       "    }\n",
       "  }\n",
       "\n",
       "\n",
       "  function run_callbacks() {\n",
       "    try {\n",
       "      root._bokeh_onload_callbacks.forEach(function(callback) { callback() });\n",
       "    }\n",
       "    finally {\n",
       "      delete root._bokeh_onload_callbacks\n",
       "    }\n",
       "    console.info(\"Bokeh: all callbacks have finished\");\n",
       "  }\n",
       "\n",
       "  function load_libs(js_urls, callback) {\n",
       "    root._bokeh_onload_callbacks.push(callback);\n",
       "    if (root._bokeh_is_loading > 0) {\n",
       "      console.log(\"Bokeh: BokehJS is being loaded, scheduling callback at\", now());\n",
       "      return null;\n",
       "    }\n",
       "    if (js_urls == null || js_urls.length === 0) {\n",
       "      run_callbacks();\n",
       "      return null;\n",
       "    }\n",
       "    console.log(\"Bokeh: BokehJS not loaded, scheduling load and callback at\", now());\n",
       "    root._bokeh_is_loading = js_urls.length;\n",
       "    for (var i = 0; i < js_urls.length; i++) {\n",
       "      var url = js_urls[i];\n",
       "      var s = document.createElement('script');\n",
       "      s.src = url;\n",
       "      s.async = false;\n",
       "      s.onreadystatechange = s.onload = function() {\n",
       "        root._bokeh_is_loading--;\n",
       "        if (root._bokeh_is_loading === 0) {\n",
       "          console.log(\"Bokeh: all BokehJS libraries loaded\");\n",
       "          run_callbacks()\n",
       "        }\n",
       "      };\n",
       "      s.onerror = function() {\n",
       "        console.warn(\"failed to load library \" + url);\n",
       "      };\n",
       "      console.log(\"Bokeh: injecting script tag for BokehJS library: \", url);\n",
       "      document.getElementsByTagName(\"head\")[0].appendChild(s);\n",
       "    }\n",
       "  };var element = document.getElementById(\"1361\");\n",
       "  if (element == null) {\n",
       "    console.log(\"Bokeh: ERROR: autoload.js configured with elementid '1361' but no matching script tag was found. \")\n",
       "    return false;\n",
       "  }\n",
       "\n",
       "  var js_urls = [\"https://cdn.pydata.org/bokeh/release/bokeh-1.0.2.min.js\", \"https://cdn.pydata.org/bokeh/release/bokeh-widgets-1.0.2.min.js\", \"https://cdn.pydata.org/bokeh/release/bokeh-tables-1.0.2.min.js\", \"https://cdn.pydata.org/bokeh/release/bokeh-gl-1.0.2.min.js\"];\n",
       "\n",
       "  var inline_js = [\n",
       "    function(Bokeh) {\n",
       "      Bokeh.set_log_level(\"info\");\n",
       "    },\n",
       "    \n",
       "    function(Bokeh) {\n",
       "      \n",
       "    },\n",
       "    function(Bokeh) {\n",
       "      console.log(\"Bokeh: injecting CSS: https://cdn.pydata.org/bokeh/release/bokeh-1.0.2.min.css\");\n",
       "      Bokeh.embed.inject_css(\"https://cdn.pydata.org/bokeh/release/bokeh-1.0.2.min.css\");\n",
       "      console.log(\"Bokeh: injecting CSS: https://cdn.pydata.org/bokeh/release/bokeh-widgets-1.0.2.min.css\");\n",
       "      Bokeh.embed.inject_css(\"https://cdn.pydata.org/bokeh/release/bokeh-widgets-1.0.2.min.css\");\n",
       "      console.log(\"Bokeh: injecting CSS: https://cdn.pydata.org/bokeh/release/bokeh-tables-1.0.2.min.css\");\n",
       "      Bokeh.embed.inject_css(\"https://cdn.pydata.org/bokeh/release/bokeh-tables-1.0.2.min.css\");\n",
       "    }\n",
       "  ];\n",
       "\n",
       "  function run_inline_js() {\n",
       "    \n",
       "    if ((root.Bokeh !== undefined) || (force === true)) {\n",
       "      for (var i = 0; i < inline_js.length; i++) {\n",
       "        inline_js[i].call(root, root.Bokeh);\n",
       "      }if (force === true) {\n",
       "        display_loaded();\n",
       "      }} else if (Date.now() < root._bokeh_timeout) {\n",
       "      setTimeout(run_inline_js, 100);\n",
       "    } else if (!root._bokeh_failed_load) {\n",
       "      console.log(\"Bokeh: BokehJS failed to load within specified timeout.\");\n",
       "      root._bokeh_failed_load = true;\n",
       "    } else if (force !== true) {\n",
       "      var cell = $(document.getElementById(\"1361\")).parents('.cell').data().cell;\n",
       "      cell.output_area.append_execute_result(NB_LOAD_WARNING)\n",
       "    }\n",
       "\n",
       "  }\n",
       "\n",
       "  if (root._bokeh_is_loading === 0) {\n",
       "    console.log(\"Bokeh: BokehJS loaded, going straight to plotting\");\n",
       "    run_inline_js();\n",
       "  } else {\n",
       "    load_libs(js_urls, function() {\n",
       "      console.log(\"Bokeh: BokehJS plotting callback run at\", now());\n",
       "      run_inline_js();\n",
       "    });\n",
       "  }\n",
       "}(window));"
      ],
      "application/vnd.bokehjs_load.v0+json": "\n(function(root) {\n  function now() {\n    return new Date();\n  }\n\n  var force = true;\n\n  if (typeof (root._bokeh_onload_callbacks) === \"undefined\" || force === true) {\n    root._bokeh_onload_callbacks = [];\n    root._bokeh_is_loading = undefined;\n  }\n\n  \n\n  \n  if (typeof (root._bokeh_timeout) === \"undefined\" || force === true) {\n    root._bokeh_timeout = Date.now() + 5000;\n    root._bokeh_failed_load = false;\n  }\n\n  var NB_LOAD_WARNING = {'data': {'text/html':\n     \"<div style='background-color: #fdd'>\\n\"+\n     \"<p>\\n\"+\n     \"BokehJS does not appear to have successfully loaded. If loading BokehJS from CDN, this \\n\"+\n     \"may be due to a slow or bad network connection. Possible fixes:\\n\"+\n     \"</p>\\n\"+\n     \"<ul>\\n\"+\n     \"<li>re-rerun `output_notebook()` to attempt to load from CDN again, or</li>\\n\"+\n     \"<li>use INLINE resources instead, as so:</li>\\n\"+\n     \"</ul>\\n\"+\n     \"<code>\\n\"+\n     \"from bokeh.resources import INLINE\\n\"+\n     \"output_notebook(resources=INLINE)\\n\"+\n     \"</code>\\n\"+\n     \"</div>\"}};\n\n  function display_loaded() {\n    var el = document.getElementById(\"1361\");\n    if (el != null) {\n      el.textContent = \"BokehJS is loading...\";\n    }\n    if (root.Bokeh !== undefined) {\n      if (el != null) {\n        el.textContent = \"BokehJS \" + root.Bokeh.version + \" successfully loaded.\";\n      }\n    } else if (Date.now() < root._bokeh_timeout) {\n      setTimeout(display_loaded, 100)\n    }\n  }\n\n\n  function run_callbacks() {\n    try {\n      root._bokeh_onload_callbacks.forEach(function(callback) { callback() });\n    }\n    finally {\n      delete root._bokeh_onload_callbacks\n    }\n    console.info(\"Bokeh: all callbacks have finished\");\n  }\n\n  function load_libs(js_urls, callback) {\n    root._bokeh_onload_callbacks.push(callback);\n    if (root._bokeh_is_loading > 0) {\n      console.log(\"Bokeh: BokehJS is being loaded, scheduling callback at\", now());\n      return null;\n    }\n    if (js_urls == null || js_urls.length === 0) {\n      run_callbacks();\n      return null;\n    }\n    console.log(\"Bokeh: BokehJS not loaded, scheduling load and callback at\", now());\n    root._bokeh_is_loading = js_urls.length;\n    for (var i = 0; i < js_urls.length; i++) {\n      var url = js_urls[i];\n      var s = document.createElement('script');\n      s.src = url;\n      s.async = false;\n      s.onreadystatechange = s.onload = function() {\n        root._bokeh_is_loading--;\n        if (root._bokeh_is_loading === 0) {\n          console.log(\"Bokeh: all BokehJS libraries loaded\");\n          run_callbacks()\n        }\n      };\n      s.onerror = function() {\n        console.warn(\"failed to load library \" + url);\n      };\n      console.log(\"Bokeh: injecting script tag for BokehJS library: \", url);\n      document.getElementsByTagName(\"head\")[0].appendChild(s);\n    }\n  };var element = document.getElementById(\"1361\");\n  if (element == null) {\n    console.log(\"Bokeh: ERROR: autoload.js configured with elementid '1361' but no matching script tag was found. \")\n    return false;\n  }\n\n  var js_urls = [\"https://cdn.pydata.org/bokeh/release/bokeh-1.0.2.min.js\", \"https://cdn.pydata.org/bokeh/release/bokeh-widgets-1.0.2.min.js\", \"https://cdn.pydata.org/bokeh/release/bokeh-tables-1.0.2.min.js\", \"https://cdn.pydata.org/bokeh/release/bokeh-gl-1.0.2.min.js\"];\n\n  var inline_js = [\n    function(Bokeh) {\n      Bokeh.set_log_level(\"info\");\n    },\n    \n    function(Bokeh) {\n      \n    },\n    function(Bokeh) {\n      console.log(\"Bokeh: injecting CSS: https://cdn.pydata.org/bokeh/release/bokeh-1.0.2.min.css\");\n      Bokeh.embed.inject_css(\"https://cdn.pydata.org/bokeh/release/bokeh-1.0.2.min.css\");\n      console.log(\"Bokeh: injecting CSS: https://cdn.pydata.org/bokeh/release/bokeh-widgets-1.0.2.min.css\");\n      Bokeh.embed.inject_css(\"https://cdn.pydata.org/bokeh/release/bokeh-widgets-1.0.2.min.css\");\n      console.log(\"Bokeh: injecting CSS: https://cdn.pydata.org/bokeh/release/bokeh-tables-1.0.2.min.css\");\n      Bokeh.embed.inject_css(\"https://cdn.pydata.org/bokeh/release/bokeh-tables-1.0.2.min.css\");\n    }\n  ];\n\n  function run_inline_js() {\n    \n    if ((root.Bokeh !== undefined) || (force === true)) {\n      for (var i = 0; i < inline_js.length; i++) {\n        inline_js[i].call(root, root.Bokeh);\n      }if (force === true) {\n        display_loaded();\n      }} else if (Date.now() < root._bokeh_timeout) {\n      setTimeout(run_inline_js, 100);\n    } else if (!root._bokeh_failed_load) {\n      console.log(\"Bokeh: BokehJS failed to load within specified timeout.\");\n      root._bokeh_failed_load = true;\n    } else if (force !== true) {\n      var cell = $(document.getElementById(\"1361\")).parents('.cell').data().cell;\n      cell.output_area.append_execute_result(NB_LOAD_WARNING)\n    }\n\n  }\n\n  if (root._bokeh_is_loading === 0) {\n    console.log(\"Bokeh: BokehJS loaded, going straight to plotting\");\n    run_inline_js();\n  } else {\n    load_libs(js_urls, function() {\n      console.log(\"Bokeh: BokehJS plotting callback run at\", now());\n      run_inline_js();\n    });\n  }\n}(window));"
     },
     "metadata": {},
     "output_type": "display_data"
    }
   ],
   "source": [
    "# make bokeh display figures inside the notebook\n",
    "from bokeh.io import output_notebook\n",
    "\n",
    "output_notebook()"
   ]
  },
  {
   "cell_type": "markdown",
   "metadata": {},
   "source": [
    "**Note:**   \n",
    "The cell above allows us to plot the bokeh visualizations inline in the notebook. By default it will open a new tab in your browser window with the plot."
   ]
  },
  {
   "cell_type": "code",
   "execution_count": 20,
   "metadata": {},
   "outputs": [],
   "source": [
    "# loading the Dataset with pandas\n",
    "dataset = pd.read_csv('./data/world_population.csv', index_col=0)"
   ]
  },
  {
   "cell_type": "code",
   "execution_count": 21,
   "metadata": {},
   "outputs": [
    {
     "data": {
      "text/html": [
       "<div>\n",
       "<style scoped>\n",
       "    .dataframe tbody tr th:only-of-type {\n",
       "        vertical-align: middle;\n",
       "    }\n",
       "\n",
       "    .dataframe tbody tr th {\n",
       "        vertical-align: top;\n",
       "    }\n",
       "\n",
       "    .dataframe thead th {\n",
       "        text-align: right;\n",
       "    }\n",
       "</style>\n",
       "<table border=\"1\" class=\"dataframe\">\n",
       "  <thead>\n",
       "    <tr style=\"text-align: right;\">\n",
       "      <th></th>\n",
       "      <th>Country Code</th>\n",
       "      <th>Indicator Name</th>\n",
       "      <th>Indicator Code</th>\n",
       "      <th>1960</th>\n",
       "      <th>1961</th>\n",
       "      <th>1962</th>\n",
       "      <th>1963</th>\n",
       "      <th>1964</th>\n",
       "      <th>1965</th>\n",
       "      <th>1966</th>\n",
       "      <th>...</th>\n",
       "      <th>2007</th>\n",
       "      <th>2008</th>\n",
       "      <th>2009</th>\n",
       "      <th>2010</th>\n",
       "      <th>2011</th>\n",
       "      <th>2012</th>\n",
       "      <th>2013</th>\n",
       "      <th>2014</th>\n",
       "      <th>2015</th>\n",
       "      <th>2016</th>\n",
       "    </tr>\n",
       "    <tr>\n",
       "      <th>Country Name</th>\n",
       "      <th></th>\n",
       "      <th></th>\n",
       "      <th></th>\n",
       "      <th></th>\n",
       "      <th></th>\n",
       "      <th></th>\n",
       "      <th></th>\n",
       "      <th></th>\n",
       "      <th></th>\n",
       "      <th></th>\n",
       "      <th></th>\n",
       "      <th></th>\n",
       "      <th></th>\n",
       "      <th></th>\n",
       "      <th></th>\n",
       "      <th></th>\n",
       "      <th></th>\n",
       "      <th></th>\n",
       "      <th></th>\n",
       "      <th></th>\n",
       "      <th></th>\n",
       "    </tr>\n",
       "  </thead>\n",
       "  <tbody>\n",
       "    <tr>\n",
       "      <th>Aruba</th>\n",
       "      <td>ABW</td>\n",
       "      <td>Population density (people per sq. km of land ...</td>\n",
       "      <td>EN.POP.DNST</td>\n",
       "      <td>NaN</td>\n",
       "      <td>307.972222</td>\n",
       "      <td>312.366667</td>\n",
       "      <td>314.983333</td>\n",
       "      <td>316.827778</td>\n",
       "      <td>318.666667</td>\n",
       "      <td>320.622222</td>\n",
       "      <td>...</td>\n",
       "      <td>562.322222</td>\n",
       "      <td>563.011111</td>\n",
       "      <td>563.422222</td>\n",
       "      <td>564.427778</td>\n",
       "      <td>566.311111</td>\n",
       "      <td>568.850000</td>\n",
       "      <td>571.783333</td>\n",
       "      <td>574.672222</td>\n",
       "      <td>577.161111</td>\n",
       "      <td>NaN</td>\n",
       "    </tr>\n",
       "    <tr>\n",
       "      <th>Andorra</th>\n",
       "      <td>AND</td>\n",
       "      <td>Population density (people per sq. km of land ...</td>\n",
       "      <td>EN.POP.DNST</td>\n",
       "      <td>NaN</td>\n",
       "      <td>30.587234</td>\n",
       "      <td>32.714894</td>\n",
       "      <td>34.914894</td>\n",
       "      <td>37.170213</td>\n",
       "      <td>39.470213</td>\n",
       "      <td>41.800000</td>\n",
       "      <td>...</td>\n",
       "      <td>180.591489</td>\n",
       "      <td>182.161702</td>\n",
       "      <td>181.859574</td>\n",
       "      <td>179.614894</td>\n",
       "      <td>175.161702</td>\n",
       "      <td>168.757447</td>\n",
       "      <td>161.493617</td>\n",
       "      <td>154.863830</td>\n",
       "      <td>149.942553</td>\n",
       "      <td>NaN</td>\n",
       "    </tr>\n",
       "    <tr>\n",
       "      <th>Afghanistan</th>\n",
       "      <td>AFG</td>\n",
       "      <td>Population density (people per sq. km of land ...</td>\n",
       "      <td>EN.POP.DNST</td>\n",
       "      <td>NaN</td>\n",
       "      <td>14.038148</td>\n",
       "      <td>14.312061</td>\n",
       "      <td>14.599692</td>\n",
       "      <td>14.901579</td>\n",
       "      <td>15.218206</td>\n",
       "      <td>15.545203</td>\n",
       "      <td>...</td>\n",
       "      <td>39.637202</td>\n",
       "      <td>40.634655</td>\n",
       "      <td>41.674005</td>\n",
       "      <td>42.830327</td>\n",
       "      <td>44.127634</td>\n",
       "      <td>45.533197</td>\n",
       "      <td>46.997059</td>\n",
       "      <td>48.444546</td>\n",
       "      <td>49.821649</td>\n",
       "      <td>NaN</td>\n",
       "    </tr>\n",
       "    <tr>\n",
       "      <th>Angola</th>\n",
       "      <td>AGO</td>\n",
       "      <td>Population density (people per sq. km of land ...</td>\n",
       "      <td>EN.POP.DNST</td>\n",
       "      <td>NaN</td>\n",
       "      <td>4.305195</td>\n",
       "      <td>4.384299</td>\n",
       "      <td>4.464433</td>\n",
       "      <td>4.544558</td>\n",
       "      <td>4.624228</td>\n",
       "      <td>4.703271</td>\n",
       "      <td>...</td>\n",
       "      <td>15.387749</td>\n",
       "      <td>15.915819</td>\n",
       "      <td>16.459536</td>\n",
       "      <td>17.020898</td>\n",
       "      <td>17.600302</td>\n",
       "      <td>18.196544</td>\n",
       "      <td>18.808215</td>\n",
       "      <td>19.433323</td>\n",
       "      <td>20.070565</td>\n",
       "      <td>NaN</td>\n",
       "    </tr>\n",
       "    <tr>\n",
       "      <th>Albania</th>\n",
       "      <td>ALB</td>\n",
       "      <td>Population density (people per sq. km of land ...</td>\n",
       "      <td>EN.POP.DNST</td>\n",
       "      <td>NaN</td>\n",
       "      <td>60.576642</td>\n",
       "      <td>62.456898</td>\n",
       "      <td>64.329234</td>\n",
       "      <td>66.209307</td>\n",
       "      <td>68.058066</td>\n",
       "      <td>69.874927</td>\n",
       "      <td>...</td>\n",
       "      <td>108.394781</td>\n",
       "      <td>107.566204</td>\n",
       "      <td>106.843759</td>\n",
       "      <td>106.314635</td>\n",
       "      <td>106.013869</td>\n",
       "      <td>105.848431</td>\n",
       "      <td>105.717226</td>\n",
       "      <td>105.607810</td>\n",
       "      <td>105.444051</td>\n",
       "      <td>NaN</td>\n",
       "    </tr>\n",
       "  </tbody>\n",
       "</table>\n",
       "<p>5 rows × 60 columns</p>\n",
       "</div>"
      ],
      "text/plain": [
       "             Country Code                                     Indicator Name  \\\n",
       "Country Name                                                                   \n",
       "Aruba                 ABW  Population density (people per sq. km of land ...   \n",
       "Andorra               AND  Population density (people per sq. km of land ...   \n",
       "Afghanistan           AFG  Population density (people per sq. km of land ...   \n",
       "Angola                AGO  Population density (people per sq. km of land ...   \n",
       "Albania               ALB  Population density (people per sq. km of land ...   \n",
       "\n",
       "             Indicator Code  1960        1961        1962        1963  \\\n",
       "Country Name                                                            \n",
       "Aruba           EN.POP.DNST   NaN  307.972222  312.366667  314.983333   \n",
       "Andorra         EN.POP.DNST   NaN   30.587234   32.714894   34.914894   \n",
       "Afghanistan     EN.POP.DNST   NaN   14.038148   14.312061   14.599692   \n",
       "Angola          EN.POP.DNST   NaN    4.305195    4.384299    4.464433   \n",
       "Albania         EN.POP.DNST   NaN   60.576642   62.456898   64.329234   \n",
       "\n",
       "                    1964        1965        1966  ...         2007  \\\n",
       "Country Name                                      ...                \n",
       "Aruba         316.827778  318.666667  320.622222  ...   562.322222   \n",
       "Andorra        37.170213   39.470213   41.800000  ...   180.591489   \n",
       "Afghanistan    14.901579   15.218206   15.545203  ...    39.637202   \n",
       "Angola          4.544558    4.624228    4.703271  ...    15.387749   \n",
       "Albania        66.209307   68.058066   69.874927  ...   108.394781   \n",
       "\n",
       "                    2008        2009        2010        2011        2012  \\\n",
       "Country Name                                                               \n",
       "Aruba         563.011111  563.422222  564.427778  566.311111  568.850000   \n",
       "Andorra       182.161702  181.859574  179.614894  175.161702  168.757447   \n",
       "Afghanistan    40.634655   41.674005   42.830327   44.127634   45.533197   \n",
       "Angola         15.915819   16.459536   17.020898   17.600302   18.196544   \n",
       "Albania       107.566204  106.843759  106.314635  106.013869  105.848431   \n",
       "\n",
       "                    2013        2014        2015  2016  \n",
       "Country Name                                            \n",
       "Aruba         571.783333  574.672222  577.161111   NaN  \n",
       "Andorra       161.493617  154.863830  149.942553   NaN  \n",
       "Afghanistan    46.997059   48.444546   49.821649   NaN  \n",
       "Angola         18.808215   19.433323   20.070565   NaN  \n",
       "Albania       105.717226  105.607810  105.444051   NaN  \n",
       "\n",
       "[5 rows x 60 columns]"
      ]
     },
     "execution_count": 21,
     "metadata": {},
     "output_type": "execute_result"
    }
   ],
   "source": [
    "# looking at the dataset\n",
    "dataset.head()"
   ]
  },
  {
   "cell_type": "markdown",
   "metadata": {},
   "source": [
    "---"
   ]
  },
  {
   "cell_type": "markdown",
   "metadata": {},
   "source": [
    "#### Using the plotting interface"
   ]
  },
  {
   "cell_type": "code",
   "execution_count": 55,
   "metadata": {},
   "outputs": [],
   "source": [
    "# importing the plotting dependencies \n",
    "from bokeh.plotting import figure, show"
   ]
  },
  {
   "cell_type": "markdown",
   "metadata": {},
   "source": [
    "Using the knowledge from the first exercise, we'll create another visualization that compares two values against each other.   \n",
    "In this example, we'll take the mean population density for each year and compare its growth to the one of Japan.   \n",
    "In this first task, we'll create our plot with the high-level plotting interface of Bokeh. This will allow us to leverage the abstraction of this interface to quickly and easily build a visualization without too much configuration, as seen in the first exercise of this lesson.   \n",
    "Once we have our plot in place, we'll recreate the same one with the models interface to display the differences between the two interaces."
   ]
  },
  {
   "cell_type": "code",
   "execution_count": 23,
   "metadata": {},
   "outputs": [],
   "source": [
    "# preparing our data of the mean values per year and Japan\n",
    "years = [year for year in dataset.columns if not year[0].isalpha()]\n",
    "mean_pop_vals = [np.mean(dataset[year]) for year in years]\n",
    "jp_vals = [dataset.loc[['Japan']][year] for year in years]"
   ]
  },
  {
   "cell_type": "code",
   "execution_count": 24,
   "metadata": {},
   "outputs": [
    {
     "data": {
      "text/html": [
       "\n",
       "\n",
       "\n",
       "\n",
       "\n",
       "\n",
       "  <div class=\"bk-root\" id=\"6c1ad5f5-b2c7-469f-87b3-981ce71ecd56\"></div>\n"
      ]
     },
     "metadata": {},
     "output_type": "display_data"
    },
    {
     "data": {
      "application/javascript": [
       "(function(root) {\n",
       "  function embed_document(root) {\n",
       "    \n",
       "  var docs_json = {\"1e872e9e-7b82-4171-88c7-4f8f47494751\":{\"roots\":{\"references\":[{\"attributes\":{\"below\":[{\"id\":\"1373\",\"type\":\"LinearAxis\"}],\"left\":[{\"id\":\"1378\",\"type\":\"LinearAxis\"}],\"renderers\":[{\"id\":\"1373\",\"type\":\"LinearAxis\"},{\"id\":\"1377\",\"type\":\"Grid\"},{\"id\":\"1378\",\"type\":\"LinearAxis\"},{\"id\":\"1382\",\"type\":\"Grid\"},{\"id\":\"1391\",\"type\":\"BoxAnnotation\"},{\"id\":\"1409\",\"type\":\"Legend\"},{\"id\":\"1401\",\"type\":\"GlyphRenderer\"},{\"id\":\"1414\",\"type\":\"GlyphRenderer\"}],\"title\":{\"id\":\"1362\",\"type\":\"Title\"},\"toolbar\":{\"id\":\"1389\",\"type\":\"Toolbar\"},\"x_range\":{\"id\":\"1365\",\"type\":\"DataRange1d\"},\"x_scale\":{\"id\":\"1369\",\"type\":\"LinearScale\"},\"y_range\":{\"id\":\"1367\",\"type\":\"DataRange1d\"},\"y_scale\":{\"id\":\"1371\",\"type\":\"LinearScale\"}},\"id\":\"1363\",\"subtype\":\"Figure\",\"type\":\"Plot\"},{\"attributes\":{\"fill_color\":{\"value\":\"#1f77b4\"},\"line_color\":{\"value\":\"red\"},\"x\":{\"field\":\"x\"},\"y\":{\"field\":\"y\"}},\"id\":\"1412\",\"type\":\"Cross\"},{\"attributes\":{\"items\":[{\"id\":\"1410\",\"type\":\"LegendItem\"},{\"id\":\"1424\",\"type\":\"LegendItem\"}],\"plot\":{\"id\":\"1363\",\"subtype\":\"Figure\",\"type\":\"Plot\"}},\"id\":\"1409\",\"type\":\"Legend\"},{\"attributes\":{\"data_source\":{\"id\":\"1398\",\"type\":\"ColumnDataSource\"},\"glyph\":{\"id\":\"1399\",\"type\":\"Line\"},\"hover_glyph\":null,\"muted_glyph\":null,\"nonselection_glyph\":{\"id\":\"1400\",\"type\":\"Line\"},\"selection_glyph\":null,\"view\":{\"id\":\"1402\",\"type\":\"CDSView\"}},\"id\":\"1401\",\"type\":\"GlyphRenderer\"},{\"attributes\":{},\"id\":\"1383\",\"type\":\"PanTool\"},{\"attributes\":{},\"id\":\"1387\",\"type\":\"ResetTool\"},{\"attributes\":{},\"id\":\"1384\",\"type\":\"WheelZoomTool\"},{\"attributes\":{\"overlay\":{\"id\":\"1391\",\"type\":\"BoxAnnotation\"}},\"id\":\"1385\",\"type\":\"BoxZoomTool\"},{\"attributes\":{\"callback\":null},\"id\":\"1365\",\"type\":\"DataRange1d\"},{\"attributes\":{},\"id\":\"1386\",\"type\":\"SaveTool\"},{\"attributes\":{\"line_alpha\":0.1,\"line_color\":\"#1f77b4\",\"line_width\":2,\"x\":{\"field\":\"x\"},\"y\":{\"field\":\"y\"}},\"id\":\"1400\",\"type\":\"Line\"},{\"attributes\":{\"fill_alpha\":{\"value\":0.1},\"fill_color\":{\"value\":\"#1f77b4\"},\"line_alpha\":{\"value\":0.1},\"line_color\":{\"value\":\"#1f77b4\"},\"x\":{\"field\":\"x\"},\"y\":{\"field\":\"y\"}},\"id\":\"1413\",\"type\":\"Cross\"},{\"attributes\":{},\"id\":\"1452\",\"type\":\"Selection\"},{\"attributes\":{\"data_source\":{\"id\":\"1411\",\"type\":\"ColumnDataSource\"},\"glyph\":{\"id\":\"1412\",\"type\":\"Cross\"},\"hover_glyph\":null,\"muted_glyph\":null,\"nonselection_glyph\":{\"id\":\"1413\",\"type\":\"Cross\"},\"selection_glyph\":null,\"view\":{\"id\":\"1415\",\"type\":\"CDSView\"}},\"id\":\"1414\",\"type\":\"GlyphRenderer\"},{\"attributes\":{\"source\":{\"id\":\"1398\",\"type\":\"ColumnDataSource\"}},\"id\":\"1402\",\"type\":\"CDSView\"},{\"attributes\":{},\"id\":\"1407\",\"type\":\"BasicTickFormatter\"},{\"attributes\":{\"plot\":{\"id\":\"1363\",\"subtype\":\"Figure\",\"type\":\"Plot\"},\"ticker\":{\"id\":\"1374\",\"type\":\"BasicTicker\"}},\"id\":\"1377\",\"type\":\"Grid\"},{\"attributes\":{\"callback\":null},\"id\":\"1367\",\"type\":\"DataRange1d\"},{\"attributes\":{\"source\":{\"id\":\"1411\",\"type\":\"ColumnDataSource\"}},\"id\":\"1415\",\"type\":\"CDSView\"},{\"attributes\":{},\"id\":\"1369\",\"type\":\"LinearScale\"},{\"attributes\":{},\"id\":\"1422\",\"type\":\"Selection\"},{\"attributes\":{\"bottom_units\":\"screen\",\"fill_alpha\":{\"value\":0.5},\"fill_color\":{\"value\":\"lightgrey\"},\"left_units\":\"screen\",\"level\":\"overlay\",\"line_alpha\":{\"value\":1.0},\"line_color\":{\"value\":\"black\"},\"line_dash\":[4,4],\"line_width\":{\"value\":2},\"plot\":null,\"render_mode\":\"css\",\"right_units\":\"screen\",\"top_units\":\"screen\"},\"id\":\"1391\",\"type\":\"BoxAnnotation\"},{\"attributes\":{},\"id\":\"1371\",\"type\":\"LinearScale\"},{\"attributes\":{},\"id\":\"1423\",\"type\":\"UnionRenderers\"},{\"attributes\":{},\"id\":\"1405\",\"type\":\"BasicTickFormatter\"},{\"attributes\":{\"label\":{\"value\":\"Japan\"},\"renderers\":[{\"id\":\"1414\",\"type\":\"GlyphRenderer\"}]},\"id\":\"1424\",\"type\":\"LegendItem\"},{\"attributes\":{},\"id\":\"1374\",\"type\":\"BasicTicker\"},{\"attributes\":{\"callback\":null,\"data\":{\"x\":[\"1960\",\"1961\",\"1962\",\"1963\",\"1964\",\"1965\",\"1966\",\"1967\",\"1968\",\"1969\",\"1970\",\"1971\",\"1972\",\"1973\",\"1974\",\"1975\",\"1976\",\"1977\",\"1978\",\"1979\",\"1980\",\"1981\",\"1982\",\"1983\",\"1984\",\"1985\",\"1986\",\"1987\",\"1988\",\"1989\",\"1990\",\"1991\",\"1992\",\"1993\",\"1994\",\"1995\",\"1996\",\"1997\",\"1998\",\"1999\",\"2000\",\"2001\",\"2002\",\"2003\",\"2004\",\"2005\",\"2006\",\"2007\",\"2008\",\"2009\",\"2010\",\"2011\",\"2012\",\"2013\",\"2014\",\"2015\",\"2016\"],\"y\":[[\"NaN\"],[258.911917098446],[261.336242159804],[264.008726479411],[266.77392964276004],[269.656394873193],[272.129806381238],[274.679574584129],[275.59585492227995],[281.352604308699],[284.55140441778],[288.238341968912],[292.384069830878],[294.81451172940496],[300.496453900709],[305.429740791269],[307.697135061392],[310.761462882096],[313.586244541485],[316.239082969432],[318.81517881517897],[321.091703056769],[323.454396504642],[325.666302566903],[329.086920756786],[331.19583104772397],[333.128598848369],[334.862863411958],[336.294569391114],[337.674163466813],[338.828853538124],[339.882062534284],[340.726823916621],[341.568842567197],[342.734503565551],[344.04552934723],[345.012345679012],[345.835390946502],[346.776406035665],[347.410150891632],[347.99176954732496],[348.831275720165],[349.643347050754],[350.39231824417],[350.51028806584395],[350.54320987654296],[350.765432098765],[351.168724279835],[351.338820301783],[351.29492455418404],[351.30983404196996],[350.611778743948],[349.90533519859594],[349.294000987492],[348.726684222076],[348.25123985077903],[\"NaN\"]]},\"selected\":{\"id\":\"1452\",\"type\":\"Selection\"},\"selection_policy\":{\"id\":\"1453\",\"type\":\"UnionRenderers\"}},\"id\":\"1411\",\"type\":\"ColumnDataSource\"},{\"attributes\":{},\"id\":\"1453\",\"type\":\"UnionRenderers\"},{\"attributes\":{\"axis_label\":\"Population Density\",\"formatter\":{\"id\":\"1405\",\"type\":\"BasicTickFormatter\"},\"plot\":{\"id\":\"1363\",\"subtype\":\"Figure\",\"type\":\"Plot\"},\"ticker\":{\"id\":\"1379\",\"type\":\"BasicTicker\"}},\"id\":\"1378\",\"type\":\"LinearAxis\"},{\"attributes\":{\"active_drag\":\"auto\",\"active_inspect\":\"auto\",\"active_multi\":null,\"active_scroll\":\"auto\",\"active_tap\":\"auto\",\"tools\":[{\"id\":\"1383\",\"type\":\"PanTool\"},{\"id\":\"1384\",\"type\":\"WheelZoomTool\"},{\"id\":\"1385\",\"type\":\"BoxZoomTool\"},{\"id\":\"1386\",\"type\":\"SaveTool\"},{\"id\":\"1387\",\"type\":\"ResetTool\"},{\"id\":\"1388\",\"type\":\"HelpTool\"}]},\"id\":\"1389\",\"type\":\"Toolbar\"},{\"attributes\":{},\"id\":\"1379\",\"type\":\"BasicTicker\"},{\"attributes\":{\"callback\":null,\"data\":{\"x\":[\"1960\",\"1961\",\"1962\",\"1963\",\"1964\",\"1965\",\"1966\",\"1967\",\"1968\",\"1969\",\"1970\",\"1971\",\"1972\",\"1973\",\"1974\",\"1975\",\"1976\",\"1977\",\"1978\",\"1979\",\"1980\",\"1981\",\"1982\",\"1983\",\"1984\",\"1985\",\"1986\",\"1987\",\"1988\",\"1989\",\"1990\",\"1991\",\"1992\",\"1993\",\"1994\",\"1995\",\"1996\",\"1997\",\"1998\",\"1999\",\"2000\",\"2001\",\"2002\",\"2003\",\"2004\",\"2005\",\"2006\",\"2007\",\"2008\",\"2009\",\"2010\",\"2011\",\"2012\",\"2013\",\"2014\",\"2015\",\"2016\"],\"y\":[\"NaN\",176.91514132840538,180.70323050794593,184.57241256109344,188.46179693657592,192.41236330666325,196.1450416961425,200.11806255626678,203.87946438971804,207.33610181304104,210.60787064082177,213.48969393068052,215.99847537207978,218.43870788704376,220.62121004259265,223.04637519433024,224.96025763925198,227.00673421731884,229.1873062407636,232.51077226706067,236.18535672882632,240.78950804386412,246.17517809033163,251.3423894719884,256.6478215554073,261.6807506547611,266.6470381207154,271.7683000551185,276.8132590801086,281.8500544091742,286.0623871161408,288.2925657814559,293.30541582390026,297.7591598237129,302.2754632081671,304.53727599332007,309.71494823309297,313.8969349401545,320.40598102076814,324.0046693079564,327.27075970951086,312.25956971997635,313.2690425735656,315.8476133540732,317.7465585486514,322.6695344714618,326.9079713506048,331.99547408201454,338.68841727220155,343.6492057765068,347.96702857044494,351.94202734671825,357.78730527189884,360.98572564595446,364.8491936638938,368.7066010400187,\"NaN\"]},\"selected\":{\"id\":\"1422\",\"type\":\"Selection\"},\"selection_policy\":{\"id\":\"1423\",\"type\":\"UnionRenderers\"}},\"id\":\"1398\",\"type\":\"ColumnDataSource\"},{\"attributes\":{\"axis_label\":\"Year\",\"formatter\":{\"id\":\"1407\",\"type\":\"BasicTickFormatter\"},\"plot\":{\"id\":\"1363\",\"subtype\":\"Figure\",\"type\":\"Plot\"},\"ticker\":{\"id\":\"1374\",\"type\":\"BasicTicker\"}},\"id\":\"1373\",\"type\":\"LinearAxis\"},{\"attributes\":{\"dimension\":1,\"plot\":{\"id\":\"1363\",\"subtype\":\"Figure\",\"type\":\"Plot\"},\"ticker\":{\"id\":\"1379\",\"type\":\"BasicTicker\"}},\"id\":\"1382\",\"type\":\"Grid\"},{\"attributes\":{\"label\":{\"value\":\"Global Mean\"},\"renderers\":[{\"id\":\"1401\",\"type\":\"GlyphRenderer\"}]},\"id\":\"1410\",\"type\":\"LegendItem\"},{\"attributes\":{\"plot\":null,\"text\":\"Gloabal Mean Population Density compared to Japan\"},\"id\":\"1362\",\"type\":\"Title\"},{\"attributes\":{\"line_color\":\"#1f77b4\",\"line_width\":2,\"x\":{\"field\":\"x\"},\"y\":{\"field\":\"y\"}},\"id\":\"1399\",\"type\":\"Line\"},{\"attributes\":{},\"id\":\"1388\",\"type\":\"HelpTool\"}],\"root_ids\":[\"1363\"]},\"title\":\"Bokeh Application\",\"version\":\"1.0.2\"}};\n",
       "  var render_items = [{\"docid\":\"1e872e9e-7b82-4171-88c7-4f8f47494751\",\"roots\":{\"1363\":\"6c1ad5f5-b2c7-469f-87b3-981ce71ecd56\"}}];\n",
       "  root.Bokeh.embed.embed_items_notebook(docs_json, render_items);\n",
       "\n",
       "  }\n",
       "  if (root.Bokeh !== undefined) {\n",
       "    embed_document(root);\n",
       "  } else {\n",
       "    var attempts = 0;\n",
       "    var timer = setInterval(function(root) {\n",
       "      if (root.Bokeh !== undefined) {\n",
       "        embed_document(root);\n",
       "        clearInterval(timer);\n",
       "      }\n",
       "      attempts++;\n",
       "      if (attempts > 100) {\n",
       "        console.log(\"Bokeh: ERROR: Unable to run BokehJS code because BokehJS library is missing\");\n",
       "        clearInterval(timer);\n",
       "      }\n",
       "    }, 10, root)\n",
       "  }\n",
       "})(window);"
      ],
      "application/vnd.bokehjs_exec.v0+json": ""
     },
     "metadata": {
      "application/vnd.bokehjs_exec.v0+json": {
       "id": "1363"
      }
     },
     "output_type": "display_data"
    }
   ],
   "source": [
    "# plotting the global population density change and the one for Japan \n",
    "plot = figure(title='Global Mean Population Density compared to Japan', x_axis_label='Year', y_axis_label='Population Density')\n",
    "\n",
    "plot.line(years, mean_pop_vals, line_width=2, legend='Global Mean')\n",
    "plot.cross(years, jp_vals, legend='Japan', line_color='red')\n",
    "\n",
    "show(plot)"
   ]
  },
  {
   "cell_type": "markdown",
   "metadata": {},
   "source": [
    "**Note:**   \n",
    "Note that the amount of data points in the first and second argument passed to the plotting methods has to be the same.   \n",
    "If your `x` list has 10 values, your `y` list also has to have 10 values."
   ]
  },
  {
   "cell_type": "markdown",
   "metadata": {},
   "source": [
    "---"
   ]
  },
  {
   "cell_type": "markdown",
   "metadata": {},
   "source": [
    "#### Using the models interface"
   ]
  },
  {
   "cell_type": "code",
   "execution_count": 56,
   "metadata": {},
   "outputs": [],
   "source": [
    "# importing the models dependencies \n",
    "from bokeh.io import show\n",
    "from bokeh.models.grids import Grid\n",
    "from bokeh.models.plots import Plot \n",
    "from bokeh.models.axes import LinearAxis\n",
    "from bokeh.models.ranges import Range1d\n",
    "from bokeh.models.glyphs import Line, Cross\n",
    "from bokeh.models.sources import ColumnDataSource\n",
    "from bokeh.models.tickers import SingleIntervalTicker, YearsTicker\n",
    "from bokeh.models.renderers import GlyphRenderer\n",
    "from bokeh.models.annotations import Title, Legend, LegendItem"
   ]
  },
  {
   "cell_type": "markdown",
   "metadata": {},
   "source": [
    "**Note:**   \n",
    "Even though we are defining all the sub-packages for the imports here, we could also simply use the top level package `models` for each import.   \n",
    "However, keep in mind that this might lead to problems of wrong import references since there might be more than one definition of an element in the bokeh package.   \n",
    "For example the `show` mehtod is defined in the `bokeh.io` and `bokeh.plotting` packages.   \n",
    "\n",
    "All the sub-packages of the models interface can be found here:   \n",
    "http://bokeh.pydata.org/en/latest/docs/reference/models.html"
   ]
  },
  {
   "cell_type": "markdown",
   "metadata": {},
   "source": [
    "Before we build our plot, we have to find out the `min` and `max` values for the y axis since we don't want to have a too large or small range of values.   \n",
    "For the x axis, we have our list of years pre-defined."
   ]
  },
  {
   "cell_type": "code",
   "execution_count": 57,
   "metadata": {},
   "outputs": [],
   "source": [
    "# defining the range for the x and y axis\n",
    "extracted_mean_pop_vals = [val for i, val in enumerate(mean_pop_vals)\n",
    "                    if i not in [0, len(mean_pop_vals) - 1]]\n",
    "extracted_jp_vals = [jp_val['Japan'] for i, jp_val in enumerate(jp_vals)\n",
    "                    if i not in [0, len(jp_vals) - 1]]\n",
    "\n",
    "min_pop_density = min(extracted_mean_pop_vals)\n",
    "min_jp_densitiy = min(extracted_jp_vals)\n",
    "min_y = int(min(min_pop_density, min_jp_densitiy))\n",
    "\n",
    "max_pop_density = max(extracted_mean_pop_vals)\n",
    "max_jp_densitiy = max(extracted_jp_vals)\n",
    "max_y = int(max(max_jp_densitiy, max_pop_density))\n",
    "\n",
    "xdr = Range1d(int(years[0]), int(years[-1]))\n",
    "ydr = Range1d(min_y, max_y)"
   ]
  },
  {
   "cell_type": "markdown",
   "metadata": {},
   "source": [
    "Once we have the min and max values for the y axis, we can create two `Axis` objects that will be used to display the axis lines and the label for the axis.   \n",
    "Since we also want ticks between the different values, we have to pass in a `Ticker` object that creates this setup for us."
   ]
  },
  {
   "cell_type": "code",
   "execution_count": 58,
   "metadata": {},
   "outputs": [],
   "source": [
    "# creating the axis\n",
    "axis_def = dict(\n",
    "    axis_line_color='#222222',\n",
    "    axis_line_width=1,\n",
    "    major_tick_line_color='#222222',\n",
    "    major_label_text_color='#222222',\n",
    "    major_tick_line_width=1,\n",
    ")\n",
    "\n",
    "x_axis = LinearAxis(\n",
    "    ticker = SingleIntervalTicker(interval=10),\n",
    "    axis_label = 'Year',\n",
    "    **axis_def\n",
    ")\n",
    "\n",
    "y_axis = LinearAxis(\n",
    "    ticker = SingleIntervalTicker(interval=50),\n",
    "    axis_label = 'Population Density',\n",
    "    **axis_def\n",
    ")"
   ]
  },
  {
   "cell_type": "markdown",
   "metadata": {},
   "source": [
    "Creating the title and plot itself are straight forward. We can pass a `Title` object to the title attribute of the `Plot` object."
   ]
  },
  {
   "cell_type": "code",
   "execution_count": 59,
   "metadata": {},
   "outputs": [],
   "source": [
    "# creating the plot object\n",
    "title = Title(\n",
    "    align = 'left',\n",
    "    text = 'Global Mean Population Density compared to Japan'\n",
    ")\n",
    "\n",
    "plot = Plot(\n",
    "    x_range=xdr,\n",
    "    y_range=ydr,\n",
    "    plot_width=650,\n",
    "    plot_height=600,\n",
    "    title=title\n",
    ")"
   ]
  },
  {
   "cell_type": "code",
   "execution_count": 61,
   "metadata": {},
   "outputs": [
    {
     "name": "stderr",
     "output_type": "stream",
     "text": [
      "WARNING:bokeh.core.validation.check:W-1000 (MISSING_RENDERERS): Plot has no renderers: Plot(id='2393', ...)\n"
     ]
    },
    {
     "data": {
      "text/html": [
       "\n",
       "\n",
       "\n",
       "\n",
       "\n",
       "\n",
       "  <div class=\"bk-root\" id=\"d8102aaf-dbd0-4549-bad1-5fe7274b7943\"></div>\n"
      ]
     },
     "metadata": {},
     "output_type": "display_data"
    },
    {
     "data": {
      "application/javascript": [
       "(function(root) {\n",
       "  function embed_document(root) {\n",
       "    \n",
       "  var docs_json = {\"cdbe02fd-5c24-4c40-8d65-84b667dc2fd6\":{\"roots\":{\"references\":[{\"attributes\":{\"plot_width\":650,\"title\":{\"id\":\"2392\",\"type\":\"Title\"},\"toolbar\":{\"id\":\"2454\",\"type\":\"Toolbar\"},\"x_range\":{\"id\":\"2384\",\"type\":\"Range1d\"},\"x_scale\":{\"id\":\"2453\",\"type\":\"LinearScale\"},\"y_range\":{\"id\":\"2385\",\"type\":\"Range1d\"},\"y_scale\":{\"id\":\"2455\",\"type\":\"LinearScale\"}},\"id\":\"2393\",\"type\":\"Plot\"},{\"attributes\":{\"callback\":null,\"end\":368,\"start\":176},\"id\":\"2385\",\"type\":\"Range1d\"},{\"attributes\":{},\"id\":\"2455\",\"type\":\"LinearScale\"},{\"attributes\":{\"callback\":null,\"end\":2016,\"start\":1960},\"id\":\"2384\",\"type\":\"Range1d\"},{\"attributes\":{\"active_drag\":\"auto\",\"active_inspect\":\"auto\",\"active_multi\":null,\"active_scroll\":\"auto\",\"active_tap\":\"auto\"},\"id\":\"2454\",\"type\":\"Toolbar\"},{\"attributes\":{},\"id\":\"2453\",\"type\":\"LinearScale\"},{\"attributes\":{\"plot\":null,\"text\":\"Gloabal Mean Population Density compared to Japan\"},\"id\":\"2392\",\"type\":\"Title\"}],\"root_ids\":[\"2393\"]},\"title\":\"Bokeh Application\",\"version\":\"1.0.2\"}};\n",
       "  var render_items = [{\"docid\":\"cdbe02fd-5c24-4c40-8d65-84b667dc2fd6\",\"roots\":{\"2393\":\"d8102aaf-dbd0-4549-bad1-5fe7274b7943\"}}];\n",
       "  root.Bokeh.embed.embed_items_notebook(docs_json, render_items);\n",
       "\n",
       "  }\n",
       "  if (root.Bokeh !== undefined) {\n",
       "    embed_document(root);\n",
       "  } else {\n",
       "    var attempts = 0;\n",
       "    var timer = setInterval(function(root) {\n",
       "      if (root.Bokeh !== undefined) {\n",
       "        embed_document(root);\n",
       "        clearInterval(timer);\n",
       "      }\n",
       "      attempts++;\n",
       "      if (attempts > 100) {\n",
       "        console.log(\"Bokeh: ERROR: Unable to run BokehJS code because BokehJS library is missing\");\n",
       "        clearInterval(timer);\n",
       "      }\n",
       "    }, 10, root)\n",
       "  }\n",
       "})(window);"
      ],
      "application/vnd.bokehjs_exec.v0+json": ""
     },
     "metadata": {
      "application/vnd.bokehjs_exec.v0+json": {
       "id": "2393"
      }
     },
     "output_type": "display_data"
    }
   ],
   "source": [
    "# error will be thrown because we are missing renderers that are created when adding elements\n",
    "show(plot)"
   ]
  },
  {
   "cell_type": "markdown",
   "metadata": {},
   "source": [
    "When working with data, we always need to insert our data into a `DataSource` object. This can then be used to map the data source to the `Glyph` object that will be displayed in the plot."
   ]
  },
  {
   "cell_type": "code",
   "execution_count": 49,
   "metadata": {},
   "outputs": [],
   "source": [
    "# creating the data display\n",
    "line_source = ColumnDataSource(dict(\n",
    "    x=years,\n",
    "    y=mean_pop_vals\n",
    "))\n",
    "\n",
    "line_glyph = Line(x='x', y='y', line_color='#2678b2', line_width=2)\n",
    "\n",
    "cross_source = ColumnDataSource(dict(\n",
    "    x=years,\n",
    "    y=jp_vals\n",
    "))\n",
    "\n",
    "cross_glyph = Cross(x='x', y='y', line_color='#fc1d26')"
   ]
  },
  {
   "cell_type": "markdown",
   "metadata": {},
   "source": [
    "When adding objects to the plot, have to use the right add method.   \n",
    "For layout elements like the `Axis` objects, we have to use the `add_layout`method.   \n",
    "\n",
    "`Glyphs`, that display our data have to be added with the `add_glyph` method."
   ]
  },
  {
   "cell_type": "code",
   "execution_count": 50,
   "metadata": {},
   "outputs": [],
   "source": [
    "# assembling the plot\n",
    "plot.add_layout(x_axis, 'below')\n",
    "plot.add_layout(y_axis, 'left')\n",
    "\n",
    "line_renderer = plot.add_glyph(line_source, line_glyph)\n",
    "cross_renderer = plot.add_glyph(cross_source, cross_glyph)"
   ]
  },
  {
   "cell_type": "code",
   "execution_count": 51,
   "metadata": {},
   "outputs": [
    {
     "data": {
      "text/html": [
       "\n",
       "\n",
       "\n",
       "\n",
       "\n",
       "\n",
       "  <div class=\"bk-root\" id=\"15cb4bbd-c9c5-4adc-87ba-6e83b1f60f63\"></div>\n"
      ]
     },
     "metadata": {},
     "output_type": "display_data"
    },
    {
     "data": {
      "application/javascript": [
       "(function(root) {\n",
       "  function embed_document(root) {\n",
       "    \n",
       "  var docs_json = {\"988a8d45-60a2-492a-9047-1db4e5ec07b1\":{\"roots\":{\"references\":[{\"attributes\":{\"below\":[{\"id\":\"2013\",\"type\":\"LinearAxis\"}],\"left\":[{\"id\":\"2016\",\"type\":\"LinearAxis\"}],\"plot_width\":650,\"renderers\":[{\"id\":\"2013\",\"type\":\"LinearAxis\"},{\"id\":\"2016\",\"type\":\"LinearAxis\"},{\"id\":\"2027\",\"type\":\"GlyphRenderer\"},{\"id\":\"2029\",\"type\":\"GlyphRenderer\"}],\"title\":{\"id\":\"2018\",\"type\":\"Title\"},\"toolbar\":{\"id\":\"2079\",\"type\":\"Toolbar\"},\"x_range\":{\"id\":\"2010\",\"type\":\"Range1d\"},\"x_scale\":{\"id\":\"2078\",\"type\":\"LinearScale\"},\"y_range\":{\"id\":\"2011\",\"type\":\"Range1d\"},\"y_scale\":{\"id\":\"2080\",\"type\":\"LinearScale\"}},\"id\":\"2019\",\"type\":\"Plot\"},{\"attributes\":{\"axis_label\":\"Population Density\",\"axis_line_color\":{\"value\":\"#222222\"},\"formatter\":{\"id\":\"2081\",\"type\":\"BasicTickFormatter\"},\"major_label_text_color\":{\"value\":\"#222222\"},\"major_tick_line_color\":{\"value\":\"#222222\"},\"plot\":{\"id\":\"2019\",\"type\":\"Plot\"},\"ticker\":{\"id\":\"2015\",\"type\":\"SingleIntervalTicker\"}},\"id\":\"2016\",\"type\":\"LinearAxis\"},{\"attributes\":{\"source\":{\"id\":\"2023\",\"type\":\"ColumnDataSource\"}},\"id\":\"2028\",\"type\":\"CDSView\"},{\"attributes\":{},\"id\":\"2083\",\"type\":\"Selection\"},{\"attributes\":{\"data_source\":{\"id\":\"2023\",\"type\":\"ColumnDataSource\"},\"glyph\":{\"id\":\"2024\",\"type\":\"Line\"},\"hover_glyph\":null,\"muted_glyph\":null,\"view\":{\"id\":\"2028\",\"type\":\"CDSView\"}},\"id\":\"2027\",\"type\":\"GlyphRenderer\"},{\"attributes\":{},\"id\":\"2080\",\"type\":\"LinearScale\"},{\"attributes\":{\"axis_label\":\"Year\",\"axis_line_color\":{\"value\":\"#222222\"},\"formatter\":{\"id\":\"2082\",\"type\":\"BasicTickFormatter\"},\"major_label_text_color\":{\"value\":\"#222222\"},\"major_tick_line_color\":{\"value\":\"#222222\"},\"plot\":{\"id\":\"2019\",\"type\":\"Plot\"},\"ticker\":{\"id\":\"2012\",\"type\":\"SingleIntervalTicker\"}},\"id\":\"2013\",\"type\":\"LinearAxis\"},{\"attributes\":{\"active_drag\":\"auto\",\"active_inspect\":\"auto\",\"active_multi\":null,\"active_scroll\":\"auto\",\"active_tap\":\"auto\"},\"id\":\"2079\",\"type\":\"Toolbar\"},{\"attributes\":{},\"id\":\"2082\",\"type\":\"BasicTickFormatter\"},{\"attributes\":{\"source\":{\"id\":\"2025\",\"type\":\"ColumnDataSource\"}},\"id\":\"2030\",\"type\":\"CDSView\"},{\"attributes\":{\"callback\":null,\"end\":368,\"start\":176},\"id\":\"2011\",\"type\":\"Range1d\"},{\"attributes\":{\"callback\":null,\"data\":{\"x\":[\"1960\",\"1961\",\"1962\",\"1963\",\"1964\",\"1965\",\"1966\",\"1967\",\"1968\",\"1969\",\"1970\",\"1971\",\"1972\",\"1973\",\"1974\",\"1975\",\"1976\",\"1977\",\"1978\",\"1979\",\"1980\",\"1981\",\"1982\",\"1983\",\"1984\",\"1985\",\"1986\",\"1987\",\"1988\",\"1989\",\"1990\",\"1991\",\"1992\",\"1993\",\"1994\",\"1995\",\"1996\",\"1997\",\"1998\",\"1999\",\"2000\",\"2001\",\"2002\",\"2003\",\"2004\",\"2005\",\"2006\",\"2007\",\"2008\",\"2009\",\"2010\",\"2011\",\"2012\",\"2013\",\"2014\",\"2015\",\"2016\"],\"y\":[\"NaN\",176.91514132840538,180.70323050794593,184.57241256109344,188.46179693657592,192.41236330666325,196.1450416961425,200.11806255626678,203.87946438971804,207.33610181304104,210.60787064082177,213.48969393068052,215.99847537207978,218.43870788704376,220.62121004259265,223.04637519433024,224.96025763925198,227.00673421731884,229.1873062407636,232.51077226706067,236.18535672882632,240.78950804386412,246.17517809033163,251.3423894719884,256.6478215554073,261.6807506547611,266.6470381207154,271.7683000551185,276.8132590801086,281.8500544091742,286.0623871161408,288.2925657814559,293.30541582390026,297.7591598237129,302.2754632081671,304.53727599332007,309.71494823309297,313.8969349401545,320.40598102076814,324.0046693079564,327.27075970951086,312.25956971997635,313.2690425735656,315.8476133540732,317.7465585486514,322.6695344714618,326.9079713506048,331.99547408201454,338.68841727220155,343.6492057765068,347.96702857044494,351.94202734671825,357.78730527189884,360.98572564595446,364.8491936638938,368.7066010400187,\"NaN\"]},\"selected\":{\"id\":\"2083\",\"type\":\"Selection\"},\"selection_policy\":{\"id\":\"2084\",\"type\":\"UnionRenderers\"}},\"id\":\"2023\",\"type\":\"ColumnDataSource\"},{\"attributes\":{\"callback\":null,\"end\":2016,\"start\":1960},\"id\":\"2010\",\"type\":\"Range1d\"},{\"attributes\":{\"line_color\":\"#2678b2\",\"line_width\":2,\"x\":{\"field\":\"x\"},\"y\":{\"field\":\"y\"}},\"id\":\"2024\",\"type\":\"Line\"},{\"attributes\":{\"callback\":null,\"data\":{\"x\":[\"1960\",\"1961\",\"1962\",\"1963\",\"1964\",\"1965\",\"1966\",\"1967\",\"1968\",\"1969\",\"1970\",\"1971\",\"1972\",\"1973\",\"1974\",\"1975\",\"1976\",\"1977\",\"1978\",\"1979\",\"1980\",\"1981\",\"1982\",\"1983\",\"1984\",\"1985\",\"1986\",\"1987\",\"1988\",\"1989\",\"1990\",\"1991\",\"1992\",\"1993\",\"1994\",\"1995\",\"1996\",\"1997\",\"1998\",\"1999\",\"2000\",\"2001\",\"2002\",\"2003\",\"2004\",\"2005\",\"2006\",\"2007\",\"2008\",\"2009\",\"2010\",\"2011\",\"2012\",\"2013\",\"2014\",\"2015\",\"2016\"],\"y\":[[\"NaN\"],[258.911917098446],[261.336242159804],[264.008726479411],[266.77392964276004],[269.656394873193],[272.129806381238],[274.679574584129],[275.59585492227995],[281.352604308699],[284.55140441778],[288.238341968912],[292.384069830878],[294.81451172940496],[300.496453900709],[305.429740791269],[307.697135061392],[310.761462882096],[313.586244541485],[316.239082969432],[318.81517881517897],[321.091703056769],[323.454396504642],[325.666302566903],[329.086920756786],[331.19583104772397],[333.128598848369],[334.862863411958],[336.294569391114],[337.674163466813],[338.828853538124],[339.882062534284],[340.726823916621],[341.568842567197],[342.734503565551],[344.04552934723],[345.012345679012],[345.835390946502],[346.776406035665],[347.410150891632],[347.99176954732496],[348.831275720165],[349.643347050754],[350.39231824417],[350.51028806584395],[350.54320987654296],[350.765432098765],[351.168724279835],[351.338820301783],[351.29492455418404],[351.30983404196996],[350.611778743948],[349.90533519859594],[349.294000987492],[348.726684222076],[348.25123985077903],[\"NaN\"]]},\"selected\":{\"id\":\"2085\",\"type\":\"Selection\"},\"selection_policy\":{\"id\":\"2086\",\"type\":\"UnionRenderers\"}},\"id\":\"2025\",\"type\":\"ColumnDataSource\"},{\"attributes\":{\"line_color\":{\"value\":\"#fc1d26\"},\"x\":{\"field\":\"x\"},\"y\":{\"field\":\"y\"}},\"id\":\"2026\",\"type\":\"Cross\"},{\"attributes\":{\"interval\":10},\"id\":\"2012\",\"type\":\"SingleIntervalTicker\"},{\"attributes\":{\"interval\":50},\"id\":\"2015\",\"type\":\"SingleIntervalTicker\"},{\"attributes\":{\"data_source\":{\"id\":\"2025\",\"type\":\"ColumnDataSource\"},\"glyph\":{\"id\":\"2026\",\"type\":\"Cross\"},\"hover_glyph\":null,\"muted_glyph\":null,\"view\":{\"id\":\"2030\",\"type\":\"CDSView\"}},\"id\":\"2029\",\"type\":\"GlyphRenderer\"},{\"attributes\":{},\"id\":\"2078\",\"type\":\"LinearScale\"},{\"attributes\":{},\"id\":\"2081\",\"type\":\"BasicTickFormatter\"},{\"attributes\":{},\"id\":\"2086\",\"type\":\"UnionRenderers\"},{\"attributes\":{},\"id\":\"2085\",\"type\":\"Selection\"},{\"attributes\":{},\"id\":\"2084\",\"type\":\"UnionRenderers\"},{\"attributes\":{\"plot\":null,\"text\":\"Gloabal Mean Population Density compared to Japan\"},\"id\":\"2018\",\"type\":\"Title\"}],\"root_ids\":[\"2019\"]},\"title\":\"Bokeh Application\",\"version\":\"1.0.2\"}};\n",
       "  var render_items = [{\"docid\":\"988a8d45-60a2-492a-9047-1db4e5ec07b1\",\"roots\":{\"2019\":\"15cb4bbd-c9c5-4adc-87ba-6e83b1f60f63\"}}];\n",
       "  root.Bokeh.embed.embed_items_notebook(docs_json, render_items);\n",
       "\n",
       "  }\n",
       "  if (root.Bokeh !== undefined) {\n",
       "    embed_document(root);\n",
       "  } else {\n",
       "    var attempts = 0;\n",
       "    var timer = setInterval(function(root) {\n",
       "      if (root.Bokeh !== undefined) {\n",
       "        embed_document(root);\n",
       "        clearInterval(timer);\n",
       "      }\n",
       "      attempts++;\n",
       "      if (attempts > 100) {\n",
       "        console.log(\"Bokeh: ERROR: Unable to run BokehJS code because BokehJS library is missing\");\n",
       "        clearInterval(timer);\n",
       "      }\n",
       "    }, 10, root)\n",
       "  }\n",
       "})(window);"
      ],
      "application/vnd.bokehjs_exec.v0+json": ""
     },
     "metadata": {
      "application/vnd.bokehjs_exec.v0+json": {
       "id": "2019"
      }
     },
     "output_type": "display_data"
    }
   ],
   "source": [
    "# showing the plot\n",
    "show(plot)"
   ]
  },
  {
   "cell_type": "markdown",
   "metadata": {},
   "source": [
    "In order to add a legend to our plot, we again have to use an object.   \n",
    "Each `LegendItem` object will be displayed in one line in the legend."
   ]
  },
  {
   "cell_type": "code",
   "execution_count": 52,
   "metadata": {},
   "outputs": [],
   "source": [
    "# creating the legend\n",
    "legend_items= [\n",
    "    LegendItem(label='Global Mean', renderers=[line_renderer]),\n",
    "    LegendItem(label='Japan', renderers=[cross_renderer])\n",
    "]\n",
    "\n",
    "legend = Legend(\n",
    "    items=legend_items,\n",
    "    location='top_right'\n",
    ")"
   ]
  },
  {
   "cell_type": "markdown",
   "metadata": {},
   "source": [
    "Creating the grid is straightforward, we simply have to instantiate two `Grid`objects for the x and y axis. These grids will get the tickers of the previously created x and y axis."
   ]
  },
  {
   "cell_type": "code",
   "execution_count": 53,
   "metadata": {},
   "outputs": [],
   "source": [
    "# creating the grid\n",
    "x_grid = Grid(dimension=0, ticker=x_axis.ticker)\n",
    "y_grid = Grid(dimension=1, ticker=y_axis.ticker)"
   ]
  },
  {
   "cell_type": "markdown",
   "metadata": {},
   "source": [
    "To add the last final touches, we, again, use the `add_layout` method to add the grid and the legend to our plot.   \n",
    "\n",
    "After this, we can finally display our complete plot that will look like the one we've created in the first task with only 4 lines of code."
   ]
  },
  {
   "cell_type": "code",
   "execution_count": 54,
   "metadata": {},
   "outputs": [
    {
     "data": {
      "text/html": [
       "\n",
       "\n",
       "\n",
       "\n",
       "\n",
       "\n",
       "  <div class=\"bk-root\" id=\"bfe4b9af-8870-4483-b370-b5fbaf633afb\"></div>\n"
      ]
     },
     "metadata": {},
     "output_type": "display_data"
    },
    {
     "data": {
      "application/javascript": [
       "(function(root) {\n",
       "  function embed_document(root) {\n",
       "    \n",
       "  var docs_json = {\"7c765c40-a403-423b-8bc8-bec9de38d4dc\":{\"roots\":{\"references\":[{\"attributes\":{\"below\":[{\"id\":\"2013\",\"type\":\"LinearAxis\"}],\"left\":[{\"id\":\"2016\",\"type\":\"LinearAxis\"}],\"plot_width\":650,\"renderers\":[{\"id\":\"2013\",\"type\":\"LinearAxis\"},{\"id\":\"2016\",\"type\":\"LinearAxis\"},{\"id\":\"2027\",\"type\":\"GlyphRenderer\"},{\"id\":\"2029\",\"type\":\"GlyphRenderer\"},{\"id\":\"2151\",\"type\":\"Legend\"},{\"id\":\"2152\",\"type\":\"Grid\"},{\"id\":\"2153\",\"type\":\"Grid\"}],\"title\":{\"id\":\"2018\",\"type\":\"Title\"},\"toolbar\":{\"id\":\"2079\",\"type\":\"Toolbar\"},\"x_range\":{\"id\":\"2010\",\"type\":\"Range1d\"},\"x_scale\":{\"id\":\"2078\",\"type\":\"LinearScale\"},\"y_range\":{\"id\":\"2011\",\"type\":\"Range1d\"},\"y_scale\":{\"id\":\"2080\",\"type\":\"LinearScale\"}},\"id\":\"2019\",\"type\":\"Plot\"},{\"attributes\":{\"axis_label\":\"Population Density\",\"axis_line_color\":{\"value\":\"#222222\"},\"formatter\":{\"id\":\"2081\",\"type\":\"BasicTickFormatter\"},\"major_label_text_color\":{\"value\":\"#222222\"},\"major_tick_line_color\":{\"value\":\"#222222\"},\"plot\":{\"id\":\"2019\",\"type\":\"Plot\"},\"ticker\":{\"id\":\"2015\",\"type\":\"SingleIntervalTicker\"}},\"id\":\"2016\",\"type\":\"LinearAxis\"},{\"attributes\":{\"source\":{\"id\":\"2023\",\"type\":\"ColumnDataSource\"}},\"id\":\"2028\",\"type\":\"CDSView\"},{\"attributes\":{},\"id\":\"2083\",\"type\":\"Selection\"},{\"attributes\":{\"data_source\":{\"id\":\"2023\",\"type\":\"ColumnDataSource\"},\"glyph\":{\"id\":\"2024\",\"type\":\"Line\"},\"hover_glyph\":null,\"muted_glyph\":null,\"view\":{\"id\":\"2028\",\"type\":\"CDSView\"}},\"id\":\"2027\",\"type\":\"GlyphRenderer\"},{\"attributes\":{},\"id\":\"2080\",\"type\":\"LinearScale\"},{\"attributes\":{\"axis_label\":\"Year\",\"axis_line_color\":{\"value\":\"#222222\"},\"formatter\":{\"id\":\"2082\",\"type\":\"BasicTickFormatter\"},\"major_label_text_color\":{\"value\":\"#222222\"},\"major_tick_line_color\":{\"value\":\"#222222\"},\"plot\":{\"id\":\"2019\",\"type\":\"Plot\"},\"ticker\":{\"id\":\"2012\",\"type\":\"SingleIntervalTicker\"}},\"id\":\"2013\",\"type\":\"LinearAxis\"},{\"attributes\":{\"items\":[{\"id\":\"2149\",\"type\":\"LegendItem\"},{\"id\":\"2150\",\"type\":\"LegendItem\"}],\"plot\":{\"id\":\"2019\",\"type\":\"Plot\"}},\"id\":\"2151\",\"type\":\"Legend\"},{\"attributes\":{\"active_drag\":\"auto\",\"active_inspect\":\"auto\",\"active_multi\":null,\"active_scroll\":\"auto\",\"active_tap\":\"auto\"},\"id\":\"2079\",\"type\":\"Toolbar\"},{\"attributes\":{},\"id\":\"2082\",\"type\":\"BasicTickFormatter\"},{\"attributes\":{\"source\":{\"id\":\"2025\",\"type\":\"ColumnDataSource\"}},\"id\":\"2030\",\"type\":\"CDSView\"},{\"attributes\":{\"callback\":null,\"end\":368,\"start\":176},\"id\":\"2011\",\"type\":\"Range1d\"},{\"attributes\":{\"callback\":null,\"data\":{\"x\":[\"1960\",\"1961\",\"1962\",\"1963\",\"1964\",\"1965\",\"1966\",\"1967\",\"1968\",\"1969\",\"1970\",\"1971\",\"1972\",\"1973\",\"1974\",\"1975\",\"1976\",\"1977\",\"1978\",\"1979\",\"1980\",\"1981\",\"1982\",\"1983\",\"1984\",\"1985\",\"1986\",\"1987\",\"1988\",\"1989\",\"1990\",\"1991\",\"1992\",\"1993\",\"1994\",\"1995\",\"1996\",\"1997\",\"1998\",\"1999\",\"2000\",\"2001\",\"2002\",\"2003\",\"2004\",\"2005\",\"2006\",\"2007\",\"2008\",\"2009\",\"2010\",\"2011\",\"2012\",\"2013\",\"2014\",\"2015\",\"2016\"],\"y\":[\"NaN\",176.91514132840538,180.70323050794593,184.57241256109344,188.46179693657592,192.41236330666325,196.1450416961425,200.11806255626678,203.87946438971804,207.33610181304104,210.60787064082177,213.48969393068052,215.99847537207978,218.43870788704376,220.62121004259265,223.04637519433024,224.96025763925198,227.00673421731884,229.1873062407636,232.51077226706067,236.18535672882632,240.78950804386412,246.17517809033163,251.3423894719884,256.6478215554073,261.6807506547611,266.6470381207154,271.7683000551185,276.8132590801086,281.8500544091742,286.0623871161408,288.2925657814559,293.30541582390026,297.7591598237129,302.2754632081671,304.53727599332007,309.71494823309297,313.8969349401545,320.40598102076814,324.0046693079564,327.27075970951086,312.25956971997635,313.2690425735656,315.8476133540732,317.7465585486514,322.6695344714618,326.9079713506048,331.99547408201454,338.68841727220155,343.6492057765068,347.96702857044494,351.94202734671825,357.78730527189884,360.98572564595446,364.8491936638938,368.7066010400187,\"NaN\"]},\"selected\":{\"id\":\"2083\",\"type\":\"Selection\"},\"selection_policy\":{\"id\":\"2084\",\"type\":\"UnionRenderers\"}},\"id\":\"2023\",\"type\":\"ColumnDataSource\"},{\"attributes\":{\"callback\":null,\"end\":2016,\"start\":1960},\"id\":\"2010\",\"type\":\"Range1d\"},{\"attributes\":{\"line_color\":\"#2678b2\",\"line_width\":2,\"x\":{\"field\":\"x\"},\"y\":{\"field\":\"y\"}},\"id\":\"2024\",\"type\":\"Line\"},{\"attributes\":{\"callback\":null,\"data\":{\"x\":[\"1960\",\"1961\",\"1962\",\"1963\",\"1964\",\"1965\",\"1966\",\"1967\",\"1968\",\"1969\",\"1970\",\"1971\",\"1972\",\"1973\",\"1974\",\"1975\",\"1976\",\"1977\",\"1978\",\"1979\",\"1980\",\"1981\",\"1982\",\"1983\",\"1984\",\"1985\",\"1986\",\"1987\",\"1988\",\"1989\",\"1990\",\"1991\",\"1992\",\"1993\",\"1994\",\"1995\",\"1996\",\"1997\",\"1998\",\"1999\",\"2000\",\"2001\",\"2002\",\"2003\",\"2004\",\"2005\",\"2006\",\"2007\",\"2008\",\"2009\",\"2010\",\"2011\",\"2012\",\"2013\",\"2014\",\"2015\",\"2016\"],\"y\":[[\"NaN\"],[258.911917098446],[261.336242159804],[264.008726479411],[266.77392964276004],[269.656394873193],[272.129806381238],[274.679574584129],[275.59585492227995],[281.352604308699],[284.55140441778],[288.238341968912],[292.384069830878],[294.81451172940496],[300.496453900709],[305.429740791269],[307.697135061392],[310.761462882096],[313.586244541485],[316.239082969432],[318.81517881517897],[321.091703056769],[323.454396504642],[325.666302566903],[329.086920756786],[331.19583104772397],[333.128598848369],[334.862863411958],[336.294569391114],[337.674163466813],[338.828853538124],[339.882062534284],[340.726823916621],[341.568842567197],[342.734503565551],[344.04552934723],[345.012345679012],[345.835390946502],[346.776406035665],[347.410150891632],[347.99176954732496],[348.831275720165],[349.643347050754],[350.39231824417],[350.51028806584395],[350.54320987654296],[350.765432098765],[351.168724279835],[351.338820301783],[351.29492455418404],[351.30983404196996],[350.611778743948],[349.90533519859594],[349.294000987492],[348.726684222076],[348.25123985077903],[\"NaN\"]]},\"selected\":{\"id\":\"2085\",\"type\":\"Selection\"},\"selection_policy\":{\"id\":\"2086\",\"type\":\"UnionRenderers\"}},\"id\":\"2025\",\"type\":\"ColumnDataSource\"},{\"attributes\":{},\"id\":\"2085\",\"type\":\"Selection\"},{\"attributes\":{\"line_color\":{\"value\":\"#fc1d26\"},\"x\":{\"field\":\"x\"},\"y\":{\"field\":\"y\"}},\"id\":\"2026\",\"type\":\"Cross\"},{\"attributes\":{},\"id\":\"2084\",\"type\":\"UnionRenderers\"},{\"attributes\":{\"dimension\":1,\"plot\":{\"id\":\"2019\",\"type\":\"Plot\"},\"ticker\":{\"id\":\"2015\",\"type\":\"SingleIntervalTicker\"}},\"id\":\"2153\",\"type\":\"Grid\"},{\"attributes\":{\"interval\":10},\"id\":\"2012\",\"type\":\"SingleIntervalTicker\"},{\"attributes\":{\"interval\":50},\"id\":\"2015\",\"type\":\"SingleIntervalTicker\"},{\"attributes\":{\"data_source\":{\"id\":\"2025\",\"type\":\"ColumnDataSource\"},\"glyph\":{\"id\":\"2026\",\"type\":\"Cross\"},\"hover_glyph\":null,\"muted_glyph\":null,\"view\":{\"id\":\"2030\",\"type\":\"CDSView\"}},\"id\":\"2029\",\"type\":\"GlyphRenderer\"},{\"attributes\":{},\"id\":\"2078\",\"type\":\"LinearScale\"},{\"attributes\":{},\"id\":\"2081\",\"type\":\"BasicTickFormatter\"},{\"attributes\":{\"label\":{\"value\":\"Gloabal Mean\"},\"renderers\":[{\"id\":\"2027\",\"type\":\"GlyphRenderer\"}]},\"id\":\"2149\",\"type\":\"LegendItem\"},{\"attributes\":{},\"id\":\"2086\",\"type\":\"UnionRenderers\"},{\"attributes\":{\"plot\":{\"id\":\"2019\",\"type\":\"Plot\"},\"ticker\":{\"id\":\"2012\",\"type\":\"SingleIntervalTicker\"}},\"id\":\"2152\",\"type\":\"Grid\"},{\"attributes\":{\"label\":{\"value\":\"Japan\"},\"renderers\":[{\"id\":\"2029\",\"type\":\"GlyphRenderer\"}]},\"id\":\"2150\",\"type\":\"LegendItem\"},{\"attributes\":{\"plot\":null,\"text\":\"Gloabal Mean Population Density compared to Japan\"},\"id\":\"2018\",\"type\":\"Title\"}],\"root_ids\":[\"2019\"]},\"title\":\"Bokeh Application\",\"version\":\"1.0.2\"}};\n",
       "  var render_items = [{\"docid\":\"7c765c40-a403-423b-8bc8-bec9de38d4dc\",\"roots\":{\"2019\":\"bfe4b9af-8870-4483-b370-b5fbaf633afb\"}}];\n",
       "  root.Bokeh.embed.embed_items_notebook(docs_json, render_items);\n",
       "\n",
       "  }\n",
       "  if (root.Bokeh !== undefined) {\n",
       "    embed_document(root);\n",
       "  } else {\n",
       "    var attempts = 0;\n",
       "    var timer = setInterval(function(root) {\n",
       "      if (root.Bokeh !== undefined) {\n",
       "        embed_document(root);\n",
       "        clearInterval(timer);\n",
       "      }\n",
       "      attempts++;\n",
       "      if (attempts > 100) {\n",
       "        console.log(\"Bokeh: ERROR: Unable to run BokehJS code because BokehJS library is missing\");\n",
       "        clearInterval(timer);\n",
       "      }\n",
       "    }, 10, root)\n",
       "  }\n",
       "})(window);"
      ],
      "application/vnd.bokehjs_exec.v0+json": ""
     },
     "metadata": {
      "application/vnd.bokehjs_exec.v0+json": {
       "id": "2019"
      }
     },
     "output_type": "display_data"
    }
   ],
   "source": [
    "# adding the legend and grids to the plot\n",
    "plot.add_layout(legend)\n",
    "plot.add_layout(x_grid)\n",
    "plot.add_layout(y_grid)\n",
    "\n",
    "show(plot)"
   ]
  },
  {
   "cell_type": "markdown",
   "metadata": {},
   "source": [
    "As we can really clearly see here, we get nearly the same result.   \n",
    "The models interface is not convenient for simple plots like the one we created here.   \n",
    "Later in this lesson, we will use some elements for interactions from the models interface, however, setting up a whole plot with the **models interface is not recommended**."
   ]
  }
 ],
 "metadata": {
  "kernelspec": {
   "display_name": "Python 3",
   "language": "python",
   "name": "python3"
  },
  "language_info": {
   "codemirror_mode": {
    "name": "ipython",
    "version": 3
   },
   "file_extension": ".py",
   "mimetype": "text/x-python",
   "name": "python",
   "nbconvert_exporter": "python",
   "pygments_lexer": "ipython3",
   "version": "3.7.0"
  }
 },
 "nbformat": 4,
 "nbformat_minor": 2
}
