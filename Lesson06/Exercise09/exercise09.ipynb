{
 "cells": [
  {
   "cell_type": "markdown",
   "metadata": {},
   "source": [
    "## Plotting with Bokeh"
   ]
  },
  {
   "cell_type": "markdown",
   "metadata": {},
   "source": [
    "In this exercise we want to use the higher-level interface which is focused around providing a simple interface for quick visualization creation.   \n",
    "Refer back to the topic about Bokeh in lesson 3 to check back with what we learned about the different interfaces of Bokeh.\n",
    "\n",
    "We will use the plotting interface to get some insights into the population density development of Germany and Switzerland.   \n",
    "We want to check whether the statement of \"continous growth of density\" from lesson 1 is true by visualizing each data point for a specific country.\n",
    "\n",
    "We are already familiar with this exercises dataset since we've used it before in lesson 1.   \n",
    "As a reminder, the world population dataset contains information about the population density of each country for different years."
   ]
  },
  {
   "cell_type": "markdown",
   "metadata": {},
   "source": [
    "#### Loading our dataset"
   ]
  },
  {
   "cell_type": "code",
   "execution_count": 1,
   "metadata": {},
   "outputs": [],
   "source": [
    "# importing the necessary dependencies\n"
   ]
  },
  {
   "cell_type": "code",
   "execution_count": 2,
   "metadata": {},
   "outputs": [],
   "source": [
    "# make bokeh display figures inside the notebook\n"
   ]
  },
  {
   "cell_type": "markdown",
   "metadata": {},
   "source": [
    "**Note:**   \n",
    "The cell above allows us to plot the bokeh visualizations inline in the notebook. By default it will open a new tab in your browser window with the plot."
   ]
  },
  {
   "cell_type": "code",
   "execution_count": 3,
   "metadata": {},
   "outputs": [],
   "source": [
    "# loading the Dataset with geoplotlib\n"
   ]
  },
  {
   "cell_type": "code",
   "execution_count": 4,
   "metadata": {},
   "outputs": [],
   "source": [
    "# looking at the dataset\n"
   ]
  },
  {
   "cell_type": "markdown",
   "metadata": {},
   "source": [
    "---"
   ]
  },
  {
   "cell_type": "markdown",
   "metadata": {},
   "source": [
    "#### Plotting the first data"
   ]
  },
  {
   "cell_type": "markdown",
   "metadata": {},
   "source": [
    "Before we are able to plot the line that displays the population density growth of Germany, we need to do some data extraction.   \n",
    "In this case we only want to have the column headers that are years in order to later retrieve the values for those years from our dataset for the given country.   \n",
    "When looking at our dataset, we can see that only the columns that are years start with a numerical character. We can use this knowledge in order to write a filter condition using list comprehension.   \n",
    "\n",
    "Once we have the years extracted, we can use this list of years to retrieve the values for given years from our country row of the dataset using the `loc` method which we got to know in the first lesson.   \n",
    "Again, we will use a list comprehension to extract that kind of knowledge from our dataframe."
   ]
  },
  {
   "cell_type": "code",
   "execution_count": 5,
   "metadata": {},
   "outputs": [],
   "source": [
    "# preparing our data for Germany\n"
   ]
  },
  {
   "cell_type": "markdown",
   "metadata": {},
   "source": [
    "After preparing the data to be plotted, we can set up our visualization by first defining a plot using the `figure` method.   \n",
    "This is the place where we can define the `title` and the text for the `x` and `y` axis of our plot.   \n",
    "\n",
    "Once we have defined our plot figure, we can then add \"*layers*\" onto that plot.   \n",
    "There are several pre-defined visualizations incorporated.   \n",
    "- Lines\n",
    "- Scatters\n",
    "- Bars\n",
    "- Patches\n",
    "\n",
    "> You can find even more in the official documentaion: https://bokeh.pydata.org/en/latest/docs/user_guide/plotting.html#userguide-plotting\n",
    "\n",
    "\n",
    "Comparable to Matplotlib, the final call to display is done with the `show` method.   \n",
    "By default, this will open a new browser window/tab displaying the visualization. However since we're using `output_notebook` here, it will be embeded into this notebook."
   ]
  },
  {
   "cell_type": "code",
   "execution_count": 6,
   "metadata": {},
   "outputs": [],
   "source": [
    "# plotting the population density change in Germany in the given years\n"
   ]
  },
  {
   "cell_type": "markdown",
   "metadata": {},
   "source": [
    "**Note:**   \n",
    "Note that the amount of data points in the first and second argument passed to the plotting methods has to be the same.   \n",
    "If your `x` list has 10 values, your `y` list also has to have 10 values."
   ]
  },
  {
   "cell_type": "markdown",
   "metadata": {},
   "source": [
    "---"
   ]
  },
  {
   "cell_type": "markdown",
   "metadata": {},
   "source": [
    "#### Simple plotting with geoplotlib"
   ]
  },
  {
   "cell_type": "markdown",
   "metadata": {},
   "source": [
    "When using bokehs high-level plotting interface, we are able to display several graphs in one plot.   \n",
    "This means that we can simply add different layers on top of each other to create more comlex constructs.   \n",
    "In our case, we want to add the population denstiy development of Switzerland on top of the one from Germany.  \n",
    "We also want to visually distinguish them from each other by using different colors and also adding a different graph style to our Switzerland line.   \n",
    "\n",
    "We first need to filter our data to extract the data of Switzerland.   \n",
    "After we've done that, we can use the same technique we saw in the first task to plot the line."
   ]
  },
  {
   "cell_type": "code",
   "execution_count": 7,
   "metadata": {},
   "outputs": [],
   "source": [
    "# preparing the data for the second country\n"
   ]
  },
  {
   "cell_type": "code",
   "execution_count": 8,
   "metadata": {},
   "outputs": [],
   "source": [
    "# plotting the data for Germany and Switzerland in one visualization, \n",
    "# adding circles for each data point for Switzerland\n"
   ]
  },
  {
   "cell_type": "markdown",
   "metadata": {},
   "source": [
    "**Note:**   \n",
    "Using Bokeh, we are also able to stack different graphs on top of each other which gives us the tooling to not only differentiate the graphs by color but other features like different line styles."
   ]
  },
  {
   "cell_type": "markdown",
   "metadata": {},
   "source": [
    "In the next task, we want to display the plots next to each other instead if having them stacked.   \n",
    "In some cases this will allow us to compare many plots better since they are not layered on top of each other.   \n",
    "We can still make sure all of the plots have the same `x` and `y` axis for better comparison by providing the `x_range` and `y_range` values to our other figures.   \n",
    "\n",
    "Bokeh provides a submodule that gives us access to several layouts. So we need an additional import here.   \n",
    "The `gridplot` object allows us to provide a two dimensional array which describes the positions of the plots on a grid."
   ]
  },
  {
   "cell_type": "code",
   "execution_count": 9,
   "metadata": {},
   "outputs": [],
   "source": [
    "# plotting the Germany and Switzerland plot in two different visualizations\n",
    "# that are interconnected in terms of view port\n"
   ]
  },
  {
   "cell_type": "markdown",
   "metadata": {},
   "source": [
    "**Note:**   \n",
    "This means that if we provide two lists nested, we can control the output to be printed in a vertically stacked way instead of next to each other."
   ]
  },
  {
   "cell_type": "code",
   "execution_count": 10,
   "metadata": {},
   "outputs": [],
   "source": [
    "# plotting the above declared figures in a vertical manner\n"
   ]
  },
  {
   "cell_type": "markdown",
   "metadata": {},
   "source": [
    "We can see that as soon we have our data prepared, it's fairly simple to visualize the data in a simple plot.   \n",
    "Using the `bokeh.plotting` interface allows us to display the data with different, so called, `glyphs` without much work.   "
   ]
  }
 ],
 "metadata": {
  "kernelspec": {
   "display_name": "Python 3",
   "language": "python",
   "name": "python3"
  },
  "language_info": {
   "codemirror_mode": {
    "name": "ipython",
    "version": 3
   },
   "file_extension": ".py",
   "mimetype": "text/x-python",
   "name": "python",
   "nbconvert_exporter": "python",
   "pygments_lexer": "ipython3",
   "version": "3.7.0"
  }
 },
 "nbformat": 4,
 "nbformat_minor": 2
}
