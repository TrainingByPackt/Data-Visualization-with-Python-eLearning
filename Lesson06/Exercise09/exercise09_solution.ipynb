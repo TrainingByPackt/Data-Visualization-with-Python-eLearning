{
 "cells": [
  {
   "cell_type": "markdown",
   "metadata": {},
   "source": [
    "## Plotting with Bokeh"
   ]
  },
  {
   "cell_type": "markdown",
   "metadata": {},
   "source": [
    "In this exercise we want to use the higher-level interface which is focused around providing a simple interface for quick visualization creation.   \n",
    "Refer back to the topic about Bokeh in lesson 3 to check back with what we learned about the different interfaces of Bokeh.\n",
    "\n",
    "We will use the plotting interface to get some insights into the population density development of Germany and Switzerland.   \n",
    "We want to check whether the statement of \"continous growth of density\" from lesson 1 is true by visualizing each data point for a specific country.\n",
    "\n",
    "We are already familiar with this exercises dataset since we've used it before in lesson 1.   \n",
    "As a reminder, the world population dataset contains information about the population density of each country for different years."
   ]
  },
  {
   "cell_type": "markdown",
   "metadata": {},
   "source": [
    "#### Loading our dataset"
   ]
  },
  {
   "cell_type": "code",
   "execution_count": 1,
   "metadata": {},
   "outputs": [],
   "source": [
    "# importing the necessary dependencies\n",
    "import pandas as pd\n",
    "from bokeh.plotting import figure, show"
   ]
  },
  {
   "cell_type": "code",
   "execution_count": 2,
   "metadata": {},
   "outputs": [
    {
     "data": {
      "text/html": [
       "\n",
       "    <div class=\"bk-root\">\n",
       "        <a href=\"https://bokeh.pydata.org\" target=\"_blank\" class=\"bk-logo bk-logo-small bk-logo-notebook\"></a>\n",
       "        <span id=\"1001\">Loading BokehJS ...</span>\n",
       "    </div>"
      ]
     },
     "metadata": {},
     "output_type": "display_data"
    },
    {
     "data": {
      "application/javascript": [
       "\n",
       "(function(root) {\n",
       "  function now() {\n",
       "    return new Date();\n",
       "  }\n",
       "\n",
       "  var force = true;\n",
       "\n",
       "  if (typeof (root._bokeh_onload_callbacks) === \"undefined\" || force === true) {\n",
       "    root._bokeh_onload_callbacks = [];\n",
       "    root._bokeh_is_loading = undefined;\n",
       "  }\n",
       "\n",
       "  var JS_MIME_TYPE = 'application/javascript';\n",
       "  var HTML_MIME_TYPE = 'text/html';\n",
       "  var EXEC_MIME_TYPE = 'application/vnd.bokehjs_exec.v0+json';\n",
       "  var CLASS_NAME = 'output_bokeh rendered_html';\n",
       "\n",
       "  /**\n",
       "   * Render data to the DOM node\n",
       "   */\n",
       "  function render(props, node) {\n",
       "    var script = document.createElement(\"script\");\n",
       "    node.appendChild(script);\n",
       "  }\n",
       "\n",
       "  /**\n",
       "   * Handle when an output is cleared or removed\n",
       "   */\n",
       "  function handleClearOutput(event, handle) {\n",
       "    var cell = handle.cell;\n",
       "\n",
       "    var id = cell.output_area._bokeh_element_id;\n",
       "    var server_id = cell.output_area._bokeh_server_id;\n",
       "    // Clean up Bokeh references\n",
       "    if (id != null && id in Bokeh.index) {\n",
       "      Bokeh.index[id].model.document.clear();\n",
       "      delete Bokeh.index[id];\n",
       "    }\n",
       "\n",
       "    if (server_id !== undefined) {\n",
       "      // Clean up Bokeh references\n",
       "      var cmd = \"from bokeh.io.state import curstate; print(curstate().uuid_to_server['\" + server_id + \"'].get_sessions()[0].document.roots[0]._id)\";\n",
       "      cell.notebook.kernel.execute(cmd, {\n",
       "        iopub: {\n",
       "          output: function(msg) {\n",
       "            var id = msg.content.text.trim();\n",
       "            if (id in Bokeh.index) {\n",
       "              Bokeh.index[id].model.document.clear();\n",
       "              delete Bokeh.index[id];\n",
       "            }\n",
       "          }\n",
       "        }\n",
       "      });\n",
       "      // Destroy server and session\n",
       "      var cmd = \"import bokeh.io.notebook as ion; ion.destroy_server('\" + server_id + \"')\";\n",
       "      cell.notebook.kernel.execute(cmd);\n",
       "    }\n",
       "  }\n",
       "\n",
       "  /**\n",
       "   * Handle when a new output is added\n",
       "   */\n",
       "  function handleAddOutput(event, handle) {\n",
       "    var output_area = handle.output_area;\n",
       "    var output = handle.output;\n",
       "\n",
       "    // limit handleAddOutput to display_data with EXEC_MIME_TYPE content only\n",
       "    if ((output.output_type != \"display_data\") || (!output.data.hasOwnProperty(EXEC_MIME_TYPE))) {\n",
       "      return\n",
       "    }\n",
       "\n",
       "    var toinsert = output_area.element.find(\".\" + CLASS_NAME.split(' ')[0]);\n",
       "\n",
       "    if (output.metadata[EXEC_MIME_TYPE][\"id\"] !== undefined) {\n",
       "      toinsert[toinsert.length - 1].firstChild.textContent = output.data[JS_MIME_TYPE];\n",
       "      // store reference to embed id on output_area\n",
       "      output_area._bokeh_element_id = output.metadata[EXEC_MIME_TYPE][\"id\"];\n",
       "    }\n",
       "    if (output.metadata[EXEC_MIME_TYPE][\"server_id\"] !== undefined) {\n",
       "      var bk_div = document.createElement(\"div\");\n",
       "      bk_div.innerHTML = output.data[HTML_MIME_TYPE];\n",
       "      var script_attrs = bk_div.children[0].attributes;\n",
       "      for (var i = 0; i < script_attrs.length; i++) {\n",
       "        toinsert[toinsert.length - 1].firstChild.setAttribute(script_attrs[i].name, script_attrs[i].value);\n",
       "      }\n",
       "      // store reference to server id on output_area\n",
       "      output_area._bokeh_server_id = output.metadata[EXEC_MIME_TYPE][\"server_id\"];\n",
       "    }\n",
       "  }\n",
       "\n",
       "  function register_renderer(events, OutputArea) {\n",
       "\n",
       "    function append_mime(data, metadata, element) {\n",
       "      // create a DOM node to render to\n",
       "      var toinsert = this.create_output_subarea(\n",
       "        metadata,\n",
       "        CLASS_NAME,\n",
       "        EXEC_MIME_TYPE\n",
       "      );\n",
       "      this.keyboard_manager.register_events(toinsert);\n",
       "      // Render to node\n",
       "      var props = {data: data, metadata: metadata[EXEC_MIME_TYPE]};\n",
       "      render(props, toinsert[toinsert.length - 1]);\n",
       "      element.append(toinsert);\n",
       "      return toinsert\n",
       "    }\n",
       "\n",
       "    /* Handle when an output is cleared or removed */\n",
       "    events.on('clear_output.CodeCell', handleClearOutput);\n",
       "    events.on('delete.Cell', handleClearOutput);\n",
       "\n",
       "    /* Handle when a new output is added */\n",
       "    events.on('output_added.OutputArea', handleAddOutput);\n",
       "\n",
       "    /**\n",
       "     * Register the mime type and append_mime function with output_area\n",
       "     */\n",
       "    OutputArea.prototype.register_mime_type(EXEC_MIME_TYPE, append_mime, {\n",
       "      /* Is output safe? */\n",
       "      safe: true,\n",
       "      /* Index of renderer in `output_area.display_order` */\n",
       "      index: 0\n",
       "    });\n",
       "  }\n",
       "\n",
       "  // register the mime type if in Jupyter Notebook environment and previously unregistered\n",
       "  if (root.Jupyter !== undefined) {\n",
       "    var events = require('base/js/events');\n",
       "    var OutputArea = require('notebook/js/outputarea').OutputArea;\n",
       "\n",
       "    if (OutputArea.prototype.mime_types().indexOf(EXEC_MIME_TYPE) == -1) {\n",
       "      register_renderer(events, OutputArea);\n",
       "    }\n",
       "  }\n",
       "\n",
       "  \n",
       "  if (typeof (root._bokeh_timeout) === \"undefined\" || force === true) {\n",
       "    root._bokeh_timeout = Date.now() + 5000;\n",
       "    root._bokeh_failed_load = false;\n",
       "  }\n",
       "\n",
       "  var NB_LOAD_WARNING = {'data': {'text/html':\n",
       "     \"<div style='background-color: #fdd'>\\n\"+\n",
       "     \"<p>\\n\"+\n",
       "     \"BokehJS does not appear to have successfully loaded. If loading BokehJS from CDN, this \\n\"+\n",
       "     \"may be due to a slow or bad network connection. Possible fixes:\\n\"+\n",
       "     \"</p>\\n\"+\n",
       "     \"<ul>\\n\"+\n",
       "     \"<li>re-rerun `output_notebook()` to attempt to load from CDN again, or</li>\\n\"+\n",
       "     \"<li>use INLINE resources instead, as so:</li>\\n\"+\n",
       "     \"</ul>\\n\"+\n",
       "     \"<code>\\n\"+\n",
       "     \"from bokeh.resources import INLINE\\n\"+\n",
       "     \"output_notebook(resources=INLINE)\\n\"+\n",
       "     \"</code>\\n\"+\n",
       "     \"</div>\"}};\n",
       "\n",
       "  function display_loaded() {\n",
       "    var el = document.getElementById(\"1001\");\n",
       "    if (el != null) {\n",
       "      el.textContent = \"BokehJS is loading...\";\n",
       "    }\n",
       "    if (root.Bokeh !== undefined) {\n",
       "      if (el != null) {\n",
       "        el.textContent = \"BokehJS \" + root.Bokeh.version + \" successfully loaded.\";\n",
       "      }\n",
       "    } else if (Date.now() < root._bokeh_timeout) {\n",
       "      setTimeout(display_loaded, 100)\n",
       "    }\n",
       "  }\n",
       "\n",
       "\n",
       "  function run_callbacks() {\n",
       "    try {\n",
       "      root._bokeh_onload_callbacks.forEach(function(callback) { callback() });\n",
       "    }\n",
       "    finally {\n",
       "      delete root._bokeh_onload_callbacks\n",
       "    }\n",
       "    console.info(\"Bokeh: all callbacks have finished\");\n",
       "  }\n",
       "\n",
       "  function load_libs(js_urls, callback) {\n",
       "    root._bokeh_onload_callbacks.push(callback);\n",
       "    if (root._bokeh_is_loading > 0) {\n",
       "      console.log(\"Bokeh: BokehJS is being loaded, scheduling callback at\", now());\n",
       "      return null;\n",
       "    }\n",
       "    if (js_urls == null || js_urls.length === 0) {\n",
       "      run_callbacks();\n",
       "      return null;\n",
       "    }\n",
       "    console.log(\"Bokeh: BokehJS not loaded, scheduling load and callback at\", now());\n",
       "    root._bokeh_is_loading = js_urls.length;\n",
       "    for (var i = 0; i < js_urls.length; i++) {\n",
       "      var url = js_urls[i];\n",
       "      var s = document.createElement('script');\n",
       "      s.src = url;\n",
       "      s.async = false;\n",
       "      s.onreadystatechange = s.onload = function() {\n",
       "        root._bokeh_is_loading--;\n",
       "        if (root._bokeh_is_loading === 0) {\n",
       "          console.log(\"Bokeh: all BokehJS libraries loaded\");\n",
       "          run_callbacks()\n",
       "        }\n",
       "      };\n",
       "      s.onerror = function() {\n",
       "        console.warn(\"failed to load library \" + url);\n",
       "      };\n",
       "      console.log(\"Bokeh: injecting script tag for BokehJS library: \", url);\n",
       "      document.getElementsByTagName(\"head\")[0].appendChild(s);\n",
       "    }\n",
       "  };var element = document.getElementById(\"1001\");\n",
       "  if (element == null) {\n",
       "    console.log(\"Bokeh: ERROR: autoload.js configured with elementid '1001' but no matching script tag was found. \")\n",
       "    return false;\n",
       "  }\n",
       "\n",
       "  var js_urls = [\"https://cdn.pydata.org/bokeh/release/bokeh-1.0.2.min.js\", \"https://cdn.pydata.org/bokeh/release/bokeh-widgets-1.0.2.min.js\", \"https://cdn.pydata.org/bokeh/release/bokeh-tables-1.0.2.min.js\", \"https://cdn.pydata.org/bokeh/release/bokeh-gl-1.0.2.min.js\"];\n",
       "\n",
       "  var inline_js = [\n",
       "    function(Bokeh) {\n",
       "      Bokeh.set_log_level(\"info\");\n",
       "    },\n",
       "    \n",
       "    function(Bokeh) {\n",
       "      \n",
       "    },\n",
       "    function(Bokeh) {\n",
       "      console.log(\"Bokeh: injecting CSS: https://cdn.pydata.org/bokeh/release/bokeh-1.0.2.min.css\");\n",
       "      Bokeh.embed.inject_css(\"https://cdn.pydata.org/bokeh/release/bokeh-1.0.2.min.css\");\n",
       "      console.log(\"Bokeh: injecting CSS: https://cdn.pydata.org/bokeh/release/bokeh-widgets-1.0.2.min.css\");\n",
       "      Bokeh.embed.inject_css(\"https://cdn.pydata.org/bokeh/release/bokeh-widgets-1.0.2.min.css\");\n",
       "      console.log(\"Bokeh: injecting CSS: https://cdn.pydata.org/bokeh/release/bokeh-tables-1.0.2.min.css\");\n",
       "      Bokeh.embed.inject_css(\"https://cdn.pydata.org/bokeh/release/bokeh-tables-1.0.2.min.css\");\n",
       "    }\n",
       "  ];\n",
       "\n",
       "  function run_inline_js() {\n",
       "    \n",
       "    if ((root.Bokeh !== undefined) || (force === true)) {\n",
       "      for (var i = 0; i < inline_js.length; i++) {\n",
       "        inline_js[i].call(root, root.Bokeh);\n",
       "      }if (force === true) {\n",
       "        display_loaded();\n",
       "      }} else if (Date.now() < root._bokeh_timeout) {\n",
       "      setTimeout(run_inline_js, 100);\n",
       "    } else if (!root._bokeh_failed_load) {\n",
       "      console.log(\"Bokeh: BokehJS failed to load within specified timeout.\");\n",
       "      root._bokeh_failed_load = true;\n",
       "    } else if (force !== true) {\n",
       "      var cell = $(document.getElementById(\"1001\")).parents('.cell').data().cell;\n",
       "      cell.output_area.append_execute_result(NB_LOAD_WARNING)\n",
       "    }\n",
       "\n",
       "  }\n",
       "\n",
       "  if (root._bokeh_is_loading === 0) {\n",
       "    console.log(\"Bokeh: BokehJS loaded, going straight to plotting\");\n",
       "    run_inline_js();\n",
       "  } else {\n",
       "    load_libs(js_urls, function() {\n",
       "      console.log(\"Bokeh: BokehJS plotting callback run at\", now());\n",
       "      run_inline_js();\n",
       "    });\n",
       "  }\n",
       "}(window));"
      ],
      "application/vnd.bokehjs_load.v0+json": "\n(function(root) {\n  function now() {\n    return new Date();\n  }\n\n  var force = true;\n\n  if (typeof (root._bokeh_onload_callbacks) === \"undefined\" || force === true) {\n    root._bokeh_onload_callbacks = [];\n    root._bokeh_is_loading = undefined;\n  }\n\n  \n\n  \n  if (typeof (root._bokeh_timeout) === \"undefined\" || force === true) {\n    root._bokeh_timeout = Date.now() + 5000;\n    root._bokeh_failed_load = false;\n  }\n\n  var NB_LOAD_WARNING = {'data': {'text/html':\n     \"<div style='background-color: #fdd'>\\n\"+\n     \"<p>\\n\"+\n     \"BokehJS does not appear to have successfully loaded. If loading BokehJS from CDN, this \\n\"+\n     \"may be due to a slow or bad network connection. Possible fixes:\\n\"+\n     \"</p>\\n\"+\n     \"<ul>\\n\"+\n     \"<li>re-rerun `output_notebook()` to attempt to load from CDN again, or</li>\\n\"+\n     \"<li>use INLINE resources instead, as so:</li>\\n\"+\n     \"</ul>\\n\"+\n     \"<code>\\n\"+\n     \"from bokeh.resources import INLINE\\n\"+\n     \"output_notebook(resources=INLINE)\\n\"+\n     \"</code>\\n\"+\n     \"</div>\"}};\n\n  function display_loaded() {\n    var el = document.getElementById(\"1001\");\n    if (el != null) {\n      el.textContent = \"BokehJS is loading...\";\n    }\n    if (root.Bokeh !== undefined) {\n      if (el != null) {\n        el.textContent = \"BokehJS \" + root.Bokeh.version + \" successfully loaded.\";\n      }\n    } else if (Date.now() < root._bokeh_timeout) {\n      setTimeout(display_loaded, 100)\n    }\n  }\n\n\n  function run_callbacks() {\n    try {\n      root._bokeh_onload_callbacks.forEach(function(callback) { callback() });\n    }\n    finally {\n      delete root._bokeh_onload_callbacks\n    }\n    console.info(\"Bokeh: all callbacks have finished\");\n  }\n\n  function load_libs(js_urls, callback) {\n    root._bokeh_onload_callbacks.push(callback);\n    if (root._bokeh_is_loading > 0) {\n      console.log(\"Bokeh: BokehJS is being loaded, scheduling callback at\", now());\n      return null;\n    }\n    if (js_urls == null || js_urls.length === 0) {\n      run_callbacks();\n      return null;\n    }\n    console.log(\"Bokeh: BokehJS not loaded, scheduling load and callback at\", now());\n    root._bokeh_is_loading = js_urls.length;\n    for (var i = 0; i < js_urls.length; i++) {\n      var url = js_urls[i];\n      var s = document.createElement('script');\n      s.src = url;\n      s.async = false;\n      s.onreadystatechange = s.onload = function() {\n        root._bokeh_is_loading--;\n        if (root._bokeh_is_loading === 0) {\n          console.log(\"Bokeh: all BokehJS libraries loaded\");\n          run_callbacks()\n        }\n      };\n      s.onerror = function() {\n        console.warn(\"failed to load library \" + url);\n      };\n      console.log(\"Bokeh: injecting script tag for BokehJS library: \", url);\n      document.getElementsByTagName(\"head\")[0].appendChild(s);\n    }\n  };var element = document.getElementById(\"1001\");\n  if (element == null) {\n    console.log(\"Bokeh: ERROR: autoload.js configured with elementid '1001' but no matching script tag was found. \")\n    return false;\n  }\n\n  var js_urls = [\"https://cdn.pydata.org/bokeh/release/bokeh-1.0.2.min.js\", \"https://cdn.pydata.org/bokeh/release/bokeh-widgets-1.0.2.min.js\", \"https://cdn.pydata.org/bokeh/release/bokeh-tables-1.0.2.min.js\", \"https://cdn.pydata.org/bokeh/release/bokeh-gl-1.0.2.min.js\"];\n\n  var inline_js = [\n    function(Bokeh) {\n      Bokeh.set_log_level(\"info\");\n    },\n    \n    function(Bokeh) {\n      \n    },\n    function(Bokeh) {\n      console.log(\"Bokeh: injecting CSS: https://cdn.pydata.org/bokeh/release/bokeh-1.0.2.min.css\");\n      Bokeh.embed.inject_css(\"https://cdn.pydata.org/bokeh/release/bokeh-1.0.2.min.css\");\n      console.log(\"Bokeh: injecting CSS: https://cdn.pydata.org/bokeh/release/bokeh-widgets-1.0.2.min.css\");\n      Bokeh.embed.inject_css(\"https://cdn.pydata.org/bokeh/release/bokeh-widgets-1.0.2.min.css\");\n      console.log(\"Bokeh: injecting CSS: https://cdn.pydata.org/bokeh/release/bokeh-tables-1.0.2.min.css\");\n      Bokeh.embed.inject_css(\"https://cdn.pydata.org/bokeh/release/bokeh-tables-1.0.2.min.css\");\n    }\n  ];\n\n  function run_inline_js() {\n    \n    if ((root.Bokeh !== undefined) || (force === true)) {\n      for (var i = 0; i < inline_js.length; i++) {\n        inline_js[i].call(root, root.Bokeh);\n      }if (force === true) {\n        display_loaded();\n      }} else if (Date.now() < root._bokeh_timeout) {\n      setTimeout(run_inline_js, 100);\n    } else if (!root._bokeh_failed_load) {\n      console.log(\"Bokeh: BokehJS failed to load within specified timeout.\");\n      root._bokeh_failed_load = true;\n    } else if (force !== true) {\n      var cell = $(document.getElementById(\"1001\")).parents('.cell').data().cell;\n      cell.output_area.append_execute_result(NB_LOAD_WARNING)\n    }\n\n  }\n\n  if (root._bokeh_is_loading === 0) {\n    console.log(\"Bokeh: BokehJS loaded, going straight to plotting\");\n    run_inline_js();\n  } else {\n    load_libs(js_urls, function() {\n      console.log(\"Bokeh: BokehJS plotting callback run at\", now());\n      run_inline_js();\n    });\n  }\n}(window));"
     },
     "metadata": {},
     "output_type": "display_data"
    }
   ],
   "source": [
    "# make bokeh display figures inside the notebook\n",
    "from bokeh.io import output_notebook\n",
    "\n",
    "output_notebook()"
   ]
  },
  {
   "cell_type": "markdown",
   "metadata": {},
   "source": [
    "**Note:**   \n",
    "The cell above allows us to plot the bokeh visualizations inline in the notebook. By default it will open a new tab in your browser window with the plot."
   ]
  },
  {
   "cell_type": "code",
   "execution_count": 3,
   "metadata": {},
   "outputs": [],
   "source": [
    "# loading the Dataset with geoplotlib\n",
    "dataset = pd.read_csv('./data/world_population.csv', index_col=0)"
   ]
  },
  {
   "cell_type": "code",
   "execution_count": 4,
   "metadata": {},
   "outputs": [
    {
     "data": {
      "text/html": [
       "<div>\n",
       "<style scoped>\n",
       "    .dataframe tbody tr th:only-of-type {\n",
       "        vertical-align: middle;\n",
       "    }\n",
       "\n",
       "    .dataframe tbody tr th {\n",
       "        vertical-align: top;\n",
       "    }\n",
       "\n",
       "    .dataframe thead th {\n",
       "        text-align: right;\n",
       "    }\n",
       "</style>\n",
       "<table border=\"1\" class=\"dataframe\">\n",
       "  <thead>\n",
       "    <tr style=\"text-align: right;\">\n",
       "      <th></th>\n",
       "      <th>Country Code</th>\n",
       "      <th>Indicator Name</th>\n",
       "      <th>Indicator Code</th>\n",
       "      <th>1960</th>\n",
       "      <th>1961</th>\n",
       "      <th>1962</th>\n",
       "      <th>1963</th>\n",
       "      <th>1964</th>\n",
       "      <th>1965</th>\n",
       "      <th>1966</th>\n",
       "      <th>...</th>\n",
       "      <th>2007</th>\n",
       "      <th>2008</th>\n",
       "      <th>2009</th>\n",
       "      <th>2010</th>\n",
       "      <th>2011</th>\n",
       "      <th>2012</th>\n",
       "      <th>2013</th>\n",
       "      <th>2014</th>\n",
       "      <th>2015</th>\n",
       "      <th>2016</th>\n",
       "    </tr>\n",
       "    <tr>\n",
       "      <th>Country Name</th>\n",
       "      <th></th>\n",
       "      <th></th>\n",
       "      <th></th>\n",
       "      <th></th>\n",
       "      <th></th>\n",
       "      <th></th>\n",
       "      <th></th>\n",
       "      <th></th>\n",
       "      <th></th>\n",
       "      <th></th>\n",
       "      <th></th>\n",
       "      <th></th>\n",
       "      <th></th>\n",
       "      <th></th>\n",
       "      <th></th>\n",
       "      <th></th>\n",
       "      <th></th>\n",
       "      <th></th>\n",
       "      <th></th>\n",
       "      <th></th>\n",
       "      <th></th>\n",
       "    </tr>\n",
       "  </thead>\n",
       "  <tbody>\n",
       "    <tr>\n",
       "      <th>Aruba</th>\n",
       "      <td>ABW</td>\n",
       "      <td>Population density (people per sq. km of land ...</td>\n",
       "      <td>EN.POP.DNST</td>\n",
       "      <td>NaN</td>\n",
       "      <td>307.972222</td>\n",
       "      <td>312.366667</td>\n",
       "      <td>314.983333</td>\n",
       "      <td>316.827778</td>\n",
       "      <td>318.666667</td>\n",
       "      <td>320.622222</td>\n",
       "      <td>...</td>\n",
       "      <td>562.322222</td>\n",
       "      <td>563.011111</td>\n",
       "      <td>563.422222</td>\n",
       "      <td>564.427778</td>\n",
       "      <td>566.311111</td>\n",
       "      <td>568.850000</td>\n",
       "      <td>571.783333</td>\n",
       "      <td>574.672222</td>\n",
       "      <td>577.161111</td>\n",
       "      <td>NaN</td>\n",
       "    </tr>\n",
       "    <tr>\n",
       "      <th>Andorra</th>\n",
       "      <td>AND</td>\n",
       "      <td>Population density (people per sq. km of land ...</td>\n",
       "      <td>EN.POP.DNST</td>\n",
       "      <td>NaN</td>\n",
       "      <td>30.587234</td>\n",
       "      <td>32.714894</td>\n",
       "      <td>34.914894</td>\n",
       "      <td>37.170213</td>\n",
       "      <td>39.470213</td>\n",
       "      <td>41.800000</td>\n",
       "      <td>...</td>\n",
       "      <td>180.591489</td>\n",
       "      <td>182.161702</td>\n",
       "      <td>181.859574</td>\n",
       "      <td>179.614894</td>\n",
       "      <td>175.161702</td>\n",
       "      <td>168.757447</td>\n",
       "      <td>161.493617</td>\n",
       "      <td>154.863830</td>\n",
       "      <td>149.942553</td>\n",
       "      <td>NaN</td>\n",
       "    </tr>\n",
       "    <tr>\n",
       "      <th>Afghanistan</th>\n",
       "      <td>AFG</td>\n",
       "      <td>Population density (people per sq. km of land ...</td>\n",
       "      <td>EN.POP.DNST</td>\n",
       "      <td>NaN</td>\n",
       "      <td>14.038148</td>\n",
       "      <td>14.312061</td>\n",
       "      <td>14.599692</td>\n",
       "      <td>14.901579</td>\n",
       "      <td>15.218206</td>\n",
       "      <td>15.545203</td>\n",
       "      <td>...</td>\n",
       "      <td>39.637202</td>\n",
       "      <td>40.634655</td>\n",
       "      <td>41.674005</td>\n",
       "      <td>42.830327</td>\n",
       "      <td>44.127634</td>\n",
       "      <td>45.533197</td>\n",
       "      <td>46.997059</td>\n",
       "      <td>48.444546</td>\n",
       "      <td>49.821649</td>\n",
       "      <td>NaN</td>\n",
       "    </tr>\n",
       "    <tr>\n",
       "      <th>Angola</th>\n",
       "      <td>AGO</td>\n",
       "      <td>Population density (people per sq. km of land ...</td>\n",
       "      <td>EN.POP.DNST</td>\n",
       "      <td>NaN</td>\n",
       "      <td>4.305195</td>\n",
       "      <td>4.384299</td>\n",
       "      <td>4.464433</td>\n",
       "      <td>4.544558</td>\n",
       "      <td>4.624228</td>\n",
       "      <td>4.703271</td>\n",
       "      <td>...</td>\n",
       "      <td>15.387749</td>\n",
       "      <td>15.915819</td>\n",
       "      <td>16.459536</td>\n",
       "      <td>17.020898</td>\n",
       "      <td>17.600302</td>\n",
       "      <td>18.196544</td>\n",
       "      <td>18.808215</td>\n",
       "      <td>19.433323</td>\n",
       "      <td>20.070565</td>\n",
       "      <td>NaN</td>\n",
       "    </tr>\n",
       "    <tr>\n",
       "      <th>Albania</th>\n",
       "      <td>ALB</td>\n",
       "      <td>Population density (people per sq. km of land ...</td>\n",
       "      <td>EN.POP.DNST</td>\n",
       "      <td>NaN</td>\n",
       "      <td>60.576642</td>\n",
       "      <td>62.456898</td>\n",
       "      <td>64.329234</td>\n",
       "      <td>66.209307</td>\n",
       "      <td>68.058066</td>\n",
       "      <td>69.874927</td>\n",
       "      <td>...</td>\n",
       "      <td>108.394781</td>\n",
       "      <td>107.566204</td>\n",
       "      <td>106.843759</td>\n",
       "      <td>106.314635</td>\n",
       "      <td>106.013869</td>\n",
       "      <td>105.848431</td>\n",
       "      <td>105.717226</td>\n",
       "      <td>105.607810</td>\n",
       "      <td>105.444051</td>\n",
       "      <td>NaN</td>\n",
       "    </tr>\n",
       "  </tbody>\n",
       "</table>\n",
       "<p>5 rows × 60 columns</p>\n",
       "</div>"
      ],
      "text/plain": [
       "             Country Code                                     Indicator Name  \\\n",
       "Country Name                                                                   \n",
       "Aruba                 ABW  Population density (people per sq. km of land ...   \n",
       "Andorra               AND  Population density (people per sq. km of land ...   \n",
       "Afghanistan           AFG  Population density (people per sq. km of land ...   \n",
       "Angola                AGO  Population density (people per sq. km of land ...   \n",
       "Albania               ALB  Population density (people per sq. km of land ...   \n",
       "\n",
       "             Indicator Code  1960        1961        1962        1963  \\\n",
       "Country Name                                                            \n",
       "Aruba           EN.POP.DNST   NaN  307.972222  312.366667  314.983333   \n",
       "Andorra         EN.POP.DNST   NaN   30.587234   32.714894   34.914894   \n",
       "Afghanistan     EN.POP.DNST   NaN   14.038148   14.312061   14.599692   \n",
       "Angola          EN.POP.DNST   NaN    4.305195    4.384299    4.464433   \n",
       "Albania         EN.POP.DNST   NaN   60.576642   62.456898   64.329234   \n",
       "\n",
       "                    1964        1965        1966  ...         2007  \\\n",
       "Country Name                                      ...                \n",
       "Aruba         316.827778  318.666667  320.622222  ...   562.322222   \n",
       "Andorra        37.170213   39.470213   41.800000  ...   180.591489   \n",
       "Afghanistan    14.901579   15.218206   15.545203  ...    39.637202   \n",
       "Angola          4.544558    4.624228    4.703271  ...    15.387749   \n",
       "Albania        66.209307   68.058066   69.874927  ...   108.394781   \n",
       "\n",
       "                    2008        2009        2010        2011        2012  \\\n",
       "Country Name                                                               \n",
       "Aruba         563.011111  563.422222  564.427778  566.311111  568.850000   \n",
       "Andorra       182.161702  181.859574  179.614894  175.161702  168.757447   \n",
       "Afghanistan    40.634655   41.674005   42.830327   44.127634   45.533197   \n",
       "Angola         15.915819   16.459536   17.020898   17.600302   18.196544   \n",
       "Albania       107.566204  106.843759  106.314635  106.013869  105.848431   \n",
       "\n",
       "                    2013        2014        2015  2016  \n",
       "Country Name                                            \n",
       "Aruba         571.783333  574.672222  577.161111   NaN  \n",
       "Andorra       161.493617  154.863830  149.942553   NaN  \n",
       "Afghanistan    46.997059   48.444546   49.821649   NaN  \n",
       "Angola         18.808215   19.433323   20.070565   NaN  \n",
       "Albania       105.717226  105.607810  105.444051   NaN  \n",
       "\n",
       "[5 rows x 60 columns]"
      ]
     },
     "execution_count": 4,
     "metadata": {},
     "output_type": "execute_result"
    }
   ],
   "source": [
    "# looking at the dataset\n",
    "dataset.head()"
   ]
  },
  {
   "cell_type": "markdown",
   "metadata": {},
   "source": [
    "---"
   ]
  },
  {
   "cell_type": "markdown",
   "metadata": {},
   "source": [
    "#### Plotting the first data"
   ]
  },
  {
   "cell_type": "markdown",
   "metadata": {},
   "source": [
    "Before we are able to plot the line that displays the population density growth of Germany, we need to do some data extraction.   \n",
    "In this case we only want to have the column headers that are years in order to later retrieve the values for those years from our dataset for the given country.   \n",
    "When looking at our dataset, we can see that only the columns that are years start with a numerical character. We can use this knowledge in order to write a filter condition using list comprehension.   \n",
    "\n",
    "Once we have the years extracted, we can use this list of years to retrieve the values for given years from our country row of the dataset using the `loc` method which we got to know in the first lesson.   \n",
    "Again, we will use a list comprehension to extract that kind of knowledge from our dataframe."
   ]
  },
  {
   "cell_type": "code",
   "execution_count": 5,
   "metadata": {},
   "outputs": [],
   "source": [
    "# preparing our data for Germany\n",
    "years = [year for year in dataset.columns if not year[0].isalpha()]\n",
    "de_vals = [dataset.loc[['Germany']][year] for year in years]"
   ]
  },
  {
   "cell_type": "markdown",
   "metadata": {},
   "source": [
    "After preparing the data to be plotted, we can set up our visualization by first defining a plot using the `figure` method.   \n",
    "This is the place where we can define the `title` and the text for the `x` and `y` axis of our plot.   \n",
    "\n",
    "Once we have defined our plot figure, we can then add \"*layers*\" onto that plot.   \n",
    "There are several pre-defined visualizations incorporated.   \n",
    "- Lines\n",
    "- Scatters\n",
    "- Bars\n",
    "- Patches\n",
    "\n",
    "> You can find even more in the official documentaion: https://bokeh.pydata.org/en/latest/docs/user_guide/plotting.html#userguide-plotting\n",
    "\n",
    "\n",
    "Comparable to Matplotlib, the final call to display is done with the `show` method.   \n",
    "By default, this will open a new browser window/tab displaying the visualization. However since we're using `output_notebook` here, it will be embeded into this notebook."
   ]
  },
  {
   "cell_type": "code",
   "execution_count": 6,
   "metadata": {},
   "outputs": [
    {
     "data": {
      "text/html": [
       "\n",
       "\n",
       "\n",
       "\n",
       "\n",
       "\n",
       "  <div class=\"bk-root\" id=\"f396c8bd-ccaf-461e-9852-1b1a9e39ef50\"></div>\n"
      ]
     },
     "metadata": {},
     "output_type": "display_data"
    },
    {
     "data": {
      "application/javascript": [
       "(function(root) {\n",
       "  function embed_document(root) {\n",
       "    \n",
       "  var docs_json = {\"043ebe75-7ac1-4730-884b-65a9882689d9\":{\"roots\":{\"references\":[{\"attributes\":{\"below\":[{\"id\":\"1013\",\"type\":\"LinearAxis\"}],\"left\":[{\"id\":\"1018\",\"type\":\"LinearAxis\"}],\"renderers\":[{\"id\":\"1013\",\"type\":\"LinearAxis\"},{\"id\":\"1017\",\"type\":\"Grid\"},{\"id\":\"1018\",\"type\":\"LinearAxis\"},{\"id\":\"1022\",\"type\":\"Grid\"},{\"id\":\"1031\",\"type\":\"BoxAnnotation\"},{\"id\":\"1049\",\"type\":\"Legend\"},{\"id\":\"1041\",\"type\":\"GlyphRenderer\"}],\"title\":{\"id\":\"1002\",\"type\":\"Title\"},\"toolbar\":{\"id\":\"1029\",\"type\":\"Toolbar\"},\"x_range\":{\"id\":\"1005\",\"type\":\"DataRange1d\"},\"x_scale\":{\"id\":\"1009\",\"type\":\"LinearScale\"},\"y_range\":{\"id\":\"1007\",\"type\":\"DataRange1d\"},\"y_scale\":{\"id\":\"1011\",\"type\":\"LinearScale\"}},\"id\":\"1003\",\"subtype\":\"Figure\",\"type\":\"Plot\"},{\"attributes\":{},\"id\":\"1057\",\"type\":\"UnionRenderers\"},{\"attributes\":{\"plot\":{\"id\":\"1003\",\"subtype\":\"Figure\",\"type\":\"Plot\"},\"ticker\":{\"id\":\"1014\",\"type\":\"BasicTicker\"}},\"id\":\"1017\",\"type\":\"Grid\"},{\"attributes\":{\"axis_label\":\"Population Density\",\"formatter\":{\"id\":\"1046\",\"type\":\"BasicTickFormatter\"},\"plot\":{\"id\":\"1003\",\"subtype\":\"Figure\",\"type\":\"Plot\"},\"ticker\":{\"id\":\"1019\",\"type\":\"BasicTicker\"}},\"id\":\"1018\",\"type\":\"LinearAxis\"},{\"attributes\":{},\"id\":\"1019\",\"type\":\"BasicTicker\"},{\"attributes\":{\"items\":[{\"id\":\"1050\",\"type\":\"LegendItem\"}],\"plot\":{\"id\":\"1003\",\"subtype\":\"Figure\",\"type\":\"Plot\"}},\"id\":\"1049\",\"type\":\"Legend\"},{\"attributes\":{\"dimension\":1,\"plot\":{\"id\":\"1003\",\"subtype\":\"Figure\",\"type\":\"Plot\"},\"ticker\":{\"id\":\"1019\",\"type\":\"BasicTicker\"}},\"id\":\"1022\",\"type\":\"Grid\"},{\"attributes\":{\"callback\":null,\"data\":{\"x\":[\"1960\",\"1961\",\"1962\",\"1963\",\"1964\",\"1965\",\"1966\",\"1967\",\"1968\",\"1969\",\"1970\",\"1971\",\"1972\",\"1973\",\"1974\",\"1975\",\"1976\",\"1977\",\"1978\",\"1979\",\"1980\",\"1981\",\"1982\",\"1983\",\"1984\",\"1985\",\"1986\",\"1987\",\"1988\",\"1989\",\"1990\",\"1991\",\"1992\",\"1993\",\"1994\",\"1995\",\"1996\",\"1997\",\"1998\",\"1999\",\"2000\",\"2001\",\"2002\",\"2003\",\"2004\",\"2005\",\"2006\",\"2007\",\"2008\",\"2009\",\"2010\",\"2011\",\"2012\",\"2013\",\"2014\",\"2015\",\"2016\"],\"y\":[[\"NaN\"],[210.172806690917],[212.02928422077701],[214.00152665196302],[215.731495431501],[217.579970211669],[219.40340560822602],[220.40883338584499],[221.391212442357],[223.15378798728298],[223.897370606937],[224.308544095323],[225.384389768854],[226.095339844757],[226.183464612036],[225.341717984705],[224.377595737977],[223.870231718844],[223.675479047919],[223.774382035345],[224.239039899178],[224.580835218973],[224.367330220835],[223.77991579067998],[223.00771918769502],[222.50987597742997],[222.61173774811698],[222.953971300089],[223.826709248704],[225.564354251998],[227.517053819494],[229.18080944061],[230.930020336264],[232.45979319431703],[233.27417719343498],[233.96749069034698],[234.65247070955897],[235.022979515829],[235.07877772047402],[235.25773110206902],[235.596813297034],[236.027300085985],[236.45157083070598],[236.61642728132801],[236.592195429653],[236.464680582636],[236.225197866483],[235.94336191814602],[235.522178240542],[234.93963741717099],[234.60690822503398],[234.673149529493],[230.750625466231],[235.647997360418],[232.347793653526],[233.583362024445],[\"NaN\"]]},\"selected\":{\"id\":\"1058\",\"type\":\"Selection\"},\"selection_policy\":{\"id\":\"1057\",\"type\":\"UnionRenderers\"}},\"id\":\"1038\",\"type\":\"ColumnDataSource\"},{\"attributes\":{\"source\":{\"id\":\"1038\",\"type\":\"ColumnDataSource\"}},\"id\":\"1042\",\"type\":\"CDSView\"},{\"attributes\":{},\"id\":\"1044\",\"type\":\"BasicTickFormatter\"},{\"attributes\":{},\"id\":\"1058\",\"type\":\"Selection\"},{\"attributes\":{\"data_source\":{\"id\":\"1038\",\"type\":\"ColumnDataSource\"},\"glyph\":{\"id\":\"1039\",\"type\":\"Line\"},\"hover_glyph\":null,\"muted_glyph\":null,\"nonselection_glyph\":{\"id\":\"1040\",\"type\":\"Line\"},\"selection_glyph\":null,\"view\":{\"id\":\"1042\",\"type\":\"CDSView\"}},\"id\":\"1041\",\"type\":\"GlyphRenderer\"},{\"attributes\":{\"plot\":null,\"text\":\"Population Density of Germany\"},\"id\":\"1002\",\"type\":\"Title\"},{\"attributes\":{},\"id\":\"1046\",\"type\":\"BasicTickFormatter\"},{\"attributes\":{},\"id\":\"1023\",\"type\":\"PanTool\"},{\"attributes\":{\"line_color\":\"#1f77b4\",\"line_width\":2,\"x\":{\"field\":\"x\"},\"y\":{\"field\":\"y\"}},\"id\":\"1039\",\"type\":\"Line\"},{\"attributes\":{},\"id\":\"1024\",\"type\":\"WheelZoomTool\"},{\"attributes\":{\"overlay\":{\"id\":\"1031\",\"type\":\"BoxAnnotation\"}},\"id\":\"1025\",\"type\":\"BoxZoomTool\"},{\"attributes\":{},\"id\":\"1026\",\"type\":\"SaveTool\"},{\"attributes\":{},\"id\":\"1027\",\"type\":\"ResetTool\"},{\"attributes\":{\"callback\":null},\"id\":\"1005\",\"type\":\"DataRange1d\"},{\"attributes\":{},\"id\":\"1028\",\"type\":\"HelpTool\"},{\"attributes\":{\"callback\":null},\"id\":\"1007\",\"type\":\"DataRange1d\"},{\"attributes\":{\"active_drag\":\"auto\",\"active_inspect\":\"auto\",\"active_multi\":null,\"active_scroll\":\"auto\",\"active_tap\":\"auto\",\"tools\":[{\"id\":\"1023\",\"type\":\"PanTool\"},{\"id\":\"1024\",\"type\":\"WheelZoomTool\"},{\"id\":\"1025\",\"type\":\"BoxZoomTool\"},{\"id\":\"1026\",\"type\":\"SaveTool\"},{\"id\":\"1027\",\"type\":\"ResetTool\"},{\"id\":\"1028\",\"type\":\"HelpTool\"}]},\"id\":\"1029\",\"type\":\"Toolbar\"},{\"attributes\":{},\"id\":\"1009\",\"type\":\"LinearScale\"},{\"attributes\":{\"bottom_units\":\"screen\",\"fill_alpha\":{\"value\":0.5},\"fill_color\":{\"value\":\"lightgrey\"},\"left_units\":\"screen\",\"level\":\"overlay\",\"line_alpha\":{\"value\":1.0},\"line_color\":{\"value\":\"black\"},\"line_dash\":[4,4],\"line_width\":{\"value\":2},\"plot\":null,\"render_mode\":\"css\",\"right_units\":\"screen\",\"top_units\":\"screen\"},\"id\":\"1031\",\"type\":\"BoxAnnotation\"},{\"attributes\":{},\"id\":\"1011\",\"type\":\"LinearScale\"},{\"attributes\":{\"axis_label\":\"Year\",\"formatter\":{\"id\":\"1044\",\"type\":\"BasicTickFormatter\"},\"plot\":{\"id\":\"1003\",\"subtype\":\"Figure\",\"type\":\"Plot\"},\"ticker\":{\"id\":\"1014\",\"type\":\"BasicTicker\"}},\"id\":\"1013\",\"type\":\"LinearAxis\"},{\"attributes\":{},\"id\":\"1014\",\"type\":\"BasicTicker\"},{\"attributes\":{\"line_alpha\":0.1,\"line_color\":\"#1f77b4\",\"line_width\":2,\"x\":{\"field\":\"x\"},\"y\":{\"field\":\"y\"}},\"id\":\"1040\",\"type\":\"Line\"},{\"attributes\":{\"label\":{\"value\":\"Germany\"},\"renderers\":[{\"id\":\"1041\",\"type\":\"GlyphRenderer\"}]},\"id\":\"1050\",\"type\":\"LegendItem\"}],\"root_ids\":[\"1003\"]},\"title\":\"Bokeh Application\",\"version\":\"1.0.2\"}};\n",
       "  var render_items = [{\"docid\":\"043ebe75-7ac1-4730-884b-65a9882689d9\",\"roots\":{\"1003\":\"f396c8bd-ccaf-461e-9852-1b1a9e39ef50\"}}];\n",
       "  root.Bokeh.embed.embed_items_notebook(docs_json, render_items);\n",
       "\n",
       "  }\n",
       "  if (root.Bokeh !== undefined) {\n",
       "    embed_document(root);\n",
       "  } else {\n",
       "    var attempts = 0;\n",
       "    var timer = setInterval(function(root) {\n",
       "      if (root.Bokeh !== undefined) {\n",
       "        embed_document(root);\n",
       "        clearInterval(timer);\n",
       "      }\n",
       "      attempts++;\n",
       "      if (attempts > 100) {\n",
       "        console.log(\"Bokeh: ERROR: Unable to run BokehJS code because BokehJS library is missing\");\n",
       "        clearInterval(timer);\n",
       "      }\n",
       "    }, 10, root)\n",
       "  }\n",
       "})(window);"
      ],
      "application/vnd.bokehjs_exec.v0+json": ""
     },
     "metadata": {
      "application/vnd.bokehjs_exec.v0+json": {
       "id": "1003"
      }
     },
     "output_type": "display_data"
    }
   ],
   "source": [
    "# plotting the population density change in Germany in the given years\n",
    "plot = figure(title='Population Density of Germany', x_axis_label='Year', y_axis_label='Population Density')\n",
    "\n",
    "plot.line(years, de_vals, line_width=2, legend='Germany')\n",
    "\n",
    "show(plot)"
   ]
  },
  {
   "cell_type": "markdown",
   "metadata": {},
   "source": [
    "**Note:**   \n",
    "Note that the amount of data points in the first and second argument passed to the plotting methods has to be the same.   \n",
    "If your `x` list has 10 values, your `y` list also has to have 10 values."
   ]
  },
  {
   "cell_type": "markdown",
   "metadata": {},
   "source": [
    "---"
   ]
  },
  {
   "cell_type": "markdown",
   "metadata": {},
   "source": [
    "#### Simple plotting with geoplotlib"
   ]
  },
  {
   "cell_type": "markdown",
   "metadata": {},
   "source": [
    "When using bokehs high-level plotting interface, we are able to display several graphs in one plot.   \n",
    "This means that we can simply add different layers on top of each other to create more comlex constructs.   \n",
    "In our case, we want to add the population denstiy development of Switzerland on top of the one from Germany.  \n",
    "We also want to visually distinguish them from each other by using different colors and also adding a different graph style to our Switzerland line.   \n",
    "\n",
    "We first need to filter our data to extract the data of Switzerland.   \n",
    "After we've done that, we can use the same technique we saw in the first task to plot the line."
   ]
  },
  {
   "cell_type": "code",
   "execution_count": 7,
   "metadata": {},
   "outputs": [],
   "source": [
    "# preparing the data for the second country\n",
    "ch_vals = [dataset.loc[['Switzerland']][year] for year in years]"
   ]
  },
  {
   "cell_type": "code",
   "execution_count": 8,
   "metadata": {},
   "outputs": [
    {
     "data": {
      "text/html": [
       "\n",
       "\n",
       "\n",
       "\n",
       "\n",
       "\n",
       "  <div class=\"bk-root\" id=\"4ca2cb44-5daa-4707-a771-2798f7d5b7a6\"></div>\n"
      ]
     },
     "metadata": {},
     "output_type": "display_data"
    },
    {
     "data": {
      "application/javascript": [
       "(function(root) {\n",
       "  function embed_document(root) {\n",
       "    \n",
       "  var docs_json = {\"635b466b-642f-4929-8fb0-6228f7f72ecc\":{\"roots\":{\"references\":[{\"attributes\":{\"below\":[{\"id\":\"1118\",\"type\":\"LinearAxis\"}],\"left\":[{\"id\":\"1123\",\"type\":\"LinearAxis\"}],\"renderers\":[{\"id\":\"1118\",\"type\":\"LinearAxis\"},{\"id\":\"1122\",\"type\":\"Grid\"},{\"id\":\"1123\",\"type\":\"LinearAxis\"},{\"id\":\"1127\",\"type\":\"Grid\"},{\"id\":\"1136\",\"type\":\"BoxAnnotation\"},{\"id\":\"1154\",\"type\":\"Legend\"},{\"id\":\"1146\",\"type\":\"GlyphRenderer\"},{\"id\":\"1159\",\"type\":\"GlyphRenderer\"},{\"id\":\"1173\",\"type\":\"GlyphRenderer\"}],\"title\":{\"id\":\"1107\",\"type\":\"Title\"},\"toolbar\":{\"id\":\"1134\",\"type\":\"Toolbar\"},\"x_range\":{\"id\":\"1110\",\"type\":\"DataRange1d\"},\"x_scale\":{\"id\":\"1114\",\"type\":\"LinearScale\"},\"y_range\":{\"id\":\"1112\",\"type\":\"DataRange1d\"},\"y_scale\":{\"id\":\"1116\",\"type\":\"LinearScale\"}},\"id\":\"1108\",\"subtype\":\"Figure\",\"type\":\"Plot\"},{\"attributes\":{\"line_color\":\"orange\",\"line_width\":2,\"x\":{\"field\":\"x\"},\"y\":{\"field\":\"y\"}},\"id\":\"1157\",\"type\":\"Line\"},{\"attributes\":{\"line_alpha\":0.1,\"line_color\":\"#1f77b4\",\"line_width\":2,\"x\":{\"field\":\"x\"},\"y\":{\"field\":\"y\"}},\"id\":\"1145\",\"type\":\"Line\"},{\"attributes\":{\"line_alpha\":0.1,\"line_color\":\"#1f77b4\",\"line_width\":2,\"x\":{\"field\":\"x\"},\"y\":{\"field\":\"y\"}},\"id\":\"1158\",\"type\":\"Line\"},{\"attributes\":{},\"id\":\"1116\",\"type\":\"LinearScale\"},{\"attributes\":{\"data_source\":{\"id\":\"1156\",\"type\":\"ColumnDataSource\"},\"glyph\":{\"id\":\"1157\",\"type\":\"Line\"},\"hover_glyph\":null,\"muted_glyph\":null,\"nonselection_glyph\":{\"id\":\"1158\",\"type\":\"Line\"},\"selection_glyph\":null,\"view\":{\"id\":\"1160\",\"type\":\"CDSView\"}},\"id\":\"1159\",\"type\":\"GlyphRenderer\"},{\"attributes\":{},\"id\":\"1119\",\"type\":\"BasicTicker\"},{\"attributes\":{\"plot\":null,\"text\":\"Population Density of Germany and Switzerland\"},\"id\":\"1107\",\"type\":\"Title\"},{\"attributes\":{\"source\":{\"id\":\"1156\",\"type\":\"ColumnDataSource\"}},\"id\":\"1160\",\"type\":\"CDSView\"},{\"attributes\":{\"plot\":{\"id\":\"1108\",\"subtype\":\"Figure\",\"type\":\"Plot\"},\"ticker\":{\"id\":\"1119\",\"type\":\"BasicTicker\"}},\"id\":\"1122\",\"type\":\"Grid\"},{\"attributes\":{},\"id\":\"1129\",\"type\":\"WheelZoomTool\"},{\"attributes\":{},\"id\":\"1167\",\"type\":\"UnionRenderers\"},{\"attributes\":{},\"id\":\"1114\",\"type\":\"LinearScale\"},{\"attributes\":{\"overlay\":{\"id\":\"1136\",\"type\":\"BoxAnnotation\"}},\"id\":\"1130\",\"type\":\"BoxZoomTool\"},{\"attributes\":{},\"id\":\"1168\",\"type\":\"Selection\"},{\"attributes\":{},\"id\":\"1131\",\"type\":\"SaveTool\"},{\"attributes\":{\"label\":{\"value\":\"Switzerland\"},\"renderers\":[{\"id\":\"1159\",\"type\":\"GlyphRenderer\"},{\"id\":\"1173\",\"type\":\"GlyphRenderer\"}]},\"id\":\"1169\",\"type\":\"LegendItem\"},{\"attributes\":{\"callback\":null,\"data\":{\"x\":[\"1960\",\"1961\",\"1962\",\"1963\",\"1964\",\"1965\",\"1966\",\"1967\",\"1968\",\"1969\",\"1970\",\"1971\",\"1972\",\"1973\",\"1974\",\"1975\",\"1976\",\"1977\",\"1978\",\"1979\",\"1980\",\"1981\",\"1982\",\"1983\",\"1984\",\"1985\",\"1986\",\"1987\",\"1988\",\"1989\",\"1990\",\"1991\",\"1992\",\"1993\",\"1994\",\"1995\",\"1996\",\"1997\",\"1998\",\"1999\",\"2000\",\"2001\",\"2002\",\"2003\",\"2004\",\"2005\",\"2006\",\"2007\",\"2008\",\"2009\",\"2010\",\"2011\",\"2012\",\"2013\",\"2014\",\"2015\",\"2016\"],\"y\":[[\"NaN\"],[210.172806690917],[212.02928422077701],[214.00152665196302],[215.731495431501],[217.579970211669],[219.40340560822602],[220.40883338584499],[221.391212442357],[223.15378798728298],[223.897370606937],[224.308544095323],[225.384389768854],[226.095339844757],[226.183464612036],[225.341717984705],[224.377595737977],[223.870231718844],[223.675479047919],[223.774382035345],[224.239039899178],[224.580835218973],[224.367330220835],[223.77991579067998],[223.00771918769502],[222.50987597742997],[222.61173774811698],[222.953971300089],[223.826709248704],[225.564354251998],[227.517053819494],[229.18080944061],[230.930020336264],[232.45979319431703],[233.27417719343498],[233.96749069034698],[234.65247070955897],[235.022979515829],[235.07877772047402],[235.25773110206902],[235.596813297034],[236.027300085985],[236.45157083070598],[236.61642728132801],[236.592195429653],[236.464680582636],[236.225197866483],[235.94336191814602],[235.522178240542],[234.93963741717099],[234.60690822503398],[234.673149529493],[230.750625466231],[235.647997360418],[232.347793653526],[233.583362024445],[\"NaN\"]]},\"selected\":{\"id\":\"1168\",\"type\":\"Selection\"},\"selection_policy\":{\"id\":\"1167\",\"type\":\"UnionRenderers\"}},\"id\":\"1143\",\"type\":\"ColumnDataSource\"},{\"attributes\":{},\"id\":\"1132\",\"type\":\"ResetTool\"},{\"attributes\":{\"dimension\":1,\"plot\":{\"id\":\"1108\",\"subtype\":\"Figure\",\"type\":\"Plot\"},\"ticker\":{\"id\":\"1124\",\"type\":\"BasicTicker\"}},\"id\":\"1127\",\"type\":\"Grid\"},{\"attributes\":{\"callback\":null},\"id\":\"1112\",\"type\":\"DataRange1d\"},{\"attributes\":{},\"id\":\"1133\",\"type\":\"HelpTool\"},{\"attributes\":{\"fill_color\":{\"value\":\"white\"},\"line_color\":{\"value\":\"orange\"},\"x\":{\"field\":\"x\"},\"y\":{\"field\":\"y\"}},\"id\":\"1171\",\"type\":\"Circle\"},{\"attributes\":{\"active_drag\":\"auto\",\"active_inspect\":\"auto\",\"active_multi\":null,\"active_scroll\":\"auto\",\"active_tap\":\"auto\",\"tools\":[{\"id\":\"1128\",\"type\":\"PanTool\"},{\"id\":\"1129\",\"type\":\"WheelZoomTool\"},{\"id\":\"1130\",\"type\":\"BoxZoomTool\"},{\"id\":\"1131\",\"type\":\"SaveTool\"},{\"id\":\"1132\",\"type\":\"ResetTool\"},{\"id\":\"1133\",\"type\":\"HelpTool\"}]},\"id\":\"1134\",\"type\":\"Toolbar\"},{\"attributes\":{\"fill_alpha\":{\"value\":0.1},\"fill_color\":{\"value\":\"#1f77b4\"},\"line_alpha\":{\"value\":0.1},\"line_color\":{\"value\":\"#1f77b4\"},\"x\":{\"field\":\"x\"},\"y\":{\"field\":\"y\"}},\"id\":\"1172\",\"type\":\"Circle\"},{\"attributes\":{\"data_source\":{\"id\":\"1143\",\"type\":\"ColumnDataSource\"},\"glyph\":{\"id\":\"1144\",\"type\":\"Line\"},\"hover_glyph\":null,\"muted_glyph\":null,\"nonselection_glyph\":{\"id\":\"1145\",\"type\":\"Line\"},\"selection_glyph\":null,\"view\":{\"id\":\"1147\",\"type\":\"CDSView\"}},\"id\":\"1146\",\"type\":\"GlyphRenderer\"},{\"attributes\":{\"line_color\":\"#1f77b4\",\"line_width\":2,\"x\":{\"field\":\"x\"},\"y\":{\"field\":\"y\"}},\"id\":\"1144\",\"type\":\"Line\"},{\"attributes\":{\"data_source\":{\"id\":\"1170\",\"type\":\"ColumnDataSource\"},\"glyph\":{\"id\":\"1171\",\"type\":\"Circle\"},\"hover_glyph\":null,\"muted_glyph\":null,\"nonselection_glyph\":{\"id\":\"1172\",\"type\":\"Circle\"},\"selection_glyph\":null,\"view\":{\"id\":\"1174\",\"type\":\"CDSView\"}},\"id\":\"1173\",\"type\":\"GlyphRenderer\"},{\"attributes\":{\"bottom_units\":\"screen\",\"fill_alpha\":{\"value\":0.5},\"fill_color\":{\"value\":\"lightgrey\"},\"left_units\":\"screen\",\"level\":\"overlay\",\"line_alpha\":{\"value\":1.0},\"line_color\":{\"value\":\"black\"},\"line_dash\":[4,4],\"line_width\":{\"value\":2},\"plot\":null,\"render_mode\":\"css\",\"right_units\":\"screen\",\"top_units\":\"screen\"},\"id\":\"1136\",\"type\":\"BoxAnnotation\"},{\"attributes\":{\"callback\":null},\"id\":\"1110\",\"type\":\"DataRange1d\"},{\"attributes\":{\"source\":{\"id\":\"1170\",\"type\":\"ColumnDataSource\"}},\"id\":\"1174\",\"type\":\"CDSView\"},{\"attributes\":{},\"id\":\"1183\",\"type\":\"UnionRenderers\"},{\"attributes\":{},\"id\":\"1124\",\"type\":\"BasicTicker\"},{\"attributes\":{\"callback\":null,\"data\":{\"x\":[\"1960\",\"1961\",\"1962\",\"1963\",\"1964\",\"1965\",\"1966\",\"1967\",\"1968\",\"1969\",\"1970\",\"1971\",\"1972\",\"1973\",\"1974\",\"1975\",\"1976\",\"1977\",\"1978\",\"1979\",\"1980\",\"1981\",\"1982\",\"1983\",\"1984\",\"1985\",\"1986\",\"1987\",\"1988\",\"1989\",\"1990\",\"1991\",\"1992\",\"1993\",\"1994\",\"1995\",\"1996\",\"1997\",\"1998\",\"1999\",\"2000\",\"2001\",\"2002\",\"2003\",\"2004\",\"2005\",\"2006\",\"2007\",\"2008\",\"2009\",\"2010\",\"2011\",\"2012\",\"2013\",\"2014\",\"2015\",\"2016\"],\"y\":[[\"NaN\"],[137.479609390812],[141.009284557782],[144.056036227484],[146.458915199352],[148.160089050799],[149.716707144303],[151.583308034811],[153.504199554746],[155.24152499494],[156.36705626391398],[157.189814814815],[158.392936652499],[159.566560412872],[160.42817749443398],[160.358024691358],[159.444039668083],[158.904422181745],[158.918690548472],[159.238134992916],[159.871685893544],[160.74868447682698],[161.690674964582],[162.385473588342],[162.96554428394302],[163.686533937109],[164.540565154697],[165.577322978067],[166.798704748413],[168.152799210706],[169.888411039996],[172.02504490374199],[173.932151078955],[175.523413190316],[176.928204609274],[178.11447291861697],[178.90735681036202],[179.34338553393903],[179.88162222334702],[180.746135357369],[181.76930472624198],[182.9277635807],[184.321466524973],[185.698767743731],[186.984438259109],[188.195632370059],[189.385176000202],[191.090115396295],[193.53363194655302],[195.966975402369],[198.01875189796502],[200.23276647433997],[202.370204474137],[204.71064885109797],[207.223630934305],[209.711914161352],[\"NaN\"]]},\"selected\":{\"id\":\"1184\",\"type\":\"Selection\"},\"selection_policy\":{\"id\":\"1183\",\"type\":\"UnionRenderers\"}},\"id\":\"1156\",\"type\":\"ColumnDataSource\"},{\"attributes\":{},\"id\":\"1128\",\"type\":\"PanTool\"},{\"attributes\":{},\"id\":\"1184\",\"type\":\"Selection\"},{\"attributes\":{\"source\":{\"id\":\"1143\",\"type\":\"ColumnDataSource\"}},\"id\":\"1147\",\"type\":\"CDSView\"},{\"attributes\":{},\"id\":\"1149\",\"type\":\"BasicTickFormatter\"},{\"attributes\":{},\"id\":\"1204\",\"type\":\"Selection\"},{\"attributes\":{\"axis_label\":\"Year\",\"formatter\":{\"id\":\"1149\",\"type\":\"BasicTickFormatter\"},\"plot\":{\"id\":\"1108\",\"subtype\":\"Figure\",\"type\":\"Plot\"},\"ticker\":{\"id\":\"1119\",\"type\":\"BasicTicker\"}},\"id\":\"1118\",\"type\":\"LinearAxis\"},{\"attributes\":{},\"id\":\"1203\",\"type\":\"UnionRenderers\"},{\"attributes\":{},\"id\":\"1151\",\"type\":\"BasicTickFormatter\"},{\"attributes\":{\"items\":[{\"id\":\"1155\",\"type\":\"LegendItem\"},{\"id\":\"1169\",\"type\":\"LegendItem\"}],\"plot\":{\"id\":\"1108\",\"subtype\":\"Figure\",\"type\":\"Plot\"}},\"id\":\"1154\",\"type\":\"Legend\"},{\"attributes\":{\"axis_label\":\"Population Density\",\"formatter\":{\"id\":\"1151\",\"type\":\"BasicTickFormatter\"},\"plot\":{\"id\":\"1108\",\"subtype\":\"Figure\",\"type\":\"Plot\"},\"ticker\":{\"id\":\"1124\",\"type\":\"BasicTicker\"}},\"id\":\"1123\",\"type\":\"LinearAxis\"},{\"attributes\":{\"label\":{\"value\":\"Germany\"},\"renderers\":[{\"id\":\"1146\",\"type\":\"GlyphRenderer\"}]},\"id\":\"1155\",\"type\":\"LegendItem\"},{\"attributes\":{\"callback\":null,\"data\":{\"x\":[\"1960\",\"1961\",\"1962\",\"1963\",\"1964\",\"1965\",\"1966\",\"1967\",\"1968\",\"1969\",\"1970\",\"1971\",\"1972\",\"1973\",\"1974\",\"1975\",\"1976\",\"1977\",\"1978\",\"1979\",\"1980\",\"1981\",\"1982\",\"1983\",\"1984\",\"1985\",\"1986\",\"1987\",\"1988\",\"1989\",\"1990\",\"1991\",\"1992\",\"1993\",\"1994\",\"1995\",\"1996\",\"1997\",\"1998\",\"1999\",\"2000\",\"2001\",\"2002\",\"2003\",\"2004\",\"2005\",\"2006\",\"2007\",\"2008\",\"2009\",\"2010\",\"2011\",\"2012\",\"2013\",\"2014\",\"2015\",\"2016\"],\"y\":[[\"NaN\"],[137.479609390812],[141.009284557782],[144.056036227484],[146.458915199352],[148.160089050799],[149.716707144303],[151.583308034811],[153.504199554746],[155.24152499494],[156.36705626391398],[157.189814814815],[158.392936652499],[159.566560412872],[160.42817749443398],[160.358024691358],[159.444039668083],[158.904422181745],[158.918690548472],[159.238134992916],[159.871685893544],[160.74868447682698],[161.690674964582],[162.385473588342],[162.96554428394302],[163.686533937109],[164.540565154697],[165.577322978067],[166.798704748413],[168.152799210706],[169.888411039996],[172.02504490374199],[173.932151078955],[175.523413190316],[176.928204609274],[178.11447291861697],[178.90735681036202],[179.34338553393903],[179.88162222334702],[180.746135357369],[181.76930472624198],[182.9277635807],[184.321466524973],[185.698767743731],[186.984438259109],[188.195632370059],[189.385176000202],[191.090115396295],[193.53363194655302],[195.966975402369],[198.01875189796502],[200.23276647433997],[202.370204474137],[204.71064885109797],[207.223630934305],[209.711914161352],[\"NaN\"]]},\"selected\":{\"id\":\"1204\",\"type\":\"Selection\"},\"selection_policy\":{\"id\":\"1203\",\"type\":\"UnionRenderers\"}},\"id\":\"1170\",\"type\":\"ColumnDataSource\"}],\"root_ids\":[\"1108\"]},\"title\":\"Bokeh Application\",\"version\":\"1.0.2\"}};\n",
       "  var render_items = [{\"docid\":\"635b466b-642f-4929-8fb0-6228f7f72ecc\",\"roots\":{\"1108\":\"4ca2cb44-5daa-4707-a771-2798f7d5b7a6\"}}];\n",
       "  root.Bokeh.embed.embed_items_notebook(docs_json, render_items);\n",
       "\n",
       "  }\n",
       "  if (root.Bokeh !== undefined) {\n",
       "    embed_document(root);\n",
       "  } else {\n",
       "    var attempts = 0;\n",
       "    var timer = setInterval(function(root) {\n",
       "      if (root.Bokeh !== undefined) {\n",
       "        embed_document(root);\n",
       "        clearInterval(timer);\n",
       "      }\n",
       "      attempts++;\n",
       "      if (attempts > 100) {\n",
       "        console.log(\"Bokeh: ERROR: Unable to run BokehJS code because BokehJS library is missing\");\n",
       "        clearInterval(timer);\n",
       "      }\n",
       "    }, 10, root)\n",
       "  }\n",
       "})(window);"
      ],
      "application/vnd.bokehjs_exec.v0+json": ""
     },
     "metadata": {
      "application/vnd.bokehjs_exec.v0+json": {
       "id": "1108"
      }
     },
     "output_type": "display_data"
    }
   ],
   "source": [
    "# plotting the data for Germany and Switzerland in one visualization, \n",
    "# adding circles for each data point for Switzerland\n",
    "plot = figure(title='Population Density of Germany and Switzerland', x_axis_label='Year', y_axis_label='Population Density')\n",
    "\n",
    "plot.line(years, de_vals, line_width=2, legend='Germany')\n",
    "plot.line(years, ch_vals, line_width=2, color='orange', legend='Switzerland')\n",
    "plot.circle(years, ch_vals, size=4, line_color='orange', fill_color='white', legend='Switzerland')\n",
    "\n",
    "show(plot)"
   ]
  },
  {
   "cell_type": "markdown",
   "metadata": {},
   "source": [
    "**Note:**   \n",
    "Using Bokeh, we are also able to stack different graphs on top of each other which gives us the tooling to not only differentiate the graphs by color but other features like different line styles."
   ]
  },
  {
   "cell_type": "markdown",
   "metadata": {},
   "source": [
    "In the next task, we want to display the plots next to each other instead if having them stacked.   \n",
    "In some cases this will allow us to compare many plots better since they are not layered on top of each other.   \n",
    "We can still make sure all of the plots have the same `x` and `y` axis for better comparison by providing the `x_range` and `y_range` values to our other figures.   \n",
    "\n",
    "Bokeh provides a submodule that gives us access to several layouts. So we need an additional import here.   \n",
    "The `gridplot` object allows us to provide a two dimensional array which describes the positions of the plots on a grid."
   ]
  },
  {
   "cell_type": "code",
   "execution_count": 9,
   "metadata": {},
   "outputs": [
    {
     "data": {
      "text/html": [
       "\n",
       "\n",
       "\n",
       "\n",
       "\n",
       "\n",
       "  <div class=\"bk-root\" id=\"1084e731-d940-4b8e-b289-ded3e44c3336\"></div>\n"
      ]
     },
     "metadata": {},
     "output_type": "display_data"
    },
    {
     "data": {
      "application/javascript": [
       "(function(root) {\n",
       "  function embed_document(root) {\n",
       "    \n",
       "  var docs_json = {\"9762fd24-877a-45eb-b362-a3ff9e372c23\":{\"roots\":{\"references\":[{\"attributes\":{\"children\":[{\"id\":\"1378\",\"type\":\"ToolbarBox\"},{\"id\":\"1376\",\"type\":\"Column\"}]},\"id\":\"1379\",\"type\":\"Column\"},{\"attributes\":{},\"id\":\"1360\",\"type\":\"BasicTickFormatter\"},{\"attributes\":{\"line_alpha\":0.1,\"line_color\":\"#1f77b4\",\"line_width\":2,\"x\":{\"field\":\"x\"},\"y\":{\"field\":\"y\"}},\"id\":\"1349\",\"type\":\"Line\"},{\"attributes\":{\"data_source\":{\"id\":\"1347\",\"type\":\"ColumnDataSource\"},\"glyph\":{\"id\":\"1348\",\"type\":\"Line\"},\"hover_glyph\":null,\"muted_glyph\":null,\"nonselection_glyph\":{\"id\":\"1349\",\"type\":\"Line\"},\"selection_glyph\":null,\"view\":{\"id\":\"1351\",\"type\":\"CDSView\"}},\"id\":\"1350\",\"type\":\"GlyphRenderer\"},{\"attributes\":{},\"id\":\"1298\",\"type\":\"PanTool\"},{\"attributes\":{},\"id\":\"1332\",\"type\":\"PanTool\"},{\"attributes\":{\"callback\":null,\"data\":{\"x\":[\"1960\",\"1961\",\"1962\",\"1963\",\"1964\",\"1965\",\"1966\",\"1967\",\"1968\",\"1969\",\"1970\",\"1971\",\"1972\",\"1973\",\"1974\",\"1975\",\"1976\",\"1977\",\"1978\",\"1979\",\"1980\",\"1981\",\"1982\",\"1983\",\"1984\",\"1985\",\"1986\",\"1987\",\"1988\",\"1989\",\"1990\",\"1991\",\"1992\",\"1993\",\"1994\",\"1995\",\"1996\",\"1997\",\"1998\",\"1999\",\"2000\",\"2001\",\"2002\",\"2003\",\"2004\",\"2005\",\"2006\",\"2007\",\"2008\",\"2009\",\"2010\",\"2011\",\"2012\",\"2013\",\"2014\",\"2015\",\"2016\"],\"y\":[[\"NaN\"],[210.172806690917],[212.02928422077701],[214.00152665196302],[215.731495431501],[217.579970211669],[219.40340560822602],[220.40883338584499],[221.391212442357],[223.15378798728298],[223.897370606937],[224.308544095323],[225.384389768854],[226.095339844757],[226.183464612036],[225.341717984705],[224.377595737977],[223.870231718844],[223.675479047919],[223.774382035345],[224.239039899178],[224.580835218973],[224.367330220835],[223.77991579067998],[223.00771918769502],[222.50987597742997],[222.61173774811698],[222.953971300089],[223.826709248704],[225.564354251998],[227.517053819494],[229.18080944061],[230.930020336264],[232.45979319431703],[233.27417719343498],[233.96749069034698],[234.65247070955897],[235.022979515829],[235.07877772047402],[235.25773110206902],[235.596813297034],[236.027300085985],[236.45157083070598],[236.61642728132801],[236.592195429653],[236.464680582636],[236.225197866483],[235.94336191814602],[235.522178240542],[234.93963741717099],[234.60690822503398],[234.673149529493],[230.750625466231],[235.647997360418],[232.347793653526],[233.583362024445],[\"NaN\"]]},\"selected\":{\"id\":\"1364\",\"type\":\"Selection\"},\"selection_policy\":{\"id\":\"1363\",\"type\":\"UnionRenderers\"}},\"id\":\"1347\",\"type\":\"ColumnDataSource\"},{\"attributes\":{},\"id\":\"1364\",\"type\":\"Selection\"},{\"attributes\":{\"below\":[{\"id\":\"1288\",\"type\":\"LinearAxis\"}],\"left\":[{\"id\":\"1293\",\"type\":\"LinearAxis\"}],\"plot_height\":300,\"renderers\":[{\"id\":\"1288\",\"type\":\"LinearAxis\"},{\"id\":\"1292\",\"type\":\"Grid\"},{\"id\":\"1293\",\"type\":\"LinearAxis\"},{\"id\":\"1297\",\"type\":\"Grid\"},{\"id\":\"1306\",\"type\":\"BoxAnnotation\"},{\"id\":\"1350\",\"type\":\"GlyphRenderer\"}],\"title\":{\"id\":\"1277\",\"type\":\"Title\"},\"toolbar\":{\"id\":\"1304\",\"type\":\"Toolbar\"},\"toolbar_location\":null,\"x_range\":{\"id\":\"1280\",\"type\":\"DataRange1d\"},\"x_scale\":{\"id\":\"1284\",\"type\":\"LinearScale\"},\"y_range\":{\"id\":\"1282\",\"type\":\"DataRange1d\"},\"y_scale\":{\"id\":\"1286\",\"type\":\"LinearScale\"}},\"id\":\"1278\",\"subtype\":\"Figure\",\"type\":\"Plot\"},{\"attributes\":{},\"id\":\"1299\",\"type\":\"WheelZoomTool\"},{\"attributes\":{},\"id\":\"1333\",\"type\":\"WheelZoomTool\"},{\"attributes\":{\"below\":[{\"id\":\"1322\",\"type\":\"LinearAxis\"}],\"left\":[{\"id\":\"1327\",\"type\":\"LinearAxis\"}],\"plot_height\":300,\"renderers\":[{\"id\":\"1322\",\"type\":\"LinearAxis\"},{\"id\":\"1326\",\"type\":\"Grid\"},{\"id\":\"1327\",\"type\":\"LinearAxis\"},{\"id\":\"1331\",\"type\":\"Grid\"},{\"id\":\"1340\",\"type\":\"BoxAnnotation\"},{\"id\":\"1355\",\"type\":\"GlyphRenderer\"}],\"title\":{\"id\":\"1313\",\"type\":\"Title\"},\"toolbar\":{\"id\":\"1338\",\"type\":\"Toolbar\"},\"toolbar_location\":null,\"x_range\":{\"id\":\"1280\",\"type\":\"DataRange1d\"},\"x_scale\":{\"id\":\"1318\",\"type\":\"LinearScale\"},\"y_range\":{\"id\":\"1282\",\"type\":\"DataRange1d\"},\"y_scale\":{\"id\":\"1320\",\"type\":\"LinearScale\"}},\"id\":\"1314\",\"subtype\":\"Figure\",\"type\":\"Plot\"},{\"attributes\":{},\"id\":\"1367\",\"type\":\"BasicTickFormatter\"},{\"attributes\":{\"plot\":null,\"text\":\"Population Density of Germany\"},\"id\":\"1277\",\"type\":\"Title\"},{\"attributes\":{\"overlay\":{\"id\":\"1306\",\"type\":\"BoxAnnotation\"}},\"id\":\"1300\",\"type\":\"BoxZoomTool\"},{\"attributes\":{\"overlay\":{\"id\":\"1340\",\"type\":\"BoxAnnotation\"}},\"id\":\"1334\",\"type\":\"BoxZoomTool\"},{\"attributes\":{},\"id\":\"1369\",\"type\":\"BasicTickFormatter\"},{\"attributes\":{},\"id\":\"1301\",\"type\":\"SaveTool\"},{\"attributes\":{},\"id\":\"1335\",\"type\":\"SaveTool\"},{\"attributes\":{},\"id\":\"1363\",\"type\":\"UnionRenderers\"},{\"attributes\":{},\"id\":\"1372\",\"type\":\"UnionRenderers\"},{\"attributes\":{},\"id\":\"1302\",\"type\":\"ResetTool\"},{\"attributes\":{},\"id\":\"1336\",\"type\":\"ResetTool\"},{\"attributes\":{},\"id\":\"1373\",\"type\":\"Selection\"},{\"attributes\":{},\"id\":\"1303\",\"type\":\"HelpTool\"},{\"attributes\":{},\"id\":\"1337\",\"type\":\"HelpTool\"},{\"attributes\":{\"callback\":null},\"id\":\"1280\",\"type\":\"DataRange1d\"},{\"attributes\":{\"tools\":[{\"id\":\"1298\",\"type\":\"PanTool\"},{\"id\":\"1299\",\"type\":\"WheelZoomTool\"},{\"id\":\"1300\",\"type\":\"BoxZoomTool\"},{\"id\":\"1301\",\"type\":\"SaveTool\"},{\"id\":\"1302\",\"type\":\"ResetTool\"},{\"id\":\"1303\",\"type\":\"HelpTool\"},{\"id\":\"1332\",\"type\":\"PanTool\"},{\"id\":\"1333\",\"type\":\"WheelZoomTool\"},{\"id\":\"1334\",\"type\":\"BoxZoomTool\"},{\"id\":\"1335\",\"type\":\"SaveTool\"},{\"id\":\"1336\",\"type\":\"ResetTool\"},{\"id\":\"1337\",\"type\":\"HelpTool\"}]},\"id\":\"1377\",\"type\":\"ProxyToolbar\"},{\"attributes\":{\"active_drag\":\"auto\",\"active_inspect\":\"auto\",\"active_multi\":null,\"active_scroll\":\"auto\",\"active_tap\":\"auto\",\"tools\":[{\"id\":\"1298\",\"type\":\"PanTool\"},{\"id\":\"1299\",\"type\":\"WheelZoomTool\"},{\"id\":\"1300\",\"type\":\"BoxZoomTool\"},{\"id\":\"1301\",\"type\":\"SaveTool\"},{\"id\":\"1302\",\"type\":\"ResetTool\"},{\"id\":\"1303\",\"type\":\"HelpTool\"}]},\"id\":\"1304\",\"type\":\"Toolbar\"},{\"attributes\":{\"active_drag\":\"auto\",\"active_inspect\":\"auto\",\"active_multi\":null,\"active_scroll\":\"auto\",\"active_tap\":\"auto\",\"tools\":[{\"id\":\"1332\",\"type\":\"PanTool\"},{\"id\":\"1333\",\"type\":\"WheelZoomTool\"},{\"id\":\"1334\",\"type\":\"BoxZoomTool\"},{\"id\":\"1335\",\"type\":\"SaveTool\"},{\"id\":\"1336\",\"type\":\"ResetTool\"},{\"id\":\"1337\",\"type\":\"HelpTool\"}]},\"id\":\"1338\",\"type\":\"Toolbar\"},{\"attributes\":{},\"id\":\"1318\",\"type\":\"LinearScale\"},{\"attributes\":{\"callback\":null},\"id\":\"1282\",\"type\":\"DataRange1d\"},{\"attributes\":{\"toolbar\":{\"id\":\"1377\",\"type\":\"ProxyToolbar\"},\"toolbar_location\":\"above\"},\"id\":\"1378\",\"type\":\"ToolbarBox\"},{\"attributes\":{\"bottom_units\":\"screen\",\"fill_alpha\":{\"value\":0.5},\"fill_color\":{\"value\":\"lightgrey\"},\"left_units\":\"screen\",\"level\":\"overlay\",\"line_alpha\":{\"value\":1.0},\"line_color\":{\"value\":\"black\"},\"line_dash\":[4,4],\"line_width\":{\"value\":2},\"plot\":null,\"render_mode\":\"css\",\"right_units\":\"screen\",\"top_units\":\"screen\"},\"id\":\"1306\",\"type\":\"BoxAnnotation\"},{\"attributes\":{\"bottom_units\":\"screen\",\"fill_alpha\":{\"value\":0.5},\"fill_color\":{\"value\":\"lightgrey\"},\"left_units\":\"screen\",\"level\":\"overlay\",\"line_alpha\":{\"value\":1.0},\"line_color\":{\"value\":\"black\"},\"line_dash\":[4,4],\"line_width\":{\"value\":2},\"plot\":null,\"render_mode\":\"css\",\"right_units\":\"screen\",\"top_units\":\"screen\"},\"id\":\"1340\",\"type\":\"BoxAnnotation\"},{\"attributes\":{},\"id\":\"1284\",\"type\":\"LinearScale\"},{\"attributes\":{},\"id\":\"1320\",\"type\":\"LinearScale\"},{\"attributes\":{},\"id\":\"1286\",\"type\":\"LinearScale\"},{\"attributes\":{\"source\":{\"id\":\"1347\",\"type\":\"ColumnDataSource\"}},\"id\":\"1351\",\"type\":\"CDSView\"},{\"attributes\":{\"axis_label\":\"Year\",\"formatter\":{\"id\":\"1367\",\"type\":\"BasicTickFormatter\"},\"plot\":{\"id\":\"1314\",\"subtype\":\"Figure\",\"type\":\"Plot\"},\"ticker\":{\"id\":\"1323\",\"type\":\"BasicTicker\"}},\"id\":\"1322\",\"type\":\"LinearAxis\"},{\"attributes\":{\"axis_label\":\"Year\",\"formatter\":{\"id\":\"1358\",\"type\":\"BasicTickFormatter\"},\"plot\":{\"id\":\"1278\",\"subtype\":\"Figure\",\"type\":\"Plot\"},\"ticker\":{\"id\":\"1289\",\"type\":\"BasicTicker\"}},\"id\":\"1288\",\"type\":\"LinearAxis\"},{\"attributes\":{\"children\":[{\"id\":\"1278\",\"subtype\":\"Figure\",\"type\":\"Plot\"},{\"id\":\"1314\",\"subtype\":\"Figure\",\"type\":\"Plot\"}]},\"id\":\"1375\",\"type\":\"Row\"},{\"attributes\":{},\"id\":\"1358\",\"type\":\"BasicTickFormatter\"},{\"attributes\":{},\"id\":\"1323\",\"type\":\"BasicTicker\"},{\"attributes\":{\"children\":[{\"id\":\"1375\",\"type\":\"Row\"}]},\"id\":\"1376\",\"type\":\"Column\"},{\"attributes\":{},\"id\":\"1289\",\"type\":\"BasicTicker\"},{\"attributes\":{\"line_color\":\"#1f77b4\",\"line_width\":2,\"x\":{\"field\":\"x\"},\"y\":{\"field\":\"y\"}},\"id\":\"1353\",\"type\":\"Line\"},{\"attributes\":{\"plot\":{\"id\":\"1314\",\"subtype\":\"Figure\",\"type\":\"Plot\"},\"ticker\":{\"id\":\"1323\",\"type\":\"BasicTicker\"}},\"id\":\"1326\",\"type\":\"Grid\"},{\"attributes\":{\"plot\":{\"id\":\"1278\",\"subtype\":\"Figure\",\"type\":\"Plot\"},\"ticker\":{\"id\":\"1289\",\"type\":\"BasicTicker\"}},\"id\":\"1292\",\"type\":\"Grid\"},{\"attributes\":{\"line_alpha\":0.1,\"line_color\":\"#1f77b4\",\"line_width\":2,\"x\":{\"field\":\"x\"},\"y\":{\"field\":\"y\"}},\"id\":\"1354\",\"type\":\"Line\"},{\"attributes\":{\"axis_label\":\"Population Density\",\"formatter\":{\"id\":\"1369\",\"type\":\"BasicTickFormatter\"},\"plot\":{\"id\":\"1314\",\"subtype\":\"Figure\",\"type\":\"Plot\"},\"ticker\":{\"id\":\"1328\",\"type\":\"BasicTicker\"}},\"id\":\"1327\",\"type\":\"LinearAxis\"},{\"attributes\":{\"axis_label\":\"Population Density\",\"formatter\":{\"id\":\"1360\",\"type\":\"BasicTickFormatter\"},\"plot\":{\"id\":\"1278\",\"subtype\":\"Figure\",\"type\":\"Plot\"},\"ticker\":{\"id\":\"1294\",\"type\":\"BasicTicker\"}},\"id\":\"1293\",\"type\":\"LinearAxis\"},{\"attributes\":{\"data_source\":{\"id\":\"1352\",\"type\":\"ColumnDataSource\"},\"glyph\":{\"id\":\"1353\",\"type\":\"Line\"},\"hover_glyph\":null,\"muted_glyph\":null,\"nonselection_glyph\":{\"id\":\"1354\",\"type\":\"Line\"},\"selection_glyph\":null,\"view\":{\"id\":\"1356\",\"type\":\"CDSView\"}},\"id\":\"1355\",\"type\":\"GlyphRenderer\"},{\"attributes\":{},\"id\":\"1328\",\"type\":\"BasicTicker\"},{\"attributes\":{},\"id\":\"1294\",\"type\":\"BasicTicker\"},{\"attributes\":{\"source\":{\"id\":\"1352\",\"type\":\"ColumnDataSource\"}},\"id\":\"1356\",\"type\":\"CDSView\"},{\"attributes\":{\"dimension\":1,\"plot\":{\"id\":\"1314\",\"subtype\":\"Figure\",\"type\":\"Plot\"},\"ticker\":{\"id\":\"1328\",\"type\":\"BasicTicker\"}},\"id\":\"1331\",\"type\":\"Grid\"},{\"attributes\":{\"dimension\":1,\"plot\":{\"id\":\"1278\",\"subtype\":\"Figure\",\"type\":\"Plot\"},\"ticker\":{\"id\":\"1294\",\"type\":\"BasicTicker\"}},\"id\":\"1297\",\"type\":\"Grid\"},{\"attributes\":{\"line_color\":\"#1f77b4\",\"line_width\":2,\"x\":{\"field\":\"x\"},\"y\":{\"field\":\"y\"}},\"id\":\"1348\",\"type\":\"Line\"},{\"attributes\":{\"callback\":null,\"data\":{\"x\":[\"1960\",\"1961\",\"1962\",\"1963\",\"1964\",\"1965\",\"1966\",\"1967\",\"1968\",\"1969\",\"1970\",\"1971\",\"1972\",\"1973\",\"1974\",\"1975\",\"1976\",\"1977\",\"1978\",\"1979\",\"1980\",\"1981\",\"1982\",\"1983\",\"1984\",\"1985\",\"1986\",\"1987\",\"1988\",\"1989\",\"1990\",\"1991\",\"1992\",\"1993\",\"1994\",\"1995\",\"1996\",\"1997\",\"1998\",\"1999\",\"2000\",\"2001\",\"2002\",\"2003\",\"2004\",\"2005\",\"2006\",\"2007\",\"2008\",\"2009\",\"2010\",\"2011\",\"2012\",\"2013\",\"2014\",\"2015\",\"2016\"],\"y\":[[\"NaN\"],[137.479609390812],[141.009284557782],[144.056036227484],[146.458915199352],[148.160089050799],[149.716707144303],[151.583308034811],[153.504199554746],[155.24152499494],[156.36705626391398],[157.189814814815],[158.392936652499],[159.566560412872],[160.42817749443398],[160.358024691358],[159.444039668083],[158.904422181745],[158.918690548472],[159.238134992916],[159.871685893544],[160.74868447682698],[161.690674964582],[162.385473588342],[162.96554428394302],[163.686533937109],[164.540565154697],[165.577322978067],[166.798704748413],[168.152799210706],[169.888411039996],[172.02504490374199],[173.932151078955],[175.523413190316],[176.928204609274],[178.11447291861697],[178.90735681036202],[179.34338553393903],[179.88162222334702],[180.746135357369],[181.76930472624198],[182.9277635807],[184.321466524973],[185.698767743731],[186.984438259109],[188.195632370059],[189.385176000202],[191.090115396295],[193.53363194655302],[195.966975402369],[198.01875189796502],[200.23276647433997],[202.370204474137],[204.71064885109797],[207.223630934305],[209.711914161352],[\"NaN\"]]},\"selected\":{\"id\":\"1373\",\"type\":\"Selection\"},\"selection_policy\":{\"id\":\"1372\",\"type\":\"UnionRenderers\"}},\"id\":\"1352\",\"type\":\"ColumnDataSource\"},{\"attributes\":{\"plot\":null,\"text\":\"Population Density of Switzerland\"},\"id\":\"1313\",\"type\":\"Title\"}],\"root_ids\":[\"1379\"]},\"title\":\"Bokeh Application\",\"version\":\"1.0.2\"}};\n",
       "  var render_items = [{\"docid\":\"9762fd24-877a-45eb-b362-a3ff9e372c23\",\"roots\":{\"1379\":\"1084e731-d940-4b8e-b289-ded3e44c3336\"}}];\n",
       "  root.Bokeh.embed.embed_items_notebook(docs_json, render_items);\n",
       "\n",
       "  }\n",
       "  if (root.Bokeh !== undefined) {\n",
       "    embed_document(root);\n",
       "  } else {\n",
       "    var attempts = 0;\n",
       "    var timer = setInterval(function(root) {\n",
       "      if (root.Bokeh !== undefined) {\n",
       "        embed_document(root);\n",
       "        clearInterval(timer);\n",
       "      }\n",
       "      attempts++;\n",
       "      if (attempts > 100) {\n",
       "        console.log(\"Bokeh: ERROR: Unable to run BokehJS code because BokehJS library is missing\");\n",
       "        clearInterval(timer);\n",
       "      }\n",
       "    }, 10, root)\n",
       "  }\n",
       "})(window);"
      ],
      "application/vnd.bokehjs_exec.v0+json": ""
     },
     "metadata": {
      "application/vnd.bokehjs_exec.v0+json": {
       "id": "1379"
      }
     },
     "output_type": "display_data"
    }
   ],
   "source": [
    "# plotting the Germany and Switzerland plot in two different visualizations\n",
    "# that are interconnected in terms of view port\n",
    "from bokeh.layouts import gridplot\n",
    "\n",
    "plot_de = figure(\n",
    "    title='Population Density of Germany', \n",
    "    x_axis_label='Year', \n",
    "    y_axis_label='Population Density',\n",
    "    plot_height=300)\n",
    "\n",
    "plot_ch = figure(\n",
    "    title='Population Density of Switzerland', \n",
    "    x_axis_label='Year', \n",
    "    y_axis_label='Population Density',\n",
    "    plot_height=300,\n",
    "    x_range=plot_de.x_range, \n",
    "    y_range=plot_de.y_range)\n",
    "\n",
    "plot_de.line(years, de_vals, line_width=2)\n",
    "plot_ch.line(years, ch_vals, line_width=2)\n",
    "\n",
    "plot = gridplot([[plot_de, plot_ch]])\n",
    "\n",
    "show(plot)"
   ]
  },
  {
   "cell_type": "markdown",
   "metadata": {},
   "source": [
    "**Note:**   \n",
    "This means that if we provide two lists nested, we can control the output to be printed in a vertically stacked way instead of next to each other."
   ]
  },
  {
   "cell_type": "code",
   "execution_count": 10,
   "metadata": {},
   "outputs": [
    {
     "data": {
      "text/html": [
       "\n",
       "\n",
       "\n",
       "\n",
       "\n",
       "\n",
       "  <div class=\"bk-root\" id=\"4c3698b1-2c44-4f8c-93d7-ff5e4a2e4dee\"></div>\n"
      ]
     },
     "metadata": {},
     "output_type": "display_data"
    },
    {
     "data": {
      "application/javascript": [
       "(function(root) {\n",
       "  function embed_document(root) {\n",
       "    \n",
       "  var docs_json = {\"8511b368-2444-428f-9f82-e24fe3fe44bd\":{\"roots\":{\"references\":[{\"attributes\":{\"children\":[{\"id\":\"1534\",\"type\":\"ToolbarBox\"},{\"id\":\"1532\",\"type\":\"Column\"}]},\"id\":\"1535\",\"type\":\"Column\"},{\"attributes\":{},\"id\":\"1360\",\"type\":\"BasicTickFormatter\"},{\"attributes\":{\"line_alpha\":0.1,\"line_color\":\"#1f77b4\",\"line_width\":2,\"x\":{\"field\":\"x\"},\"y\":{\"field\":\"y\"}},\"id\":\"1349\",\"type\":\"Line\"},{\"attributes\":{\"data_source\":{\"id\":\"1347\",\"type\":\"ColumnDataSource\"},\"glyph\":{\"id\":\"1348\",\"type\":\"Line\"},\"hover_glyph\":null,\"muted_glyph\":null,\"nonselection_glyph\":{\"id\":\"1349\",\"type\":\"Line\"},\"selection_glyph\":null,\"view\":{\"id\":\"1351\",\"type\":\"CDSView\"}},\"id\":\"1350\",\"type\":\"GlyphRenderer\"},{\"attributes\":{},\"id\":\"1298\",\"type\":\"PanTool\"},{\"attributes\":{},\"id\":\"1332\",\"type\":\"PanTool\"},{\"attributes\":{\"callback\":null,\"data\":{\"x\":[\"1960\",\"1961\",\"1962\",\"1963\",\"1964\",\"1965\",\"1966\",\"1967\",\"1968\",\"1969\",\"1970\",\"1971\",\"1972\",\"1973\",\"1974\",\"1975\",\"1976\",\"1977\",\"1978\",\"1979\",\"1980\",\"1981\",\"1982\",\"1983\",\"1984\",\"1985\",\"1986\",\"1987\",\"1988\",\"1989\",\"1990\",\"1991\",\"1992\",\"1993\",\"1994\",\"1995\",\"1996\",\"1997\",\"1998\",\"1999\",\"2000\",\"2001\",\"2002\",\"2003\",\"2004\",\"2005\",\"2006\",\"2007\",\"2008\",\"2009\",\"2010\",\"2011\",\"2012\",\"2013\",\"2014\",\"2015\",\"2016\"],\"y\":[[\"NaN\"],[210.172806690917],[212.02928422077701],[214.00152665196302],[215.731495431501],[217.579970211669],[219.40340560822602],[220.40883338584499],[221.391212442357],[223.15378798728298],[223.897370606937],[224.308544095323],[225.384389768854],[226.095339844757],[226.183464612036],[225.341717984705],[224.377595737977],[223.870231718844],[223.675479047919],[223.774382035345],[224.239039899178],[224.580835218973],[224.367330220835],[223.77991579067998],[223.00771918769502],[222.50987597742997],[222.61173774811698],[222.953971300089],[223.826709248704],[225.564354251998],[227.517053819494],[229.18080944061],[230.930020336264],[232.45979319431703],[233.27417719343498],[233.96749069034698],[234.65247070955897],[235.022979515829],[235.07877772047402],[235.25773110206902],[235.596813297034],[236.027300085985],[236.45157083070598],[236.61642728132801],[236.592195429653],[236.464680582636],[236.225197866483],[235.94336191814602],[235.522178240542],[234.93963741717099],[234.60690822503398],[234.673149529493],[230.750625466231],[235.647997360418],[232.347793653526],[233.583362024445],[\"NaN\"]]},\"selected\":{\"id\":\"1364\",\"type\":\"Selection\"},\"selection_policy\":{\"id\":\"1363\",\"type\":\"UnionRenderers\"}},\"id\":\"1347\",\"type\":\"ColumnDataSource\"},{\"attributes\":{},\"id\":\"1364\",\"type\":\"Selection\"},{\"attributes\":{\"below\":[{\"id\":\"1288\",\"type\":\"LinearAxis\"}],\"left\":[{\"id\":\"1293\",\"type\":\"LinearAxis\"}],\"plot_height\":300,\"renderers\":[{\"id\":\"1288\",\"type\":\"LinearAxis\"},{\"id\":\"1292\",\"type\":\"Grid\"},{\"id\":\"1293\",\"type\":\"LinearAxis\"},{\"id\":\"1297\",\"type\":\"Grid\"},{\"id\":\"1306\",\"type\":\"BoxAnnotation\"},{\"id\":\"1350\",\"type\":\"GlyphRenderer\"}],\"title\":{\"id\":\"1277\",\"type\":\"Title\"},\"toolbar\":{\"id\":\"1304\",\"type\":\"Toolbar\"},\"toolbar_location\":null,\"x_range\":{\"id\":\"1280\",\"type\":\"DataRange1d\"},\"x_scale\":{\"id\":\"1284\",\"type\":\"LinearScale\"},\"y_range\":{\"id\":\"1282\",\"type\":\"DataRange1d\"},\"y_scale\":{\"id\":\"1286\",\"type\":\"LinearScale\"}},\"id\":\"1278\",\"subtype\":\"Figure\",\"type\":\"Plot\"},{\"attributes\":{},\"id\":\"1299\",\"type\":\"WheelZoomTool\"},{\"attributes\":{},\"id\":\"1333\",\"type\":\"WheelZoomTool\"},{\"attributes\":{\"below\":[{\"id\":\"1322\",\"type\":\"LinearAxis\"}],\"left\":[{\"id\":\"1327\",\"type\":\"LinearAxis\"}],\"plot_height\":300,\"renderers\":[{\"id\":\"1322\",\"type\":\"LinearAxis\"},{\"id\":\"1326\",\"type\":\"Grid\"},{\"id\":\"1327\",\"type\":\"LinearAxis\"},{\"id\":\"1331\",\"type\":\"Grid\"},{\"id\":\"1340\",\"type\":\"BoxAnnotation\"},{\"id\":\"1355\",\"type\":\"GlyphRenderer\"}],\"title\":{\"id\":\"1313\",\"type\":\"Title\"},\"toolbar\":{\"id\":\"1338\",\"type\":\"Toolbar\"},\"toolbar_location\":null,\"x_range\":{\"id\":\"1280\",\"type\":\"DataRange1d\"},\"x_scale\":{\"id\":\"1318\",\"type\":\"LinearScale\"},\"y_range\":{\"id\":\"1282\",\"type\":\"DataRange1d\"},\"y_scale\":{\"id\":\"1320\",\"type\":\"LinearScale\"}},\"id\":\"1314\",\"subtype\":\"Figure\",\"type\":\"Plot\"},{\"attributes\":{},\"id\":\"1367\",\"type\":\"BasicTickFormatter\"},{\"attributes\":{\"plot\":null,\"text\":\"Population Density of Germany\"},\"id\":\"1277\",\"type\":\"Title\"},{\"attributes\":{\"overlay\":{\"id\":\"1306\",\"type\":\"BoxAnnotation\"}},\"id\":\"1300\",\"type\":\"BoxZoomTool\"},{\"attributes\":{\"overlay\":{\"id\":\"1340\",\"type\":\"BoxAnnotation\"}},\"id\":\"1334\",\"type\":\"BoxZoomTool\"},{\"attributes\":{},\"id\":\"1369\",\"type\":\"BasicTickFormatter\"},{\"attributes\":{},\"id\":\"1301\",\"type\":\"SaveTool\"},{\"attributes\":{},\"id\":\"1335\",\"type\":\"SaveTool\"},{\"attributes\":{},\"id\":\"1363\",\"type\":\"UnionRenderers\"},{\"attributes\":{},\"id\":\"1372\",\"type\":\"UnionRenderers\"},{\"attributes\":{},\"id\":\"1302\",\"type\":\"ResetTool\"},{\"attributes\":{},\"id\":\"1336\",\"type\":\"ResetTool\"},{\"attributes\":{},\"id\":\"1373\",\"type\":\"Selection\"},{\"attributes\":{},\"id\":\"1303\",\"type\":\"HelpTool\"},{\"attributes\":{},\"id\":\"1337\",\"type\":\"HelpTool\"},{\"attributes\":{\"callback\":null},\"id\":\"1280\",\"type\":\"DataRange1d\"},{\"attributes\":{\"active_drag\":\"auto\",\"active_inspect\":\"auto\",\"active_multi\":null,\"active_scroll\":\"auto\",\"active_tap\":\"auto\",\"tools\":[{\"id\":\"1298\",\"type\":\"PanTool\"},{\"id\":\"1299\",\"type\":\"WheelZoomTool\"},{\"id\":\"1300\",\"type\":\"BoxZoomTool\"},{\"id\":\"1301\",\"type\":\"SaveTool\"},{\"id\":\"1302\",\"type\":\"ResetTool\"},{\"id\":\"1303\",\"type\":\"HelpTool\"}]},\"id\":\"1304\",\"type\":\"Toolbar\"},{\"attributes\":{\"active_drag\":\"auto\",\"active_inspect\":\"auto\",\"active_multi\":null,\"active_scroll\":\"auto\",\"active_tap\":\"auto\",\"tools\":[{\"id\":\"1332\",\"type\":\"PanTool\"},{\"id\":\"1333\",\"type\":\"WheelZoomTool\"},{\"id\":\"1334\",\"type\":\"BoxZoomTool\"},{\"id\":\"1335\",\"type\":\"SaveTool\"},{\"id\":\"1336\",\"type\":\"ResetTool\"},{\"id\":\"1337\",\"type\":\"HelpTool\"}]},\"id\":\"1338\",\"type\":\"Toolbar\"},{\"attributes\":{},\"id\":\"1318\",\"type\":\"LinearScale\"},{\"attributes\":{\"callback\":null},\"id\":\"1282\",\"type\":\"DataRange1d\"},{\"attributes\":{\"bottom_units\":\"screen\",\"fill_alpha\":{\"value\":0.5},\"fill_color\":{\"value\":\"lightgrey\"},\"left_units\":\"screen\",\"level\":\"overlay\",\"line_alpha\":{\"value\":1.0},\"line_color\":{\"value\":\"black\"},\"line_dash\":[4,4],\"line_width\":{\"value\":2},\"plot\":null,\"render_mode\":\"css\",\"right_units\":\"screen\",\"top_units\":\"screen\"},\"id\":\"1306\",\"type\":\"BoxAnnotation\"},{\"attributes\":{\"bottom_units\":\"screen\",\"fill_alpha\":{\"value\":0.5},\"fill_color\":{\"value\":\"lightgrey\"},\"left_units\":\"screen\",\"level\":\"overlay\",\"line_alpha\":{\"value\":1.0},\"line_color\":{\"value\":\"black\"},\"line_dash\":[4,4],\"line_width\":{\"value\":2},\"plot\":null,\"render_mode\":\"css\",\"right_units\":\"screen\",\"top_units\":\"screen\"},\"id\":\"1340\",\"type\":\"BoxAnnotation\"},{\"attributes\":{},\"id\":\"1284\",\"type\":\"LinearScale\"},{\"attributes\":{},\"id\":\"1320\",\"type\":\"LinearScale\"},{\"attributes\":{\"children\":[{\"id\":\"1521\",\"type\":\"Row\"},{\"id\":\"1531\",\"type\":\"Row\"}]},\"id\":\"1532\",\"type\":\"Column\"},{\"attributes\":{},\"id\":\"1286\",\"type\":\"LinearScale\"},{\"attributes\":{\"source\":{\"id\":\"1347\",\"type\":\"ColumnDataSource\"}},\"id\":\"1351\",\"type\":\"CDSView\"},{\"attributes\":{\"axis_label\":\"Year\",\"formatter\":{\"id\":\"1367\",\"type\":\"BasicTickFormatter\"},\"plot\":{\"id\":\"1314\",\"subtype\":\"Figure\",\"type\":\"Plot\"},\"ticker\":{\"id\":\"1323\",\"type\":\"BasicTicker\"}},\"id\":\"1322\",\"type\":\"LinearAxis\"},{\"attributes\":{\"axis_label\":\"Year\",\"formatter\":{\"id\":\"1358\",\"type\":\"BasicTickFormatter\"},\"plot\":{\"id\":\"1278\",\"subtype\":\"Figure\",\"type\":\"Plot\"},\"ticker\":{\"id\":\"1289\",\"type\":\"BasicTicker\"}},\"id\":\"1288\",\"type\":\"LinearAxis\"},{\"attributes\":{},\"id\":\"1358\",\"type\":\"BasicTickFormatter\"},{\"attributes\":{},\"id\":\"1323\",\"type\":\"BasicTicker\"},{\"attributes\":{},\"id\":\"1289\",\"type\":\"BasicTicker\"},{\"attributes\":{\"children\":[{\"id\":\"1278\",\"subtype\":\"Figure\",\"type\":\"Plot\"}]},\"id\":\"1521\",\"type\":\"Row\"},{\"attributes\":{\"line_color\":\"#1f77b4\",\"line_width\":2,\"x\":{\"field\":\"x\"},\"y\":{\"field\":\"y\"}},\"id\":\"1353\",\"type\":\"Line\"},{\"attributes\":{\"plot\":{\"id\":\"1314\",\"subtype\":\"Figure\",\"type\":\"Plot\"},\"ticker\":{\"id\":\"1323\",\"type\":\"BasicTicker\"}},\"id\":\"1326\",\"type\":\"Grid\"},{\"attributes\":{\"plot\":{\"id\":\"1278\",\"subtype\":\"Figure\",\"type\":\"Plot\"},\"ticker\":{\"id\":\"1289\",\"type\":\"BasicTicker\"}},\"id\":\"1292\",\"type\":\"Grid\"},{\"attributes\":{\"line_alpha\":0.1,\"line_color\":\"#1f77b4\",\"line_width\":2,\"x\":{\"field\":\"x\"},\"y\":{\"field\":\"y\"}},\"id\":\"1354\",\"type\":\"Line\"},{\"attributes\":{\"axis_label\":\"Population Density\",\"formatter\":{\"id\":\"1369\",\"type\":\"BasicTickFormatter\"},\"plot\":{\"id\":\"1314\",\"subtype\":\"Figure\",\"type\":\"Plot\"},\"ticker\":{\"id\":\"1328\",\"type\":\"BasicTicker\"}},\"id\":\"1327\",\"type\":\"LinearAxis\"},{\"attributes\":{\"axis_label\":\"Population Density\",\"formatter\":{\"id\":\"1360\",\"type\":\"BasicTickFormatter\"},\"plot\":{\"id\":\"1278\",\"subtype\":\"Figure\",\"type\":\"Plot\"},\"ticker\":{\"id\":\"1294\",\"type\":\"BasicTicker\"}},\"id\":\"1293\",\"type\":\"LinearAxis\"},{\"attributes\":{\"data_source\":{\"id\":\"1352\",\"type\":\"ColumnDataSource\"},\"glyph\":{\"id\":\"1353\",\"type\":\"Line\"},\"hover_glyph\":null,\"muted_glyph\":null,\"nonselection_glyph\":{\"id\":\"1354\",\"type\":\"Line\"},\"selection_glyph\":null,\"view\":{\"id\":\"1356\",\"type\":\"CDSView\"}},\"id\":\"1355\",\"type\":\"GlyphRenderer\"},{\"attributes\":{\"tools\":[{\"id\":\"1298\",\"type\":\"PanTool\"},{\"id\":\"1299\",\"type\":\"WheelZoomTool\"},{\"id\":\"1300\",\"type\":\"BoxZoomTool\"},{\"id\":\"1301\",\"type\":\"SaveTool\"},{\"id\":\"1302\",\"type\":\"ResetTool\"},{\"id\":\"1303\",\"type\":\"HelpTool\"},{\"id\":\"1332\",\"type\":\"PanTool\"},{\"id\":\"1333\",\"type\":\"WheelZoomTool\"},{\"id\":\"1334\",\"type\":\"BoxZoomTool\"},{\"id\":\"1335\",\"type\":\"SaveTool\"},{\"id\":\"1336\",\"type\":\"ResetTool\"},{\"id\":\"1337\",\"type\":\"HelpTool\"}]},\"id\":\"1533\",\"type\":\"ProxyToolbar\"},{\"attributes\":{},\"id\":\"1328\",\"type\":\"BasicTicker\"},{\"attributes\":{},\"id\":\"1294\",\"type\":\"BasicTicker\"},{\"attributes\":{\"source\":{\"id\":\"1352\",\"type\":\"ColumnDataSource\"}},\"id\":\"1356\",\"type\":\"CDSView\"},{\"attributes\":{\"children\":[{\"id\":\"1314\",\"subtype\":\"Figure\",\"type\":\"Plot\"}]},\"id\":\"1531\",\"type\":\"Row\"},{\"attributes\":{\"dimension\":1,\"plot\":{\"id\":\"1314\",\"subtype\":\"Figure\",\"type\":\"Plot\"},\"ticker\":{\"id\":\"1328\",\"type\":\"BasicTicker\"}},\"id\":\"1331\",\"type\":\"Grid\"},{\"attributes\":{\"dimension\":1,\"plot\":{\"id\":\"1278\",\"subtype\":\"Figure\",\"type\":\"Plot\"},\"ticker\":{\"id\":\"1294\",\"type\":\"BasicTicker\"}},\"id\":\"1297\",\"type\":\"Grid\"},{\"attributes\":{\"toolbar\":{\"id\":\"1533\",\"type\":\"ProxyToolbar\"},\"toolbar_location\":\"above\"},\"id\":\"1534\",\"type\":\"ToolbarBox\"},{\"attributes\":{\"line_color\":\"#1f77b4\",\"line_width\":2,\"x\":{\"field\":\"x\"},\"y\":{\"field\":\"y\"}},\"id\":\"1348\",\"type\":\"Line\"},{\"attributes\":{\"callback\":null,\"data\":{\"x\":[\"1960\",\"1961\",\"1962\",\"1963\",\"1964\",\"1965\",\"1966\",\"1967\",\"1968\",\"1969\",\"1970\",\"1971\",\"1972\",\"1973\",\"1974\",\"1975\",\"1976\",\"1977\",\"1978\",\"1979\",\"1980\",\"1981\",\"1982\",\"1983\",\"1984\",\"1985\",\"1986\",\"1987\",\"1988\",\"1989\",\"1990\",\"1991\",\"1992\",\"1993\",\"1994\",\"1995\",\"1996\",\"1997\",\"1998\",\"1999\",\"2000\",\"2001\",\"2002\",\"2003\",\"2004\",\"2005\",\"2006\",\"2007\",\"2008\",\"2009\",\"2010\",\"2011\",\"2012\",\"2013\",\"2014\",\"2015\",\"2016\"],\"y\":[[\"NaN\"],[137.479609390812],[141.009284557782],[144.056036227484],[146.458915199352],[148.160089050799],[149.716707144303],[151.583308034811],[153.504199554746],[155.24152499494],[156.36705626391398],[157.189814814815],[158.392936652499],[159.566560412872],[160.42817749443398],[160.358024691358],[159.444039668083],[158.904422181745],[158.918690548472],[159.238134992916],[159.871685893544],[160.74868447682698],[161.690674964582],[162.385473588342],[162.96554428394302],[163.686533937109],[164.540565154697],[165.577322978067],[166.798704748413],[168.152799210706],[169.888411039996],[172.02504490374199],[173.932151078955],[175.523413190316],[176.928204609274],[178.11447291861697],[178.90735681036202],[179.34338553393903],[179.88162222334702],[180.746135357369],[181.76930472624198],[182.9277635807],[184.321466524973],[185.698767743731],[186.984438259109],[188.195632370059],[189.385176000202],[191.090115396295],[193.53363194655302],[195.966975402369],[198.01875189796502],[200.23276647433997],[202.370204474137],[204.71064885109797],[207.223630934305],[209.711914161352],[\"NaN\"]]},\"selected\":{\"id\":\"1373\",\"type\":\"Selection\"},\"selection_policy\":{\"id\":\"1372\",\"type\":\"UnionRenderers\"}},\"id\":\"1352\",\"type\":\"ColumnDataSource\"},{\"attributes\":{\"plot\":null,\"text\":\"Population Density of Switzerland\"},\"id\":\"1313\",\"type\":\"Title\"}],\"root_ids\":[\"1535\"]},\"title\":\"Bokeh Application\",\"version\":\"1.0.2\"}};\n",
       "  var render_items = [{\"docid\":\"8511b368-2444-428f-9f82-e24fe3fe44bd\",\"roots\":{\"1535\":\"4c3698b1-2c44-4f8c-93d7-ff5e4a2e4dee\"}}];\n",
       "  root.Bokeh.embed.embed_items_notebook(docs_json, render_items);\n",
       "\n",
       "  }\n",
       "  if (root.Bokeh !== undefined) {\n",
       "    embed_document(root);\n",
       "  } else {\n",
       "    var attempts = 0;\n",
       "    var timer = setInterval(function(root) {\n",
       "      if (root.Bokeh !== undefined) {\n",
       "        embed_document(root);\n",
       "        clearInterval(timer);\n",
       "      }\n",
       "      attempts++;\n",
       "      if (attempts > 100) {\n",
       "        console.log(\"Bokeh: ERROR: Unable to run BokehJS code because BokehJS library is missing\");\n",
       "        clearInterval(timer);\n",
       "      }\n",
       "    }, 10, root)\n",
       "  }\n",
       "})(window);"
      ],
      "application/vnd.bokehjs_exec.v0+json": ""
     },
     "metadata": {
      "application/vnd.bokehjs_exec.v0+json": {
       "id": "1535"
      }
     },
     "output_type": "display_data"
    }
   ],
   "source": [
    "# plotting the above declared figures in a vertical manner\n",
    "plot_v = gridplot([[plot_de], [plot_ch]])\n",
    "\n",
    "show(plot_v)"
   ]
  },
  {
   "cell_type": "markdown",
   "metadata": {},
   "source": [
    "We can see that as soon we have our data prepared, it's fairly simple to visualize the data in a simple plot.   \n",
    "Using the `bokeh.plotting` interface allows us to display the data with different, so called, `glyphs` without much work.   "
   ]
  }
 ],
 "metadata": {
  "kernelspec": {
   "display_name": "Python 3",
   "language": "python",
   "name": "python3"
  },
  "language_info": {
   "codemirror_mode": {
    "name": "ipython",
    "version": 3
   },
   "file_extension": ".py",
   "mimetype": "text/x-python",
   "name": "python",
   "nbconvert_exporter": "python",
   "pygments_lexer": "ipython3",
   "version": "3.7.0"
  }
 },
 "nbformat": 4,
 "nbformat_minor": 2
}
