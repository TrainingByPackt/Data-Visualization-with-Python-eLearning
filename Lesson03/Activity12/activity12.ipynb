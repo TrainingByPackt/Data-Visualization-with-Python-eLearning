{
 "cells": [
  {
   "cell_type": "markdown",
   "metadata": {},
   "source": [
    "## Visualizing stock trends."
   ]
  },
  {
   "cell_type": "markdown",
   "metadata": {},
   "source": [
    "In this activity, we will create a line plot to show stock trends. Let’s look at the following scenario: You are interested in investing in stocks. You downloaded the stock prices for the “big five”: Amazon, Google, Apple, Facebook, and Microsoft.In this activity, we will create a line plot to show stock trends. Let’s look at the following scenario: You are interested in investing in stocks. You downloaded the stock prices for the “big five”: Amazon, Google, Apple, Facebook, and Microsoft."
   ]
  },
  {
   "cell_type": "code",
   "execution_count": null,
   "metadata": {},
   "outputs": [],
   "source": [
    "# Import statements\n"
   ]
  },
  {
   "cell_type": "markdown",
   "metadata": {},
   "source": [
    "Use pandas to read the data located in the subfolder data."
   ]
  },
  {
   "cell_type": "code",
   "execution_count": null,
   "metadata": {},
   "outputs": [],
   "source": [
    "# load datasets\n"
   ]
  },
  {
   "cell_type": "markdown",
   "metadata": {},
   "source": [
    "Use Matplotlib to create a line chart visualizing the closing prices for the past five years (whole data sequence) for all five companies. Add labels, titles, and a legend to make the visualization self-explanatory. Use plt.grid() to add a grid to your plot."
   ]
  },
  {
   "cell_type": "code",
   "execution_count": null,
   "metadata": {},
   "outputs": [],
   "source": [
    "# Create figure (figure size of 16\"x8\", dpi of 300)\n",
    "\n",
    "# Plot data\n",
    "\n",
    "# Specify ticks for x- and y-axis\n",
    "plt.xticks(np.arange(0, 1260, 40), rotation=70)\n",
    "plt.yticks(np.arange(0, 1450, 100))\n",
    "# Add title and labels\n",
    "\n",
    "# Add grid\n",
    "\n",
    "# Add legend\n",
    "\n",
    "# Show plot\n"
   ]
  }
 ],
 "metadata": {
  "kernelspec": {
   "display_name": "Python 3",
   "language": "python",
   "name": "python3"
  },
  "language_info": {
   "codemirror_mode": {
    "name": "ipython",
    "version": 3
   },
   "file_extension": ".py",
   "mimetype": "text/x-python",
   "name": "python",
   "nbconvert_exporter": "python",
   "pygments_lexer": "ipython3",
   "version": "3.7.1"
  }
 },
 "nbformat": 4,
 "nbformat_minor": 2
}
