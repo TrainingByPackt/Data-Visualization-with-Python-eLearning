{
 "cells": [
  {
   "cell_type": "markdown",
   "metadata": {},
   "source": [
    "## Intelligent quotient"
   ]
  },
  {
   "cell_type": "markdown",
   "metadata": {},
   "source": [
    "In this activity, we will visualize the intelligent quotient (IQ) using a histogram and box plots."
   ]
  },
  {
   "cell_type": "code",
   "execution_count": null,
   "metadata": {},
   "outputs": [],
   "source": [
    "# Import statements\n",
    "import numpy as np\n",
    "import matplotlib.pyplot as plt\n",
    "\n",
    "%matplotlib inline"
   ]
  },
  {
   "cell_type": "code",
   "execution_count": null,
   "metadata": {},
   "outputs": [],
   "source": [
    "# IQ samples\n",
    "iq_scores = [126,  89,  90, 101, 102,  74,  93, 101,  66, 120, 108,  97,  98,\n",
    "            105, 119,  92, 113,  81, 104, 108,  83, 102, 105, 111, 102, 107,\n",
    "            103,  89,  89, 110,  71, 110, 120,  85, 111,  83, 122, 120, 102,\n",
    "            84, 118, 100, 100, 114,  81, 109,  69,  97,  95, 106, 116, 109,\n",
    "            114,  98,  90,  92,  98,  91,  81,  85,  86, 102,  93, 112,  76,\n",
    "            89, 110,  75, 100,  90,  96,  94, 107, 108,  95,  96,  96, 114,\n",
    "            93,  95, 117, 141, 115,  95,  86, 100, 121, 103,  66,  99,  96,\n",
    "            111, 110, 105, 110,  91, 112, 102, 112,  75]"
   ]
  },
  {
   "cell_type": "markdown",
   "metadata": {},
   "source": [
    "Plot a histogram with ten bins for the given IQ scores. IQ scores are normally distributed with a mean of 100 and a standard deviation of 15. Visualize the mean as a vertical solid red line, and the standard deviation using dashed vertical lines. Add labels and a title."
   ]
  },
  {
   "cell_type": "code",
   "execution_count": null,
   "metadata": {},
   "outputs": [],
   "source": [
    "# Create figure\n",
    "plt.figure(figsize=(6, 4), dpi=150)\n",
    "# Create histogram\n",
    "\n",
    "# Add labels and title\n",
    "\n",
    "# Show plot\n"
   ]
  },
  {
   "cell_type": "markdown",
   "metadata": {},
   "source": [
    "Create a box plot to visualize the same IQ scores. Add labels and a title."
   ]
  },
  {
   "cell_type": "code",
   "execution_count": null,
   "metadata": {},
   "outputs": [],
   "source": [
    "# Create figure\n",
    "plt.figure(figsize=(6, 4), dpi=150)\n",
    "# Create histogram\n",
    "\n",
    "# Add labels and title\n",
    "\n",
    "# Show plot\n"
   ]
  },
  {
   "cell_type": "code",
   "execution_count": null,
   "metadata": {},
   "outputs": [],
   "source": [
    "group_a = [118, 103, 125, 107, 111,  96, 104,  97,  96, 114,  96,  75, 114,\n",
    "       107,  87, 117, 117, 114, 117, 112, 107, 133,  94,  91, 118, 110,\n",
    "       117,  86, 143,  83, 106,  86,  98, 126, 109,  91, 112, 120, 108,\n",
    "       111, 107,  98,  89, 113, 117,  81, 113, 112,  84, 115,  96,  93,\n",
    "       128, 115, 138, 121,  87, 112, 110,  79, 100,  84, 115,  93, 108,\n",
    "       130, 107, 106, 106, 101, 117,  93,  94, 103, 112,  98, 103,  70,\n",
    "       139,  94, 110, 105, 122,  94,  94, 105, 129, 110, 112,  97, 109,\n",
    "       121, 106, 118, 131,  88, 122, 125,  93,  78]\n",
    "group_b = [126,  89,  90, 101, 102,  74,  93, 101,  66, 120, 108,  97,  98,\n",
    "            105, 119,  92, 113,  81, 104, 108,  83, 102, 105, 111, 102, 107,\n",
    "            103,  89,  89, 110,  71, 110, 120,  85, 111,  83, 122, 120, 102,\n",
    "            84, 118, 100, 100, 114,  81, 109,  69,  97,  95, 106, 116, 109,\n",
    "            114,  98,  90,  92,  98,  91,  81,  85,  86, 102,  93, 112,  76,\n",
    "            89, 110,  75, 100,  90,  96,  94, 107, 108,  95,  96,  96, 114,\n",
    "            93,  95, 117, 141, 115,  95,  86, 100, 121, 103,  66,  99,  96,\n",
    "            111, 110, 105, 110,  91, 112, 102, 112,  75]\n",
    "group_c = [108,  89, 114, 116, 126, 104, 113,  96,  69, 121, 109, 102, 107,\n",
    "       122, 104, 107, 108, 137, 107, 116,  98, 132, 108, 114,  82,  93,\n",
    "        89,  90,  86,  91,  99,  98,  83,  93, 114,  96,  95, 113, 103,\n",
    "        81, 107,  85, 116,  85, 107, 125, 126, 123, 122, 124, 115, 114,\n",
    "        93,  93, 114, 107, 107,  84, 131,  91, 108, 127, 112, 106, 115,\n",
    "        82,  90, 117, 108, 115, 113, 108, 104, 103,  90, 110, 114,  92,\n",
    "       101,  72, 109,  94, 122,  90, 102,  86, 119, 103, 110,  96,  90,\n",
    "       110,  96,  69,  85, 102,  69,  96, 101,  90]\n",
    "group_d = [ 93,  99,  91, 110,  80, 113, 111, 115,  98,  74,  96,  80,  83,\n",
    "       102,  60,  91,  82,  90,  97, 101,  89,  89, 117,  91, 104, 104,\n",
    "       102, 128, 106, 111,  79,  92,  97, 101, 106, 110,  93,  93, 106,\n",
    "       108,  85,  83, 108,  94,  79,  87, 113, 112, 111, 111,  79, 116,\n",
    "       104,  84, 116, 111, 103, 103, 112,  68,  54,  80,  86, 119,  81,\n",
    "        84,  91,  96, 116, 125,  99,  58, 102,  77,  98, 100,  90, 106,\n",
    "       109, 114, 102, 102, 112, 103,  98,  96,  85,  97, 110, 131,  92,\n",
    "        79, 115, 122,  95, 105,  74,  85,  85,  95]"
   ]
  },
  {
   "cell_type": "markdown",
   "metadata": {},
   "source": [
    "Create a box plot for each of the IQ scores of the different test groups. Add labels and a title."
   ]
  },
  {
   "cell_type": "code",
   "execution_count": null,
   "metadata": {},
   "outputs": [],
   "source": [
    "# Create figure\n",
    "plt.figure(figsize=(6, 4), dpi=150)\n",
    "# Create histogram\n",
    "\n",
    "# Add labels and title\n",
    "\n",
    "# Show plot\n"
   ]
  },
  {
   "cell_type": "code",
   "execution_count": null,
   "metadata": {},
   "outputs": [],
   "source": []
  }
 ],
 "metadata": {
  "kernelspec": {
   "display_name": "Python 3",
   "language": "python",
   "name": "python3"
  },
  "language_info": {
   "codemirror_mode": {
    "name": "ipython",
    "version": 3
   },
   "file_extension": ".py",
   "mimetype": "text/x-python",
   "name": "python",
   "nbconvert_exporter": "python",
   "pygments_lexer": "ipython3",
   "version": "3.6.6"
  }
 },
 "nbformat": 4,
 "nbformat_minor": 2
}
