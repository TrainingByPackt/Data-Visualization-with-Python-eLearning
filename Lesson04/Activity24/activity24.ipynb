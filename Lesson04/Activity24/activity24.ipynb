{
 "cells": [
  {
   "cell_type": "markdown",
   "metadata": {},
   "source": [
    "## Top 30 YouTube Channels\n",
    "In this activity FacetGrid is used to show the number of subscribers and the number of views for the top 30 YouTube channels."
   ]
  },
  {
   "cell_type": "code",
   "execution_count": null,
   "metadata": {},
   "outputs": [],
   "source": [
    "# Import statements\n",
    "import pandas as pd\n",
    "import numpy as np\n",
    "import matplotlib.pyplot as plt\n",
    "import seaborn as sns\n",
    "\n",
    "%matplotlib inline"
   ]
  },
  {
   "cell_type": "code",
   "execution_count": null,
   "metadata": {},
   "outputs": [],
   "source": [
    "# Data\n",
    "channels = ['PewDiePie', 'T-Series', '5-Minute Crafts', 'Canal KondZilla', 'Justin Bieber', 'SET India',\n",
    "'WWE', 'Dude Perfect', 'HolaSoyGerman.', 'Ed Sheeran', 'EminemMusic', 'Badabun', 'Cocomelon - Nursery Rhymes',\n",
    "'whinderssonnunes', 'JustinBieberVEVO', 'elrubiusOMG', 'JuegaGerman', 'Taylor Swift', 'Katy Perry', 'Fernanfloo',\n",
    "'Ariana Grande', 'Rihanna', 'TheEllenShow', 'Zee Music Company', 'Felipe Neto', 'One Direction', 'YouTube Spotlight',\n",
    "'TaylorSwiftVEVO', 'EminemVEVO', 'KatyPerryVEVO']\n",
    "\n",
    "subs = [83.1, 82.9, 48, 46.1, 43.1, 40.7, 39.2, 38.7, 36.9, 36.8, 35.8, 35, 34.8, 34.2, 33.9, 33.5, 32.7, 32.2, 32.1,\n",
    "31.8, 31.6, 31.2, 30.6, 30.3, 30.2, 28.7, 28, 27.8, 26.4, 26.4]\n",
    "\n",
    "views = [20329, 61057, 12061, 22878, 601, 28573, 29886, 7168, 3790, 15926, 637, 19388, 9737, 2801, 18375, 7313, 8730,\n",
    "        233, 357, 706, 6755, 59, 14847, 14614, 5938, 330, 1833, 16161, 12548, 16890]\n",
    "\n",
    "data = pd.DataFrame({'Channel Name': channels + channels, 'Number in million': subs + views, 'Type': ['Subscribers'] * len(subs) + ['Views'] * len(views)})"
   ]
  },
  {
   "cell_type": "markdown",
   "metadata": {},
   "source": [
    "Visualize the given data using a FacetGrid with two columns. The first column should show the number of subscribers for each YouTube channel, whereas the second column should show the number of views."
   ]
  },
  {
   "cell_type": "code",
   "execution_count": null,
   "metadata": {},
   "outputs": [],
   "source": [
    "# Create FacetGrid plot\n"
   ]
  },
  {
   "cell_type": "code",
   "execution_count": null,
   "metadata": {},
   "outputs": [],
   "source": []
  }
 ],
 "metadata": {
  "kernelspec": {
   "display_name": "Python 3",
   "language": "python",
   "name": "python3"
  },
  "language_info": {
   "codemirror_mode": {
    "name": "ipython",
    "version": 3
   },
   "file_extension": ".py",
   "mimetype": "text/x-python",
   "name": "python",
   "nbconvert_exporter": "python",
   "pygments_lexer": "ipython3",
   "version": "3.6.6"
  }
 },
 "nbformat": 4,
 "nbformat_minor": 2
}
