{
 "cells": [
  {
   "cell_type": "markdown",
   "metadata": {},
   "source": [
    "## Exercise 01: Loading a sample dataset and calculating the mean."
   ]
  },
  {
   "cell_type": "markdown",
   "metadata": {},
   "source": [
    "In this exercise, we will be loading the normal_distribution.csv dataset and calculate the mean of each row and each column with it.   \n",
    "Our dataset will have several rows each containing floating point numbers around 100 with a standard deviation of 5.\n",
    "\n",
    "Just to refresh your knowledge, a Gaussian normal distribution resembles this plot:   \n",
    "\n",
    "[Normal Distribution ](https://en.wikipedia.org/wiki/Normal_distribution)   \n",
    "![](https://upload.wikimedia.org/wikipedia/commons/9/9e/Normal_Distribution_NIST.gif)   \n",
    "\n",
    "\n",
    "In our case, the vertical bar in the middle is the number 100."
   ]
  },
  {
   "cell_type": "markdown",
   "metadata": {},
   "source": [
    "#### Loading our dataset"
   ]
  },
  {
   "cell_type": "code",
   "execution_count": 1,
   "metadata": {},
   "outputs": [],
   "source": [
    "# importing the necessary dependencies\n",
    "import numpy as np"
   ]
  },
  {
   "cell_type": "code",
   "execution_count": 2,
   "metadata": {},
   "outputs": [],
   "source": [
    "# loading the Dataset\n",
    "dataset = np.genfromtxt('./data/normal_distribution.csv', delimiter=',')"
   ]
  },
  {
   "cell_type": "code",
   "execution_count": 3,
   "metadata": {},
   "outputs": [
    {
     "data": {
      "text/plain": [
       "array([[ 99.14931546, 104.03852715, 107.43534677,  97.85230675,\n",
       "         98.74986914,  98.80833412,  96.81964892,  98.56783189],\n",
       "       [ 92.02628776,  97.10439252,  99.32066924,  97.24584816,\n",
       "         92.9267508 ,  92.65657752, 105.7197853 , 101.23162942],\n",
       "       [ 95.66253664,  95.17750125,  90.93318132, 110.18889465,\n",
       "         98.80084371, 105.95297652,  98.37481387, 106.54654286],\n",
       "       [ 91.37294597, 100.96781394, 100.40118279, 113.42090475,\n",
       "        105.48508838,  91.6604946 , 106.1472841 ,  95.08715803],\n",
       "       [101.20862522, 103.5730309 , 100.28690912, 105.85269352,\n",
       "         93.37126331, 108.57980357, 100.79478953,  94.20019732],\n",
       "       [102.80387079,  98.29687616,  93.24376389,  97.24130034,\n",
       "         89.03452725,  96.2832753 , 104.60344836, 101.13442416],\n",
       "       [106.71751618, 102.97585605,  98.45723272, 100.72418901,\n",
       "        106.39798503,  95.46493436,  94.35373179, 106.83273763],\n",
       "       [ 96.02548256, 102.82360856, 106.47551845, 101.34745901,\n",
       "        102.45651798,  98.74767493,  97.57544275,  92.5748759 ],\n",
       "       [105.30350449,  92.87730812, 103.19258339, 104.40518318,\n",
       "        101.29326772, 100.85447132, 101.2226037 , 106.03868807],\n",
       "       [110.44484313,  93.87155456, 101.5363647 ,  97.65393524,\n",
       "         92.75048583, 101.72074646,  96.96851209, 103.29147111],\n",
       "       [101.3514185 , 100.37372248, 106.6471081 , 100.61742813,\n",
       "        105.0320535 ,  99.35999981,  98.87007532,  95.85284217],\n",
       "       [ 97.21315663, 107.02874163, 102.17642112,  96.74630281,\n",
       "         95.93799169, 102.62384733, 105.07475277,  97.59572169],\n",
       "       [ 95.65982034, 107.22482426, 107.19119932, 102.93039474,\n",
       "         85.98839623,  95.19184343,  91.32093303, 102.35313953],\n",
       "       [100.39303522,  92.0108226 ,  97.75887636,  93.18884302,\n",
       "        100.44940274, 108.09423367,  96.50342927,  99.58664719],\n",
       "       [103.1521596 , 109.40523174,  93.83969256,  99.95827854,\n",
       "        101.83462816,  99.69982772, 103.05289628, 103.93383957],\n",
       "       [106.11454989,  88.80221141,  94.5081787 ,  94.59300658,\n",
       "        101.08830521,  96.34622848,  96.89244283,  98.07122664],\n",
       "       [ 96.78266211,  99.84251605, 104.03478031, 106.57052697,\n",
       "        105.13668343, 105.37011896,  99.07551254, 104.15899829],\n",
       "       [101.86186193, 103.61720152,  99.57859892,  99.4889538 ,\n",
       "        103.05541444,  98.65912661,  98.72774132, 104.70526438],\n",
       "       [ 97.49594839,  96.59385486, 104.63817694, 102.55198606,\n",
       "        105.86078488,  96.5937781 ,  93.04610867,  99.92159953],\n",
       "       [ 96.76814836,  91.6779221 , 101.79132774, 101.20773355,\n",
       "         98.29243952, 101.83845792,  97.94046856, 102.20618501],\n",
       "       [106.89005002, 106.57364584, 102.26648279, 107.40064604,\n",
       "         99.94318168, 103.40412146, 106.38276709,  98.00253006],\n",
       "       [ 99.80873105, 101.63973121, 106.46476468, 110.43976681,\n",
       "        100.69156231,  99.99579473, 101.32113654,  94.76253572],\n",
       "       [ 96.10020311,  94.57421727, 100.80409326, 105.02389857,\n",
       "         98.61325194,  95.62359311,  97.99762409, 103.83852459],\n",
       "       [ 94.11176915,  99.62387832, 104.51786419,  97.62787811,\n",
       "         93.97853495,  98.75108352, 106.05042487, 100.07721494]])"
      ]
     },
     "execution_count": 3,
     "metadata": {},
     "output_type": "execute_result"
    }
   ],
   "source": [
    "# looking at the dataset\n",
    "dataset"
   ]
  },
  {
   "cell_type": "markdown",
   "metadata": {},
   "source": [
    "---"
   ]
  },
  {
   "cell_type": "markdown",
   "metadata": {},
   "source": [
    "#### After loading our dataset"
   ]
  },
  {
   "cell_type": "markdown",
   "metadata": {},
   "source": [
    "To get a quick overview on our dataset we want to print out the \"shape\" of it.   \n",
    "This will give us an output of the form (rows, columns)"
   ]
  },
  {
   "cell_type": "code",
   "execution_count": 57,
   "metadata": {},
   "outputs": [
    {
     "data": {
      "text/plain": [
       "(24, 8)"
      ]
     },
     "execution_count": 57,
     "metadata": {},
     "output_type": "execute_result"
    }
   ],
   "source": [
    "# printing the shape of our dataset\n",
    "dataset.shape"
   ]
  },
  {
   "cell_type": "code",
   "execution_count": 58,
   "metadata": {},
   "outputs": [
    {
     "data": {
      "text/plain": [
       "100.177647525"
      ]
     },
     "execution_count": 58,
     "metadata": {},
     "output_type": "execute_result"
    }
   ],
   "source": [
    "# calculating the mean for the first row\n",
    "np.mean(dataset[0])"
   ]
  },
  {
   "cell_type": "code",
   "execution_count": 4,
   "metadata": {},
   "outputs": [
    {
     "data": {
      "text/plain": [
       "99.76743510416668"
      ]
     },
     "execution_count": 4,
     "metadata": {},
     "output_type": "execute_result"
    }
   ],
   "source": [
    "# calculating the mean for the first column\n",
    "np.mean(dataset[:, 0])"
   ]
  },
  {
   "cell_type": "code",
   "execution_count": 47,
   "metadata": {},
   "outputs": [
    {
     "data": {
      "text/plain": [
       "array([100.17764752,  97.27899259, 100.20466135, 100.56785907,\n",
       "       100.98341406,  97.83018578, 101.49052285,  99.75332252,\n",
       "       101.89845125,  99.77973914, 101.013081  , 100.54961696,\n",
       "        98.48256886,  98.49816126, 101.85956927,  97.05201872,\n",
       "       102.62147483, 101.21177037,  99.58777968,  98.96533534,\n",
       "       103.85792812, 101.89050288,  99.07192574,  99.34233101])"
      ]
     },
     "execution_count": 47,
     "metadata": {},
     "output_type": "execute_result"
    }
   ],
   "source": [
    "# mean for each row\n",
    "np.mean(dataset, axis=1)"
   ]
  },
  {
   "cell_type": "code",
   "execution_count": 48,
   "metadata": {},
   "outputs": [
    {
     "data": {
      "text/plain": [
       "array([ 99.7674351 ,  99.61229127, 101.14584656, 101.8449316 ,\n",
       "        99.04871791,  99.67838931,  99.7848489 , 100.44049274])"
      ]
     },
     "execution_count": 48,
     "metadata": {},
     "output_type": "execute_result"
    }
   ],
   "source": [
    "# mean for each col\n",
    "np.mean(dataset, axis=0)"
   ]
  },
  {
   "cell_type": "code",
   "execution_count": 49,
   "metadata": {},
   "outputs": [
    {
     "data": {
      "text/plain": [
       "100.16536917390624"
      ]
     },
     "execution_count": 49,
     "metadata": {},
     "output_type": "execute_result"
    }
   ],
   "source": [
    "# calculating the mean for the whole matrix\n",
    "np.mean(dataset)"
   ]
  },
  {
   "cell_type": "markdown",
   "metadata": {},
   "source": [
    "When looking at the mean values we can really nicely see the effect of calculating the mean of several vaules taken from a normal distribution.   \n",
    "If we had even more data we would get even close to 100."
   ]
  }
 ],
 "metadata": {
  "kernelspec": {
   "display_name": "Python 3",
   "language": "python",
   "name": "python3"
  },
  "language_info": {
   "codemirror_mode": {
    "name": "ipython",
    "version": 3
   },
   "file_extension": ".py",
   "mimetype": "text/x-python",
   "name": "python",
   "nbconvert_exporter": "python",
   "pygments_lexer": "ipython3",
   "version": "3.7.0"
  }
 },
 "nbformat": 4,
 "nbformat_minor": 2
}
