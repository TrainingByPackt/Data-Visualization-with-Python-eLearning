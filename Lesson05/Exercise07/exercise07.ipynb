{
 "cells": [
  {
   "cell_type": "markdown",
   "metadata": {},
   "source": [
    "## Choropleth plot with geojson data"
   ]
  },
  {
   "cell_type": "markdown",
   "metadata": {},
   "source": [
    "In this activity, we not only want work with geojson data, but also see how we can create a choropleth visualization.   \n",
    "They are espacially useful to display statistical variables in shaded areas. In our case the areas will be the outlines of the states of the USA.   \n",
    "\n",
    "Note:\n",
    "The dataset can be found here:   \n",
    "https://catalog.data.gov/dataset/national-obesity-by-state-b181b"
   ]
  },
  {
   "cell_type": "markdown",
   "metadata": {},
   "source": [
    "#### Loading the dataset"
   ]
  },
  {
   "cell_type": "markdown",
   "metadata": {},
   "source": [
    "Our dataset contains the points that define the different states and an obesity value that represents the percentage of people that are obese per state.   \n",
    "Since the geojson method of geoplotlib works by providing a file path to the geojson file, we don't have to do any importing and loading of the data.   \n",
    "\n",
    "\n",
    "We still want to load the dataset and look at the structure of the geojson file."
   ]
  },
  {
   "cell_type": "code",
   "execution_count": 2,
   "metadata": {},
   "outputs": [],
   "source": [
    "# importing the necessary dependencies\n",
    "import json\n",
    "import geoplotlib\n",
    "from geoplotlib.colors import ColorMap\n",
    "from geoplotlib.utils import BoundingBox"
   ]
  },
  {
   "cell_type": "code",
   "execution_count": 20,
   "metadata": {},
   "outputs": [
    {
     "name": "stdout",
     "output_type": "stream",
     "text": [
      "{\n",
      "    \"type\": \"Feature\",\n",
      "    \"properties\": {\n",
      "        \"OBJECTID\": 1,\n",
      "        \"NAME\": \"Texas\",\n",
      "        \"Obesity\": 32.4,\n",
      "        \"Shape__Area\": 7672329221282.43,\n",
      "        \"Shape__Length\": 15408321.8693326\n",
      "    },\n",
      "    \"geometry\": {\n",
      "        \"type\": \"Polygon\",\n",
      "        \"coordinates\": [\n",
      "            -106.623454789568,\n",
      "            31.9140391520155\n",
      "        ]\n",
      "    }\n",
      "}\n"
     ]
    }
   ],
   "source": [
    "# displaying one of the entries for the states\n",
    "with open('data/National_Obesity_By_State.geojson') as data:\n",
    "    dataset = json.load(data)\n",
    "    \n",
    "    first_state = dataset.get('features')[0]\n",
    "    \n",
    "    # only showing one coordinate instead of all points\n",
    "    first_state['geometry']['coordinates'] = first_state['geometry']['coordinates'][0][0]\n",
    "    print(json.dumps(first_state, indent=4))\n",
    "    "
   ]
  },
  {
   "cell_type": "markdown",
   "metadata": {},
   "source": [
    "Extracting the names of all the states provided in the geojson might also be helpful later on."
   ]
  },
  {
   "cell_type": "code",
   "execution_count": 7,
   "metadata": {},
   "outputs": [
    {
     "name": "stdout",
     "output_type": "stream",
     "text": [
      "['Texas', 'California', 'Kentucky', 'Georgia', 'Wisconsin', 'Oregon', 'Virginia', 'Tennessee', 'Louisiana', 'New York', 'Michigan', 'Idaho', 'Florida', 'Alaska', 'Montana', 'Minnesota', 'Nebraska', 'Washington', 'Ohio', 'Illinois', 'Missouri', 'Iowa', 'South Dakota', 'Arkansas', 'Mississippi', 'Colorado', 'North Carolina', 'Utah', 'Oklahoma', 'Wyoming', 'West Virginia', 'Indiana', 'Massachusetts', 'Nevada', 'Connecticut', 'District of Columbia', 'Rhode Island', 'Alabama', 'Puerto Rico', 'South Carolina', 'Maine', 'Arizona', 'New Mexico', 'Maryland', 'Delaware', 'Pennsylvania', 'Kansas', 'Vermont', 'New Jersey', 'North Dakota', 'New Hampshire']\n"
     ]
    }
   ],
   "source": [
    "# listing the states in the dataset\n",
    "with open('data/National_Obesity_By_State.geojson') as data:\n",
    "    dataset = json.load(data)\n",
    "    \n",
    "    states = [feature['properties']['NAME'] for feature in dataset.get('features')]\n",
    "    print(states)"
   ]
  },
  {
   "cell_type": "markdown",
   "metadata": {},
   "source": [
    "##### **Note:**   \n",
    "The dataset has been altered, if you download it from the link mentioned in the introduction, please edit the file and remove the object describing Hawaii.   \n",
    "It lacks geometry data which leads to an error in geoplotlib."
   ]
  },
  {
   "cell_type": "markdown",
   "metadata": {},
   "source": [
    "---"
   ]
  },
  {
   "cell_type": "markdown",
   "metadata": {},
   "source": [
    "#### Creating a Choropleth with geojson data"
   ]
  },
  {
   "cell_type": "markdown",
   "metadata": {},
   "source": [
    "Use the `National_Obesity_By_State.geojson` file in the data folder to visualize the different states."
   ]
  },
  {
   "cell_type": "code",
   "execution_count": 1,
   "metadata": {},
   "outputs": [],
   "source": [
    "# plotting the information from the geojson file\n"
   ]
  },
  {
   "cell_type": "markdown",
   "metadata": {},
   "source": [
    "The visualization above does not give us any kind of information about the obesity per state. It completely lacks the information we wanted to display.   \n",
    "When using choropleth plots, the shading of given areas is the important feature, in this case we'll use the obesity percentage as statistical value to determine the value of the shading.\n",
    "\n",
    "Therefore we have to create a mapping function that converts the numerical value into a color.\n",
    "\n",
    "**Note:**   \n",
    "If you're stuck, please take a look at the example provided by the library to understand how to create a custom color mapping.   \n",
    "https://github.com/andrea-cuttone/geoplotlib/blob/master/examples/choropleth.py"
   ]
  },
  {
   "cell_type": "code",
   "execution_count": 2,
   "metadata": {},
   "outputs": [],
   "source": [
    "# converting the obesity into a color\n"
   ]
  },
  {
   "cell_type": "code",
   "execution_count": 3,
   "metadata": {},
   "outputs": [],
   "source": [
    "# plotting the shaded states and adding another layer which plots the state outlines in white\n",
    "# our BoundingBox should focus the USA\n"
   ]
  },
  {
   "cell_type": "markdown",
   "metadata": {},
   "source": [
    "**Note:**   \n",
    "In the introduction we mentioned that geoplotlib works with a layer based system.   \n",
    "This means that we can simply stack the same or different layers on top like in the example above. "
   ]
  }
 ],
 "metadata": {
  "kernelspec": {
   "display_name": "Python 3",
   "language": "python",
   "name": "python3"
  },
  "language_info": {
   "codemirror_mode": {
    "name": "ipython",
    "version": 3
   },
   "file_extension": ".py",
   "mimetype": "text/x-python",
   "name": "python",
   "nbconvert_exporter": "python",
   "pygments_lexer": "ipython3",
   "version": "3.7.0"
  }
 },
 "nbformat": 4,
 "nbformat_minor": 2
}
