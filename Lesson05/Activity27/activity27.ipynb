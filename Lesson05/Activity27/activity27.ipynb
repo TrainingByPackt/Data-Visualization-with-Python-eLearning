{
 "cells": [
  {
   "cell_type": "markdown",
   "metadata": {},
   "source": [
    "## Plotting geospatial data on a map"
   ]
  },
  {
   "cell_type": "markdown",
   "metadata": {},
   "source": [
    "In this first activity for geoplotlib, you'll combine methodologies learned in the previous exercise and use theoretical knowledge from previous lessons.   \n",
    "Besides from wrangling data you need to find the area with given attributes.   \n",
    "\n",
    "Before we can start, however, we need to import our dataset.   \n",
    "For this activity, we'll work with geo-spatial data that contains all cities with their coordinates and their population.\n",
    "\n",
    "**Note:**   \n",
    "This time the dataset is not yet added into the data folder. You have to download it from here:   \n",
    "https://www.kaggle.com/max-mind/world-cities-database#worldcitiespop.csv"
   ]
  },
  {
   "cell_type": "markdown",
   "metadata": {},
   "source": [
    "#### Loading the dataset"
   ]
  },
  {
   "cell_type": "code",
   "execution_count": 4,
   "metadata": {},
   "outputs": [],
   "source": [
    "# importing the necessary dependencies\n",
    "import numpy as np\n",
    "import pandas as pd\n",
    "import geoplotlib"
   ]
  },
  {
   "cell_type": "code",
   "execution_count": 1,
   "metadata": {},
   "outputs": [],
   "source": [
    "# loading the Dataset (make sure to have the dataset downloaded)\n"
   ]
  },
  {
   "cell_type": "markdown",
   "metadata": {},
   "source": [
    "**Note:**   \n",
    "If we import our dataset without defining the dtype of column *Region* as String, we will get a warning telling out the it has a mixed datatype.   \n",
    "We can get rid of this warning by explicitly defining the type of the values in this column by using the `dtype` parameter.   \n",
    "`dtype={'Region': np.str}`"
   ]
  },
  {
   "cell_type": "code",
   "execution_count": 2,
   "metadata": {},
   "outputs": [],
   "source": [
    "# looking at the data types of each column\n"
   ]
  },
  {
   "cell_type": "markdown",
   "metadata": {},
   "source": [
    "**Note:**   \n",
    "Here we can see the dtypes of each column.   \n",
    "Since the String type is no primitive datatype, it's displayed as `object` here."
   ]
  },
  {
   "cell_type": "code",
   "execution_count": 3,
   "metadata": {},
   "outputs": [],
   "source": [
    "# showing the first 5 entries of the dataset\n"
   ]
  },
  {
   "cell_type": "markdown",
   "metadata": {},
   "source": [
    "---"
   ]
  },
  {
   "cell_type": "markdown",
   "metadata": {},
   "source": [
    "#### Mapping `Latitude` and `Longitude` to `lat` and `lon`"
   ]
  },
  {
   "cell_type": "markdown",
   "metadata": {},
   "source": [
    "Most datasets won't be in the format that you want to have. Some of them might have their latitude and longitude values hidden in a different column.   \n",
    "This is where the data wrangling skills of lesson 1 are needed.   \n",
    "\n",
    "For the given dataset, the transformations are easy, we simply need to map the `Latitude` and `Longitude` columns into `lat` and `lon` columns which are used by geoplotlib."
   ]
  },
  {
   "cell_type": "code",
   "execution_count": 4,
   "metadata": {},
   "outputs": [],
   "source": [
    "# mapping Latitude to lat and Longitude to lon\n"
   ]
  },
  {
   "cell_type": "markdown",
   "metadata": {},
   "source": [
    "**Note:**   \n",
    "Geoplotlibs methods expect dataset columns `lat` and `lon` for plotting. This means your dataframe has to be tranfsormed to resemble this structure.   "
   ]
  },
  {
   "cell_type": "markdown",
   "metadata": {},
   "source": [
    "---"
   ]
  },
  {
   "cell_type": "markdown",
   "metadata": {},
   "source": [
    "#### Understanding our data"
   ]
  },
  {
   "cell_type": "markdown",
   "metadata": {},
   "source": [
    "It's your first day at work, your boss hands you this dataset and wants you to dig into it and find the areas with the most adjacent cities that have a population of more than 100k.   \n",
    "He needs this information to figure out where to expand next.   \n",
    "\n",
    "To get a feeling for how many datapoints the dataset contains, we'll plot the whole dataset using dots."
   ]
  },
  {
   "cell_type": "code",
   "execution_count": 5,
   "metadata": {},
   "outputs": [],
   "source": [
    "# plotting the whole dataset with dots\n"
   ]
  },
  {
   "cell_type": "markdown",
   "metadata": {},
   "source": [
    "Other than seeing the density of our datapoints, we also need to get some information about how the data is distributed."
   ]
  },
  {
   "cell_type": "code",
   "execution_count": 6,
   "metadata": {},
   "outputs": [],
   "source": [
    "# amount of countries and cities\n"
   ]
  },
  {
   "cell_type": "code",
   "execution_count": 7,
   "metadata": {},
   "outputs": [],
   "source": [
    "# amount of cities per country (first 20 entries)\n"
   ]
  },
  {
   "cell_type": "code",
   "execution_count": 8,
   "metadata": {},
   "outputs": [],
   "source": [
    "# average num of cities per country\n"
   ]
  },
  {
   "cell_type": "markdown",
   "metadata": {},
   "source": [
    "Since we are only interested in areas with densely placed cities and high population, we can filter out cities without a population. "
   ]
  },
  {
   "cell_type": "markdown",
   "metadata": {},
   "source": [
    "#### Reducing our data"
   ]
  },
  {
   "cell_type": "markdown",
   "metadata": {},
   "source": [
    "Our dataset has more than 3Mio cities listed. Many of them are really small and can be ignored, given our objective for this activity.   \n",
    "We only want to look at those cities that have a value given for their population density.\n",
    "\n",
    "**Note:**   \n",
    "If you're having trouble filtering your dataset, you can always check back with the activities in lesson1."
   ]
  },
  {
   "cell_type": "code",
   "execution_count": 11,
   "metadata": {},
   "outputs": [],
   "source": [
    "# filter for countries with a population entry (Population > 0)\n"
   ]
  },
  {
   "cell_type": "code",
   "execution_count": 12,
   "metadata": {},
   "outputs": [],
   "source": [
    "# displaying the first 5 items from dataset_with_pop\n"
   ]
  },
  {
   "cell_type": "code",
   "execution_count": 13,
   "metadata": {},
   "outputs": [],
   "source": [
    "# showing all cities with a defined population with a dot density plot\n"
   ]
  },
  {
   "cell_type": "markdown",
   "metadata": {},
   "source": [
    "**Note:**   \n",
    "Not only the execution time of the visualization has been decreased but we already can see where the areas with more cities are.   \n",
    "\n",
    "Following the request from our boss, we shall only consider areas that have a high density of adjacent cities with a population of more than 100k."
   ]
  },
  {
   "cell_type": "code",
   "execution_count": 14,
   "metadata": {},
   "outputs": [],
   "source": [
    "# dataset with cities with population of >= 100k\n"
   ]
  },
  {
   "cell_type": "code",
   "execution_count": 15,
   "metadata": {},
   "outputs": [],
   "source": [
    "# displaying all cities >= 100k population with a fixed bounding box (WORLD) in a dot density plot\n",
    "from geoplotlib.utils import BoundingBox\n"
   ]
  },
  {
   "cell_type": "markdown",
   "metadata": {},
   "source": [
    "**Note:**   \n",
    "In order to get the same view on our map every time, we can set the bounding box to the constant viewport declared in the geoplotlib library.   \n",
    "We can also instantiate the BoundingBox class with values for north, west, south, and east."
   ]
  },
  {
   "cell_type": "markdown",
   "metadata": {},
   "source": [
    "---"
   ]
  },
  {
   "cell_type": "markdown",
   "metadata": {},
   "source": [
    "#### Finding the best area"
   ]
  },
  {
   "cell_type": "markdown",
   "metadata": {},
   "source": [
    "After reducing our data, we can now use more complex plots to filter down our data even more.   \n",
    "Thinking back to the first exercise, we've seen that histograms and voronoi plots can give us a quick visual representation of the density of data.\n",
    "\n",
    "**Note:**   \n",
    "Try playing around with the different color maps of the plotting methods, sometimes using other colors does not only improve the visuals but also the amount of information you can take from the visualization."
   ]
  },
  {
   "cell_type": "code",
   "execution_count": 16,
   "metadata": {},
   "outputs": [],
   "source": [
    "# using filled voronoi to find dense areas\n"
   ]
  },
  {
   "cell_type": "markdown",
   "metadata": {},
   "source": [
    "In the voronoi plot we can see tendencies.   \n",
    "Germany, Great Britain, Nigeria, India, Japan, Java, the East Coast of the USA, and Brasil stick out.   \n",
    "We can now again filter our data and only look at those countries to find the best suited.   "
   ]
  },
  {
   "cell_type": "markdown",
   "metadata": {},
   "source": [
    "---"
   ]
  },
  {
   "cell_type": "markdown",
   "metadata": {},
   "source": [
    "#### Final call"
   ]
  },
  {
   "cell_type": "markdown",
   "metadata": {},
   "source": [
    "After meeting with your boss, he tells you that we want to stick to Europe when it comes to expanding.   \n",
    "Filter your data for Germany and Great Britain only and decide which area is your final proposal."
   ]
  },
  {
   "cell_type": "code",
   "execution_count": 17,
   "metadata": {},
   "outputs": [],
   "source": [
    "# filter 100k dataset for cities in Germany and GB\n"
   ]
  },
  {
   "cell_type": "code",
   "execution_count": 18,
   "metadata": {},
   "outputs": [],
   "source": [
    "# using Delaunay triangulation to find the most dense aree\n"
   ]
  },
  {
   "cell_type": "markdown",
   "metadata": {},
   "source": [
    "Looking at our delaunay visualization, we can quickly see that area around Cologne and Düsseldorf stick out.   \n",
    "With those insights, we can now get back to our boss and talk about what we found out."
   ]
  },
  {
   "cell_type": "markdown",
   "metadata": {},
   "source": [
    "**Note:**   \n",
    "As mentioned before, it's important to know which visualization type helps you achieve the best insights.   \n",
    "We e.g. could've simply used a dot density map in the final call which would have also given us an idea about where there are most cities.   \n",
    "However delaunay triangulation is a good approach here that makes details pop nearly instantly."
   ]
  }
 ],
 "metadata": {
  "kernelspec": {
   "display_name": "Python 3",
   "language": "python",
   "name": "python3"
  },
  "language_info": {
   "codemirror_mode": {
    "name": "ipython",
    "version": 3
   },
   "file_extension": ".py",
   "mimetype": "text/x-python",
   "name": "python",
   "nbconvert_exporter": "python",
   "pygments_lexer": "ipython3",
   "version": "3.7.0"
  }
 },
 "nbformat": 4,
 "nbformat_minor": 2
}
