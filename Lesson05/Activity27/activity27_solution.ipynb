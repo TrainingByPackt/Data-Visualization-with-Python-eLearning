{
 "cells": [
  {
   "cell_type": "markdown",
   "metadata": {},
   "source": [
    "## Plotting geospatial data on a map"
   ]
  },
  {
   "cell_type": "markdown",
   "metadata": {},
   "source": [
    "In this first activity for geoplotlib, you'll combine methodologies learned in the previous exercise and use theoretical knowledge from previous lessons.   \n",
    "Besides from wrangling data you need to find the area with given attributes.   \n",
    "\n",
    "Before we can start, however, we need to import our dataset.   \n",
    "For this activity, we'll work with geo-spatial data that contains all cities with their coordinates and their population.\n",
    "\n",
    "**Note:**   \n",
    "This time the dataset is not yet added into the data folder. You have to download it from here:   \n",
    "https://www.kaggle.com/max-mind/world-cities-database#worldcitiespop.csv"
   ]
  },
  {
   "cell_type": "markdown",
   "metadata": {},
   "source": [
    "#### Loading the dataset"
   ]
  },
  {
   "cell_type": "code",
   "execution_count": 4,
   "metadata": {},
   "outputs": [],
   "source": [
    "# importing the necessary dependencies\n",
    "import numpy as np\n",
    "import pandas as pd\n",
    "import geoplotlib"
   ]
  },
  {
   "cell_type": "code",
   "execution_count": 5,
   "metadata": {},
   "outputs": [],
   "source": [
    "# loading the Dataset (make sure to have the dataset downloaded)\n",
    "dataset = pd.read_csv('./data/world_cities_pop.csv', dtype={'Region': np.str})"
   ]
  },
  {
   "cell_type": "markdown",
   "metadata": {},
   "source": [
    "**Note:**   \n",
    "If we import our dataset without defining the dtype of column *Region* as String, we will get a warning telling out the it has a mixed datatype.   \n",
    "We can get rid of this warning by explicitly defining the type of the values in this column by using the `dtype` parameter.   \n",
    "`dtype={'Region': np.str}`"
   ]
  },
  {
   "cell_type": "code",
   "execution_count": 6,
   "metadata": {},
   "outputs": [
    {
     "data": {
      "text/plain": [
       "Country        object\n",
       "City           object\n",
       "AccentCity     object\n",
       "Region         object\n",
       "Population    float64\n",
       "Latitude      float64\n",
       "Longitude     float64\n",
       "dtype: object"
      ]
     },
     "execution_count": 6,
     "metadata": {},
     "output_type": "execute_result"
    }
   ],
   "source": [
    "# looking at the data types of each column\n",
    "dataset.dtypes"
   ]
  },
  {
   "cell_type": "markdown",
   "metadata": {},
   "source": [
    "**Note:**   \n",
    "Here we can see the dtypes of each column.   \n",
    "Since the String type is no primitive datatype, it's displayed as `object` here."
   ]
  },
  {
   "cell_type": "code",
   "execution_count": 7,
   "metadata": {},
   "outputs": [
    {
     "data": {
      "text/html": [
       "<div>\n",
       "<style scoped>\n",
       "    .dataframe tbody tr th:only-of-type {\n",
       "        vertical-align: middle;\n",
       "    }\n",
       "\n",
       "    .dataframe tbody tr th {\n",
       "        vertical-align: top;\n",
       "    }\n",
       "\n",
       "    .dataframe thead th {\n",
       "        text-align: right;\n",
       "    }\n",
       "</style>\n",
       "<table border=\"1\" class=\"dataframe\">\n",
       "  <thead>\n",
       "    <tr style=\"text-align: right;\">\n",
       "      <th></th>\n",
       "      <th>Country</th>\n",
       "      <th>City</th>\n",
       "      <th>AccentCity</th>\n",
       "      <th>Region</th>\n",
       "      <th>Population</th>\n",
       "      <th>Latitude</th>\n",
       "      <th>Longitude</th>\n",
       "    </tr>\n",
       "  </thead>\n",
       "  <tbody>\n",
       "    <tr>\n",
       "      <th>0</th>\n",
       "      <td>ad</td>\n",
       "      <td>aixas</td>\n",
       "      <td>Aixàs</td>\n",
       "      <td>06</td>\n",
       "      <td>NaN</td>\n",
       "      <td>42.483333</td>\n",
       "      <td>1.466667</td>\n",
       "    </tr>\n",
       "    <tr>\n",
       "      <th>1</th>\n",
       "      <td>ad</td>\n",
       "      <td>aixirivali</td>\n",
       "      <td>Aixirivali</td>\n",
       "      <td>06</td>\n",
       "      <td>NaN</td>\n",
       "      <td>42.466667</td>\n",
       "      <td>1.500000</td>\n",
       "    </tr>\n",
       "    <tr>\n",
       "      <th>2</th>\n",
       "      <td>ad</td>\n",
       "      <td>aixirivall</td>\n",
       "      <td>Aixirivall</td>\n",
       "      <td>06</td>\n",
       "      <td>NaN</td>\n",
       "      <td>42.466667</td>\n",
       "      <td>1.500000</td>\n",
       "    </tr>\n",
       "    <tr>\n",
       "      <th>3</th>\n",
       "      <td>ad</td>\n",
       "      <td>aixirvall</td>\n",
       "      <td>Aixirvall</td>\n",
       "      <td>06</td>\n",
       "      <td>NaN</td>\n",
       "      <td>42.466667</td>\n",
       "      <td>1.500000</td>\n",
       "    </tr>\n",
       "    <tr>\n",
       "      <th>4</th>\n",
       "      <td>ad</td>\n",
       "      <td>aixovall</td>\n",
       "      <td>Aixovall</td>\n",
       "      <td>06</td>\n",
       "      <td>NaN</td>\n",
       "      <td>42.466667</td>\n",
       "      <td>1.483333</td>\n",
       "    </tr>\n",
       "  </tbody>\n",
       "</table>\n",
       "</div>"
      ],
      "text/plain": [
       "  Country        City  AccentCity Region  Population   Latitude  Longitude\n",
       "0      ad       aixas       Aixàs     06         NaN  42.483333   1.466667\n",
       "1      ad  aixirivali  Aixirivali     06         NaN  42.466667   1.500000\n",
       "2      ad  aixirivall  Aixirivall     06         NaN  42.466667   1.500000\n",
       "3      ad   aixirvall   Aixirvall     06         NaN  42.466667   1.500000\n",
       "4      ad    aixovall    Aixovall     06         NaN  42.466667   1.483333"
      ]
     },
     "execution_count": 7,
     "metadata": {},
     "output_type": "execute_result"
    }
   ],
   "source": [
    "# showing the first 5 entries of the dataset\n",
    "dataset.head()"
   ]
  },
  {
   "cell_type": "markdown",
   "metadata": {},
   "source": [
    "---"
   ]
  },
  {
   "cell_type": "markdown",
   "metadata": {},
   "source": [
    "#### Mapping `Latitude` and `Longitude` to `lat` and `lon`"
   ]
  },
  {
   "cell_type": "markdown",
   "metadata": {},
   "source": [
    "Most datasets won't be in the format that you want to have. Some of them might have their latitude and longitude values hidden in a different column.   \n",
    "This is where the data wrangling skills of lesson 1 are needed.   \n",
    "\n",
    "For the given dataset, the transformations are easy, we simply need to map the `Latitude` and `Longitude` columns into `lat` and `lon` columns which are used by geoplotlib."
   ]
  },
  {
   "cell_type": "code",
   "execution_count": 8,
   "metadata": {},
   "outputs": [],
   "source": [
    "# mapping Latitude to lat and Longitude to lon\n",
    "dataset['lat'] = dataset['Latitude']\n",
    "dataset['lon'] = dataset['Longitude']"
   ]
  },
  {
   "cell_type": "markdown",
   "metadata": {},
   "source": [
    "**Note:**   \n",
    "Geoplotlibs methods expect dataset columns `lat` and `lon` for plotting. This means your dataframe has to be tranfsormed to resemble this structure.   "
   ]
  },
  {
   "cell_type": "markdown",
   "metadata": {},
   "source": [
    "---"
   ]
  },
  {
   "cell_type": "markdown",
   "metadata": {},
   "source": [
    "#### Understanding our data"
   ]
  },
  {
   "cell_type": "markdown",
   "metadata": {},
   "source": [
    "It's your first day at work, your boss hands you this dataset and wants you to dig into it and find the areas with the most adjacent cities that have a population of more than 100k.   \n",
    "He needs this information to figure out where to expand next.   \n",
    "\n",
    "To get a feeling for how many datapoints the dataset contains, we'll plot the whole dataset using dots."
   ]
  },
  {
   "cell_type": "code",
   "execution_count": 9,
   "metadata": {},
   "outputs": [],
   "source": [
    "# plotting the whole dataset with dots\n",
    "geoplotlib.dot(dataset)\n",
    "geoplotlib.show()"
   ]
  },
  {
   "cell_type": "markdown",
   "metadata": {},
   "source": [
    "Other than seeing the density of our datapoints, we also need to get some information about how the data is distributed."
   ]
  },
  {
   "cell_type": "code",
   "execution_count": 7,
   "metadata": {},
   "outputs": [
    {
     "name": "stdout",
     "output_type": "stream",
     "text": [
      "234 Countries\n",
      "3173958 Cities\n"
     ]
    }
   ],
   "source": [
    "# amount of countries and cities\n",
    "print(len(dataset.groupby(['Country'])), 'Countries')\n",
    "print(len(dataset), 'Cities')"
   ]
  },
  {
   "cell_type": "code",
   "execution_count": 8,
   "metadata": {},
   "outputs": [
    {
     "data": {
      "text/plain": [
       "Country\n",
       "ad       92\n",
       "ae      446\n",
       "af    88749\n",
       "ag      183\n",
       "ai       42\n",
       "al    15123\n",
       "am     2890\n",
       "an      269\n",
       "ao    19560\n",
       "ar     8738\n",
       "at    14788\n",
       "au    10941\n",
       "aw      115\n",
       "az    11223\n",
       "ba    15999\n",
       "bb      536\n",
       "bd    26414\n",
       "be    16218\n",
       "bf    10468\n",
       "bg    20106\n",
       "dtype: int64"
      ]
     },
     "execution_count": 8,
     "metadata": {},
     "output_type": "execute_result"
    }
   ],
   "source": [
    "# amount of cities per country (first 20 entries)\n",
    "dataset.groupby(['Country']).size().head(20)"
   ]
  },
  {
   "cell_type": "code",
   "execution_count": 11,
   "metadata": {},
   "outputs": [
    {
     "data": {
      "text/plain": [
       "13563.923076923076"
      ]
     },
     "execution_count": 11,
     "metadata": {},
     "output_type": "execute_result"
    }
   ],
   "source": [
    "# average num of cities per country\n",
    "dataset.groupby(['Country']).size().agg('mean')"
   ]
  },
  {
   "cell_type": "markdown",
   "metadata": {},
   "source": [
    "Since we are only interested in areas with densely placed cities and high population, we can filter out cities without a population. "
   ]
  },
  {
   "cell_type": "markdown",
   "metadata": {},
   "source": [
    "#### Reducing our data"
   ]
  },
  {
   "cell_type": "markdown",
   "metadata": {},
   "source": [
    "Our dataset has more than 3Mio cities listed. Many of them are really small and can be ignored, given our objective for this activity.   \n",
    "We only want to look at those cities that have a value given for their population density.\n",
    "\n",
    "**Note:**   \n",
    "If you're having trouble filtering your dataset, you can always check back with the activities in lesson1."
   ]
  },
  {
   "cell_type": "code",
   "execution_count": 12,
   "metadata": {},
   "outputs": [
    {
     "name": "stdout",
     "output_type": "stream",
     "text": [
      "Full dataset: 3173958\n",
      "Cities with population information: 47980\n"
     ]
    }
   ],
   "source": [
    "# filter for countries with a population entry (Population > 0)\n",
    "dataset_with_pop = dataset[(dataset['Population'] > 0)]\n",
    "\n",
    "print('Full dataset:', len(dataset))\n",
    "print('Cities with population information:', len(dataset_with_pop))"
   ]
  },
  {
   "cell_type": "code",
   "execution_count": 13,
   "metadata": {},
   "outputs": [
    {
     "data": {
      "text/html": [
       "<div>\n",
       "<style scoped>\n",
       "    .dataframe tbody tr th:only-of-type {\n",
       "        vertical-align: middle;\n",
       "    }\n",
       "\n",
       "    .dataframe tbody tr th {\n",
       "        vertical-align: top;\n",
       "    }\n",
       "\n",
       "    .dataframe thead th {\n",
       "        text-align: right;\n",
       "    }\n",
       "</style>\n",
       "<table border=\"1\" class=\"dataframe\">\n",
       "  <thead>\n",
       "    <tr style=\"text-align: right;\">\n",
       "      <th></th>\n",
       "      <th>Country</th>\n",
       "      <th>City</th>\n",
       "      <th>AccentCity</th>\n",
       "      <th>Region</th>\n",
       "      <th>Population</th>\n",
       "      <th>Latitude</th>\n",
       "      <th>Longitude</th>\n",
       "      <th>lat</th>\n",
       "      <th>lon</th>\n",
       "    </tr>\n",
       "  </thead>\n",
       "  <tbody>\n",
       "    <tr>\n",
       "      <th>6</th>\n",
       "      <td>ad</td>\n",
       "      <td>andorra la vella</td>\n",
       "      <td>Andorra la Vella</td>\n",
       "      <td>07</td>\n",
       "      <td>20430.0</td>\n",
       "      <td>42.500000</td>\n",
       "      <td>1.516667</td>\n",
       "      <td>42.500000</td>\n",
       "      <td>1.516667</td>\n",
       "    </tr>\n",
       "    <tr>\n",
       "      <th>20</th>\n",
       "      <td>ad</td>\n",
       "      <td>canillo</td>\n",
       "      <td>Canillo</td>\n",
       "      <td>02</td>\n",
       "      <td>3292.0</td>\n",
       "      <td>42.566667</td>\n",
       "      <td>1.600000</td>\n",
       "      <td>42.566667</td>\n",
       "      <td>1.600000</td>\n",
       "    </tr>\n",
       "    <tr>\n",
       "      <th>32</th>\n",
       "      <td>ad</td>\n",
       "      <td>encamp</td>\n",
       "      <td>Encamp</td>\n",
       "      <td>03</td>\n",
       "      <td>11224.0</td>\n",
       "      <td>42.533333</td>\n",
       "      <td>1.583333</td>\n",
       "      <td>42.533333</td>\n",
       "      <td>1.583333</td>\n",
       "    </tr>\n",
       "    <tr>\n",
       "      <th>49</th>\n",
       "      <td>ad</td>\n",
       "      <td>la massana</td>\n",
       "      <td>La Massana</td>\n",
       "      <td>04</td>\n",
       "      <td>7211.0</td>\n",
       "      <td>42.550000</td>\n",
       "      <td>1.516667</td>\n",
       "      <td>42.550000</td>\n",
       "      <td>1.516667</td>\n",
       "    </tr>\n",
       "    <tr>\n",
       "      <th>53</th>\n",
       "      <td>ad</td>\n",
       "      <td>les escaldes</td>\n",
       "      <td>Les Escaldes</td>\n",
       "      <td>08</td>\n",
       "      <td>15854.0</td>\n",
       "      <td>42.500000</td>\n",
       "      <td>1.533333</td>\n",
       "      <td>42.500000</td>\n",
       "      <td>1.533333</td>\n",
       "    </tr>\n",
       "  </tbody>\n",
       "</table>\n",
       "</div>"
      ],
      "text/plain": [
       "   Country              City        AccentCity Region  Population   Latitude  \\\n",
       "6       ad  andorra la vella  Andorra la Vella     07     20430.0  42.500000   \n",
       "20      ad           canillo           Canillo     02      3292.0  42.566667   \n",
       "32      ad            encamp            Encamp     03     11224.0  42.533333   \n",
       "49      ad        la massana        La Massana     04      7211.0  42.550000   \n",
       "53      ad      les escaldes      Les Escaldes     08     15854.0  42.500000   \n",
       "\n",
       "    Longitude        lat       lon  \n",
       "6    1.516667  42.500000  1.516667  \n",
       "20   1.600000  42.566667  1.600000  \n",
       "32   1.583333  42.533333  1.583333  \n",
       "49   1.516667  42.550000  1.516667  \n",
       "53   1.533333  42.500000  1.533333  "
      ]
     },
     "execution_count": 13,
     "metadata": {},
     "output_type": "execute_result"
    }
   ],
   "source": [
    "# displaying the first 5 items from dataset_with_pop\n",
    "dataset_with_pop.head()"
   ]
  },
  {
   "cell_type": "code",
   "execution_count": 14,
   "metadata": {},
   "outputs": [],
   "source": [
    "# showing all cities with a defined population with a dot density plot\n",
    "geoplotlib.dot(dataset_with_pop)\n",
    "geoplotlib.show()"
   ]
  },
  {
   "cell_type": "markdown",
   "metadata": {},
   "source": [
    "**Note:**   \n",
    "Not only the execution time of the visualization has been decreased but we already can see where the areas with more cities are.   \n",
    "\n",
    "Following the request from our boss, we shall only consider areas that have a high density of adjacent cities with a population of more than 100k."
   ]
  },
  {
   "cell_type": "code",
   "execution_count": 15,
   "metadata": {},
   "outputs": [
    {
     "name": "stdout",
     "output_type": "stream",
     "text": [
      "Cities with a population of 100k or more: 3527\n"
     ]
    }
   ],
   "source": [
    "# dataset with cities with population of >= 100k\n",
    "dataset_100k = dataset_with_pop[(dataset_with_pop['Population'] >= 100_000)]\n",
    "\n",
    "print('Cities with a population of 100k or more:', len(dataset_100k))"
   ]
  },
  {
   "cell_type": "code",
   "execution_count": 16,
   "metadata": {},
   "outputs": [],
   "source": [
    "# displaying all cities >= 100k population with a fixed bounding box (WORLD) in a dot density plot\n",
    "from geoplotlib.utils import BoundingBox\n",
    "\n",
    "geoplotlib.dot(dataset_100k)\n",
    "geoplotlib.set_bbox(BoundingBox.WORLD)\n",
    "geoplotlib.show()"
   ]
  },
  {
   "cell_type": "markdown",
   "metadata": {},
   "source": [
    "**Note:**   \n",
    "In order to get the same view on our map every time, we can set the bounding box to the constant viewport declared in the geoplotlib library.   \n",
    "We can also instantiate the BoundingBox class with values for north, west, south, and east."
   ]
  },
  {
   "cell_type": "markdown",
   "metadata": {},
   "source": [
    "---"
   ]
  },
  {
   "cell_type": "markdown",
   "metadata": {},
   "source": [
    "#### Finding the best area"
   ]
  },
  {
   "cell_type": "markdown",
   "metadata": {},
   "source": [
    "After reducing our data, we can now use more complex plots to filter down our data even more.   \n",
    "Thinking back to the first exercise, we've seen that histograms and voronoi plots can give us a quick visual representation of the density of data.\n",
    "\n",
    "**Note:**   \n",
    "Try playing around with the different color maps of the plotting methods, sometimes using other colors does not only improve the visuals but also the amount of information you can take from the visualization."
   ]
  },
  {
   "cell_type": "code",
   "execution_count": 17,
   "metadata": {},
   "outputs": [],
   "source": [
    "# using filled voronoi to find dense areas\n",
    "geoplotlib.voronoi(dataset_100k, cmap='hot_r', max_area=1e3, alpha=255)\n",
    "geoplotlib.show()"
   ]
  },
  {
   "cell_type": "markdown",
   "metadata": {},
   "source": [
    "In the voronoi plot we can see tendencies.   \n",
    "Germany, Great Britain, Nigeria, India, Japan, Java, the East Coast of the USA, and Brasil stick out.   \n",
    "We can now again filter our data and only look at those countries to find the best suited.   "
   ]
  },
  {
   "cell_type": "markdown",
   "metadata": {},
   "source": [
    "---"
   ]
  },
  {
   "cell_type": "markdown",
   "metadata": {},
   "source": [
    "#### Final call"
   ]
  },
  {
   "cell_type": "markdown",
   "metadata": {},
   "source": [
    "After meeting with your boss, he tells you that we want to stick to Europe when it comes to expanding.   \n",
    "Filter your data for Germany and Great Britain only and decide which area is your final proposal."
   ]
  },
  {
   "cell_type": "code",
   "execution_count": 18,
   "metadata": {},
   "outputs": [
    {
     "name": "stdout",
     "output_type": "stream",
     "text": [
      "Cities in Germany or GB with population >= 100k: 150\n"
     ]
    }
   ],
   "source": [
    "# filter 100k dataset for cities in Germany and GB\n",
    "dataset_europe = dataset_100k[(dataset_100k['Country'] == 'de') | (dataset_100k['Country'] == 'gb')]\n",
    "\n",
    "print('Cities in Germany or GB with population >= 100k:', len(dataset_europe))"
   ]
  },
  {
   "cell_type": "code",
   "execution_count": 19,
   "metadata": {},
   "outputs": [],
   "source": [
    "# using Delaunay triangulation to find the most dense aree\n",
    "geoplotlib.delaunay(dataset_europe, cmap='hot_r')\n",
    "geoplotlib.show()"
   ]
  },
  {
   "cell_type": "markdown",
   "metadata": {},
   "source": [
    "Looking at our delaunay visualization, we can quickly see that area around Cologne and Düsseldorf stick out.   \n",
    "With those insights, we can now get back to our boss and talk about what we found out."
   ]
  },
  {
   "cell_type": "markdown",
   "metadata": {},
   "source": [
    "**Note:**   \n",
    "As mentioned before, it's important to know which visualization type helps you achieve the best insights.   \n",
    "We e.g. could've simply used a dot density map in the final call which would have also given us an idea about where there are most cities.   \n",
    "However delaunay triangulation is a good approach here that makes details pop nearly instantly."
   ]
  }
 ],
 "metadata": {
  "kernelspec": {
   "display_name": "Python 3",
   "language": "python",
   "name": "python3"
  },
  "language_info": {
   "codemirror_mode": {
    "name": "ipython",
    "version": 3
   },
   "file_extension": ".py",
   "mimetype": "text/x-python",
   "name": "python",
   "nbconvert_exporter": "python",
   "pygments_lexer": "ipython3",
   "version": "3.7.0"
  }
 },
 "nbformat": 4,
 "nbformat_minor": 2
}
