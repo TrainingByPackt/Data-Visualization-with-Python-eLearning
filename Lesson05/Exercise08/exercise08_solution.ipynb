{
 "cells": [
  {
   "cell_type": "markdown",
   "metadata": {},
   "source": [
    "## Visually comparing different tile providers"
   ]
  },
  {
   "cell_type": "markdown",
   "metadata": {},
   "source": [
    "Geoplotlib offers the possibility to switch between several providers of map tiles.   \n",
    "This means we can try out different map tile styles that fit our visualization.   \n",
    "\n",
    "In this exercise we'll take a look at how easily tile providers can be swapped."
   ]
  },
  {
   "cell_type": "markdown",
   "metadata": {},
   "source": [
    "#### Loading our dataset"
   ]
  },
  {
   "cell_type": "markdown",
   "metadata": {},
   "source": [
    "**Note:**   \n",
    "Since geoplotlib is layer based, we can also look at the map without any layers applied.   \n",
    "In this exercise we'll focus on the tiles themselves without plotting any data points."
   ]
  },
  {
   "cell_type": "code",
   "execution_count": 1,
   "metadata": {},
   "outputs": [],
   "source": [
    "# importing the necessary dependencies\n",
    "import geoplotlib"
   ]
  },
  {
   "cell_type": "markdown",
   "metadata": {},
   "source": [
    "---"
   ]
  },
  {
   "cell_type": "markdown",
   "metadata": {},
   "source": [
    "#### Changing the tile provider"
   ]
  },
  {
   "cell_type": "markdown",
   "metadata": {},
   "source": [
    "Geoplotlib uses map tiles from the **CartoDB Positron** by default.   \n",
    "However you can use any OpenStreetMap tile server by using the `tiles_provider` method."
   ]
  },
  {
   "cell_type": "code",
   "execution_count": 2,
   "metadata": {},
   "outputs": [],
   "source": [
    "# displaying the map with the default tile provider\n",
    "geoplotlib.show()"
   ]
  },
  {
   "cell_type": "markdown",
   "metadata": {},
   "source": [
    "Other examples of popular free tile providers are:\n",
    "- [Stamen Watercolor](http://maps.stamen.com/watercolor/#12/37.7706/-122.3782) => `watercolor`\n",
    "- [Stamen Toner](http://maps.stamen.com/toner/#12/37.7706/-122.3782) => `toner`\n",
    "- [Stamen Toner Lite](http://maps.stamen.com/toner-lite/#12/37.7706/-122.3782) => `toner-lite`\n",
    "- [DarkMatter](https://carto.com/location-data-services/basemaps/) => `darkmatter`\n",
    "\n",
    "Geoplotlib already provides the mapping for some of the most common tile providers.   \n",
    "By providing the name of the tile provider into the `tiles_provider` method, we can quickly switch between different styles."
   ]
  },
  {
   "cell_type": "code",
   "execution_count": 4,
   "metadata": {},
   "outputs": [],
   "source": [
    "# using map tiles from the dark matter tile provider\n",
    "geoplotlib.tiles_provider('darkmatter')\n",
    "geoplotlib.show()"
   ]
  },
  {
   "cell_type": "markdown",
   "metadata": {},
   "source": [
    "In some cases the already provided tiles are not the right ones or take away too much of the users attention from the data displayed.   \n",
    "In this case we can also provide an object containing the tile provider information.   \n",
    "\n",
    "More free tile providers for OpenStreetMap can be found here:   \n",
    "https://wiki.openstreetmap.org/wiki/Tile_servers"
   ]
  },
  {
   "cell_type": "code",
   "execution_count": 8,
   "metadata": {},
   "outputs": [],
   "source": [
    "# using custom object to set up tile provider\n",
    "geoplotlib.tiles_provider({\n",
    "    'url': lambda zoom, xtile, ytile: 'http://a.tile.openstreetmap.fr/hot/%d/%d/%d.png' % (zoom, xtile, ytile),\n",
    "    'tiles_dir': 'custom_tiles',\n",
    "    'attribution': 'Custom Tiles Provider - Humanitarian map style | Packt Courseware'\n",
    "})\n",
    "geoplotlib.show()"
   ]
  },
  {
   "cell_type": "markdown",
   "metadata": {},
   "source": [
    "**Note:**   \n",
    "Choosing the right tiles that complement your visualization can push your visualizations to the next level and add an artistic element.   \n",
    "Just make sure to keep the data in focus without giving too much of the users attention to the map itself."
   ]
  }
 ],
 "metadata": {
  "kernelspec": {
   "display_name": "Python 3",
   "language": "python",
   "name": "python3"
  },
  "language_info": {
   "codemirror_mode": {
    "name": "ipython",
    "version": 3
   },
   "file_extension": ".py",
   "mimetype": "text/x-python",
   "name": "python",
   "nbconvert_exporter": "python",
   "pygments_lexer": "ipython3",
   "version": "3.7.0"
  }
 },
 "nbformat": 4,
 "nbformat_minor": 2
}
