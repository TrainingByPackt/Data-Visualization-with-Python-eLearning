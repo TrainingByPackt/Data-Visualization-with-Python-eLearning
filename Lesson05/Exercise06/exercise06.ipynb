{
 "cells": [
  {
   "cell_type": "markdown",
   "metadata": {},
   "source": [
    "## Visualizing simple geospatial data"
   ]
  },
  {
   "cell_type": "markdown",
   "metadata": {},
   "source": [
    "In this first exercise we want to see the simplictiy of geoplotlib in its fullest.   \n",
    "Loading data and displaying it with pre-defined plots is really simple but already enables us to get incredible insights into our datasets.   \n",
    "\n",
    "We'll be looking at a dataset containing all poaching points in RUNAPA. It can be downloaded here: https://opendata.socrata.com/Education/All-Poaching-Points/96zb-vb4w   \n",
    "Please note that it's a rather small dataset. We'll be looking at bigger ones in further activites."
   ]
  },
  {
   "cell_type": "markdown",
   "metadata": {},
   "source": [
    "#### Loading our dataset"
   ]
  },
  {
   "cell_type": "code",
   "execution_count": 1,
   "metadata": {},
   "outputs": [],
   "source": [
    "# importing the necessary dependencies\n",
    "import geoplotlib\n",
    "from geoplotlib.utils import read_csv"
   ]
  },
  {
   "cell_type": "code",
   "execution_count": 1,
   "metadata": {},
   "outputs": [],
   "source": [
    "# loading the Dataset with geoplotlib\n"
   ]
  },
  {
   "cell_type": "code",
   "execution_count": 2,
   "metadata": {},
   "outputs": [],
   "source": [
    "# looking at the dataset structure\n"
   ]
  },
  {
   "cell_type": "markdown",
   "metadata": {},
   "source": [
    "**Note:**   \n",
    "Geoplotlib has a built-in way to load datasets which is really convenient if you don't want to import additional libraries like Pandas.   \n",
    "Note that geoplotlib is compatible with Pandas dataframes, too. So if you need to do some pre-processing with the data it might make sense to use Pandas right away."
   ]
  },
  {
   "cell_type": "code",
   "execution_count": 4,
   "metadata": {},
   "outputs": [
    {
     "data": {
      "text/html": [
       "<div>\n",
       "<style scoped>\n",
       "    .dataframe tbody tr th:only-of-type {\n",
       "        vertical-align: middle;\n",
       "    }\n",
       "\n",
       "    .dataframe tbody tr th {\n",
       "        vertical-align: top;\n",
       "    }\n",
       "\n",
       "    .dataframe thead th {\n",
       "        text-align: right;\n",
       "    }\n",
       "</style>\n",
       "<table border=\"1\" class=\"dataframe\">\n",
       "  <thead>\n",
       "    <tr style=\"text-align: right;\">\n",
       "      <th></th>\n",
       "      <th>id_report</th>\n",
       "      <th>date_report</th>\n",
       "      <th>description</th>\n",
       "      <th>created_date</th>\n",
       "      <th>lat</th>\n",
       "      <th>lon</th>\n",
       "    </tr>\n",
       "  </thead>\n",
       "  <tbody>\n",
       "    <tr>\n",
       "      <th>0</th>\n",
       "      <td>138</td>\n",
       "      <td>01/01/2005 12:00:00 AM</td>\n",
       "      <td>Poaching incident</td>\n",
       "      <td>2005/01/01 12:00:00 AM</td>\n",
       "      <td>-7.049359</td>\n",
       "      <td>34.841440</td>\n",
       "    </tr>\n",
       "    <tr>\n",
       "      <th>1</th>\n",
       "      <td>4</td>\n",
       "      <td>01/20/2005 12:00:00 AM</td>\n",
       "      <td>Poaching incident</td>\n",
       "      <td>2005/01/20 12:00:00 AM</td>\n",
       "      <td>-7.650840</td>\n",
       "      <td>34.480010</td>\n",
       "    </tr>\n",
       "    <tr>\n",
       "      <th>2</th>\n",
       "      <td>43</td>\n",
       "      <td>01/20/2005 12:00:00 AM</td>\n",
       "      <td>Poaching incident</td>\n",
       "      <td>2005/02/20 12:00:00 AM</td>\n",
       "      <td>-7.843202</td>\n",
       "      <td>34.005704</td>\n",
       "    </tr>\n",
       "    <tr>\n",
       "      <th>3</th>\n",
       "      <td>98</td>\n",
       "      <td>01/20/2005 12:00:00 AM</td>\n",
       "      <td>Poaching incident</td>\n",
       "      <td>2005/02/21 12:00:00 AM</td>\n",
       "      <td>-7.745846</td>\n",
       "      <td>33.948526</td>\n",
       "    </tr>\n",
       "    <tr>\n",
       "      <th>4</th>\n",
       "      <td>141</td>\n",
       "      <td>01/20/2005 12:00:00 AM</td>\n",
       "      <td>Poaching incident</td>\n",
       "      <td>2005/02/22 12:00:00 AM</td>\n",
       "      <td>-7.876673</td>\n",
       "      <td>33.690167</td>\n",
       "    </tr>\n",
       "  </tbody>\n",
       "</table>\n",
       "</div>"
      ],
      "text/plain": [
       "   id_report             date_report        description  \\\n",
       "0        138  01/01/2005 12:00:00 AM  Poaching incident   \n",
       "1          4  01/20/2005 12:00:00 AM  Poaching incident   \n",
       "2         43  01/20/2005 12:00:00 AM  Poaching incident   \n",
       "3         98  01/20/2005 12:00:00 AM  Poaching incident   \n",
       "4        141  01/20/2005 12:00:00 AM  Poaching incident   \n",
       "\n",
       "             created_date       lat        lon  \n",
       "0  2005/01/01 12:00:00 AM -7.049359  34.841440  \n",
       "1  2005/01/20 12:00:00 AM -7.650840  34.480010  \n",
       "2  2005/02/20 12:00:00 AM -7.843202  34.005704  \n",
       "3  2005/02/21 12:00:00 AM -7.745846  33.948526  \n",
       "4  2005/02/22 12:00:00 AM -7.876673  33.690167  "
      ]
     },
     "execution_count": 4,
     "metadata": {},
     "output_type": "execute_result"
    }
   ],
   "source": [
    "import pandas as pd\n",
    "\n",
    "pd_dataset = pd.read_csv('./data/poaching_points_cleaned.csv')\n",
    "pd_dataset.head()"
   ]
  },
  {
   "cell_type": "markdown",
   "metadata": {},
   "source": [
    "---"
   ]
  },
  {
   "cell_type": "markdown",
   "metadata": {},
   "source": [
    "#### Simple plots with geoplotlib"
   ]
  },
  {
   "cell_type": "markdown",
   "metadata": {},
   "source": [
    "For now we want to only focus on columns `lat` and `lon` since those are the column names geoplotlib will look out for when calling its plotting methods.   \n",
    "Right now, when only looking at the stub of data displayed with `dataset.head()` we see some numbers displayed. However we are not able to visually map them to some specific area on the globe.   \n",
    "\n",
    "We want to get some insights into our data, rather than looking at the values themselves."
   ]
  },
  {
   "cell_type": "code",
   "execution_count": 3,
   "metadata": {},
   "outputs": [],
   "source": [
    "# plotting our dataset with points\n"
   ]
  },
  {
   "cell_type": "markdown",
   "metadata": {},
   "source": [
    "**Note:**   \n",
    "Here we can see the automatic selection of the bounding box for what will be shown.   \n",
    "We'll take a look at how to change the default bounding box with the `BoundingBox` class of geoplotlib later on."
   ]
  },
  {
   "cell_type": "code",
   "execution_count": 4,
   "metadata": {},
   "outputs": [],
   "source": [
    "# plotting our dataset as a histogram\n"
   ]
  },
  {
   "cell_type": "markdown",
   "metadata": {},
   "source": [
    "Histogram plots will gives us a better understanding about the distribution of density of our dataset.   \n",
    "Looking at the above plot, we can see that there are some \"hotspot\"."
   ]
  },
  {
   "cell_type": "code",
   "execution_count": 5,
   "metadata": {},
   "outputs": [],
   "source": [
    "# plotting a voronoi map\n"
   ]
  },
  {
   "cell_type": "markdown",
   "metadata": {},
   "source": [
    "Looking at either the histogram or voronoi visualizations gives us a better understanding of not only the areas in which poaching is present but also shows us that there are areas where it's more likely to be poached in.   \n",
    "\n",
    "Insights, also, are about finding out the right questions to ask to understand your subject better.   \n",
    "One of the questions that come to mind when looking at the given dataset is, what this rather big area without recorded poaches tells us about the kind of animals present there. "
   ]
  }
 ],
 "metadata": {
  "kernelspec": {
   "display_name": "Python 3",
   "language": "python",
   "name": "python3"
  },
  "language_info": {
   "codemirror_mode": {
    "name": "ipython",
    "version": 3
   },
   "file_extension": ".py",
   "mimetype": "text/x-python",
   "name": "python",
   "nbconvert_exporter": "python",
   "pygments_lexer": "ipython3",
   "version": "3.7.0"
  }
 },
 "nbformat": 4,
 "nbformat_minor": 2
}
