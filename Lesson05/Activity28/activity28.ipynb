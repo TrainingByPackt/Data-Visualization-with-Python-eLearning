{
 "cells": [
  {
   "cell_type": "markdown",
   "metadata": {},
   "source": [
    "## Working with custom layers"
   ]
  },
  {
   "cell_type": "markdown",
   "metadata": {},
   "source": [
    "In this activity, we will take a look at how to create custom layers that allow you to not only display geo-spatial data but also animate your datapoints over time.  \n",
    "We'll get a deeper understanding of how geoplotlib works and how layers are created and drawn.\n",
    "\n",
    "Our dataset does not only contain spatial but also temporal information which enables us to plot flights over time on our map.   \n",
    "There is an example on how to do this with taxis in the examples folder of geoplotlib.   \n",
    "https://github.com/andrea-cuttone/geoplotlib/blob/master/examples/taxi.py\n",
    "\n",
    "**Note:**   \n",
    "The dataset can be found here:   \n",
    "https://datamillnorth.org/dataset/flight-tracking"
   ]
  },
  {
   "cell_type": "markdown",
   "metadata": {},
   "source": [
    "#### Loading the dataset"
   ]
  },
  {
   "cell_type": "markdown",
   "metadata": {},
   "source": [
    "This time our dataset contains flight data recorded from different machines.   \n",
    "Each entry is assigned to a unique plane through a `hex_ident`.   \n",
    "Each location is related to a specific timestamp that consists of a `date` and a `time`."
   ]
  },
  {
   "cell_type": "code",
   "execution_count": 1,
   "metadata": {},
   "outputs": [],
   "source": [
    "# importing the necessary dependencies\n",
    "import pandas as pd"
   ]
  },
  {
   "cell_type": "code",
   "execution_count": 2,
   "metadata": {},
   "outputs": [],
   "source": [
    "# loading the dataset from the csv file\n"
   ]
  },
  {
   "cell_type": "code",
   "execution_count": 3,
   "metadata": {},
   "outputs": [],
   "source": [
    "# displaying the first 5 rows of the dataset\n"
   ]
  },
  {
   "cell_type": "code",
   "execution_count": 4,
   "metadata": {},
   "outputs": [],
   "source": [
    "# renaming columns latitude to lat and longitude to lon\n"
   ]
  },
  {
   "cell_type": "markdown",
   "metadata": {},
   "source": [
    "**Note:**   \n",
    "Remember that geoplotlib needs columns that are named `lat` and `lon`. You will encounter an error if that is not the case."
   ]
  },
  {
   "cell_type": "code",
   "execution_count": 5,
   "metadata": {},
   "outputs": [],
   "source": [
    "# displaying the first 5 rows of the dataset\n"
   ]
  },
  {
   "cell_type": "markdown",
   "metadata": {},
   "source": [
    "---"
   ]
  },
  {
   "cell_type": "markdown",
   "metadata": {},
   "source": [
    "#### Adding an unix timestamp"
   ]
  },
  {
   "cell_type": "markdown",
   "metadata": {},
   "source": [
    "The easiest way to work with and handle time is to use a unix timestamp.   \n",
    "In previous activities, we've already seen how to create a new column in our dataset by applying a function to it.   \n",
    "We are using the datatime library to parse the date and time columns of our dataset and use it to create a unix timestamp."
   ]
  },
  {
   "cell_type": "code",
   "execution_count": 6,
   "metadata": {},
   "outputs": [],
   "source": [
    "# method to convert date and time to an unix timestamp\n",
    "from datetime import datetime\n",
    "\n",
    "def to_epoch(date, time):\n",
    "    try:\n",
    "        timestamp = round(datetime.strptime('{} {}'.format(date, time), '%Y/%m/%d %H:%M:%S.%f').timestamp())\n",
    "        return timestamp\n",
    "    except ValueError:\n",
    "        return round(datetime.strptime('2017/09/11 17:02:06.418', '%Y/%m/%d %H:%M:%S.%f').timestamp())"
   ]
  },
  {
   "cell_type": "code",
   "execution_count": 6,
   "metadata": {},
   "outputs": [],
   "source": [
    "# creating a new column called timestamp with the to_epoch method applied\n"
   ]
  },
  {
   "cell_type": "code",
   "execution_count": 7,
   "metadata": {},
   "outputs": [],
   "source": [
    "# displaying the first 5 rows of the dataset\n"
   ]
  },
  {
   "cell_type": "markdown",
   "metadata": {},
   "source": [
    "**Note:**   \n",
    "We round up the miliseconds in our `to_epoch` method since epoch is the number of seconds (not miliseconds) that have passes since January 1st 1970.   \n",
    "Of course we loose some precision here, but we want to focus on creating our own custom layer instead of wasting a lot of time with our dataset."
   ]
  },
  {
   "cell_type": "markdown",
   "metadata": {},
   "source": [
    "---"
   ]
  },
  {
   "cell_type": "markdown",
   "metadata": {},
   "source": [
    "#### Writing our custom layer"
   ]
  },
  {
   "cell_type": "markdown",
   "metadata": {},
   "source": [
    "After preparing our dataset, we can now start writing our custom layer.   \n",
    "As mentioned at the beginning of this activity, it will be based on the taxi example of geoplotlib.   \n",
    "\n",
    "We want to have a layer `TrackLayer` that takes an argument dataset which contains `lat` and `lon` data in combination with a `timestamp`.   \n",
    "Given this data, we want to plot each point for each timestamp on the map, creating a tail behind the newest position of the plane.\n",
    "The geoplotlib colorbrewer is used to give each plane a color based on their unique `hex_ident`.   \n",
    "The view (bounding box) of our visualization will be set to the city Leeds and a text information with the current timestamp is displayed in the upper right corner."
   ]
  },
  {
   "cell_type": "code",
   "execution_count": 10,
   "metadata": {},
   "outputs": [],
   "source": [
    "# custom layer creation\n",
    "import geoplotlib\n",
    "from geoplotlib.layers import BaseLayer\n",
    "from geoplotlib.core import BatchPainter\n",
    "from geoplotlib.colors import colorbrewer\n",
    "from geoplotlib.utils import epoch_to_str, BoundingBox\n",
    "\n",
    "class TrackLayer(BaseLayer):\n",
    "\n",
    "    # initialize class variables\n",
    "    def __init__(self, dataset, bbox=BoundingBox.WORLD):\n",
    "        self.view = bbox\n",
    "        pass\n",
    "\n",
    "    # implement draw routine\n",
    "    def draw(self, proj, mouse_x, mouse_y, ui_manager):\n",
    "        pass\n",
    "        \n",
    "    # bounding box that gets used when layer is created\n",
    "    def bbox(self):\n",
    "        return self.view"
   ]
  },
  {
   "cell_type": "markdown",
   "metadata": {},
   "source": [
    "---"
   ]
  },
  {
   "cell_type": "markdown",
   "metadata": {},
   "source": [
    "#### Visualization with of the custom layer"
   ]
  },
  {
   "cell_type": "markdown",
   "metadata": {},
   "source": [
    "After creating the custom layer, using it is as simple as using any other layer in geoplotlib.   \n",
    "We can use the `add_layer` method and pass in our custom layer class with the parameters needed."
   ]
  },
  {
   "cell_type": "markdown",
   "metadata": {},
   "source": [
    "Our data is focused on the UK and specifically Leeds.   \n",
    "So we want to adjust our bounding box to exactly this area."
   ]
  },
  {
   "cell_type": "code",
   "execution_count": 10,
   "metadata": {},
   "outputs": [],
   "source": [
    "# bounding box for our view on leeds\n",
    "from geoplotlib.utils import BoundingBox\n",
    "\n",
    "leeds_bbox = BoundingBox(north=53.8074, west=-3, south=53.7074 , east=0)"
   ]
  },
  {
   "cell_type": "code",
   "execution_count": 11,
   "metadata": {},
   "outputs": [],
   "source": [
    "# displaying our custom layer using add_layer\n",
    "from geoplotlib.utils import DataAccessObject\n"
   ]
  },
  {
   "cell_type": "markdown",
   "metadata": {},
   "source": [
    "**Note:**   \n",
    "In order to avoid any errors associated with the library, we have to convert our pandas dataframe to a geoplotlib DataAccessObject.   \n",
    "The creator of geoplotlib provides a handy interface for this conversion."
   ]
  },
  {
   "cell_type": "markdown",
   "metadata": {},
   "source": [
    "When looking at the upper right hand corner, we can clearly see the temporal aspect of this visualization.   \n",
    "The first observation we make is that our data is really sparse, we sometimes only have a single data point for a plane, seldomly a whole path is drawn.   \n",
    "\n",
    "Even though it is so sparse, we can already get a feeling about where the planes are flying most.\n",
    "\n",
    "**Note:**   \n",
    "If you're interested in what else can be achieved with this custom layer approach, there are more examples in the geoplotlib repository.   \n",
    "- https://github.com/andrea-cuttone/geoplotlib/blob/master/examples/follow_camera.py\n",
    "- https://github.com/andrea-cuttone/geoplotlib/blob/master/examples/quadtree.py\n",
    "- https://github.com/andrea-cuttone/geoplotlib/blob/master/examples/kmeans.py"
   ]
  }
 ],
 "metadata": {
  "kernelspec": {
   "display_name": "Python 3",
   "language": "python",
   "name": "python3"
  },
  "language_info": {
   "codemirror_mode": {
    "name": "ipython",
    "version": 3
   },
   "file_extension": ".py",
   "mimetype": "text/x-python",
   "name": "python",
   "nbconvert_exporter": "python",
   "pygments_lexer": "ipython3",
   "version": "3.7.0"
  }
 },
 "nbformat": 4,
 "nbformat_minor": 2
}
