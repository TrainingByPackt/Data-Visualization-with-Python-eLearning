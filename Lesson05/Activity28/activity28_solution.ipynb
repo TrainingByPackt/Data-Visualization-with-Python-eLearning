{
 "cells": [
  {
   "cell_type": "markdown",
   "metadata": {},
   "source": [
    "## Working with custom layers"
   ]
  },
  {
   "cell_type": "markdown",
   "metadata": {},
   "source": [
    "In this activity, we will take a look at how to create custom layers that allow you to not only display geo-spatial data but also animate your datapoints over time.  \n",
    "We'll get a deeper understanding of how geoplotlib works and how layers are created and drawn.\n",
    "\n",
    "Our dataset does not only contain spatial but also temporal information which enables us to plot flights over time on our map.   \n",
    "There is an example on how to do this with taxis in the examples folder of geoplotlib.   \n",
    "https://github.com/andrea-cuttone/geoplotlib/blob/master/examples/taxi.py\n",
    "\n",
    "**Note:**   \n",
    "The dataset can be found here:   \n",
    "https://datamillnorth.org/dataset/flight-tracking"
   ]
  },
  {
   "cell_type": "markdown",
   "metadata": {},
   "source": [
    "#### Loading the dataset"
   ]
  },
  {
   "cell_type": "markdown",
   "metadata": {},
   "source": [
    "This time our dataset contains flight data recorded from different machines.   \n",
    "Each entry is assigned to a unique plane through a `hex_ident`.   \n",
    "Each location is related to a specific timestamp that consists of a `date` and a `time`."
   ]
  },
  {
   "cell_type": "code",
   "execution_count": 1,
   "metadata": {},
   "outputs": [],
   "source": [
    "# importing the necessary dependencies\n",
    "import pandas as pd"
   ]
  },
  {
   "cell_type": "code",
   "execution_count": 2,
   "metadata": {},
   "outputs": [],
   "source": [
    "# loading the dataset from the csv file\n",
    "dataset = pd.read_csv('./data/flight_tracking.csv')"
   ]
  },
  {
   "cell_type": "code",
   "execution_count": 3,
   "metadata": {},
   "outputs": [
    {
     "data": {
      "text/html": [
       "<div>\n",
       "<style scoped>\n",
       "    .dataframe tbody tr th:only-of-type {\n",
       "        vertical-align: middle;\n",
       "    }\n",
       "\n",
       "    .dataframe tbody tr th {\n",
       "        vertical-align: top;\n",
       "    }\n",
       "\n",
       "    .dataframe thead th {\n",
       "        text-align: right;\n",
       "    }\n",
       "</style>\n",
       "<table border=\"1\" class=\"dataframe\">\n",
       "  <thead>\n",
       "    <tr style=\"text-align: right;\">\n",
       "      <th></th>\n",
       "      <th>hex_ident</th>\n",
       "      <th>altitude(feet)</th>\n",
       "      <th>latitude</th>\n",
       "      <th>longitude</th>\n",
       "      <th>date</th>\n",
       "      <th>time</th>\n",
       "      <th>angle</th>\n",
       "      <th>distance(nauticalmile)</th>\n",
       "      <th>squawk</th>\n",
       "      <th>ground_speed(knotph)</th>\n",
       "      <th>track</th>\n",
       "      <th>callsign</th>\n",
       "    </tr>\n",
       "  </thead>\n",
       "  <tbody>\n",
       "    <tr>\n",
       "      <th>0</th>\n",
       "      <td>40631C</td>\n",
       "      <td>14525</td>\n",
       "      <td>53.65947</td>\n",
       "      <td>-1.43819</td>\n",
       "      <td>2017/09/11</td>\n",
       "      <td>17:02:06.418</td>\n",
       "      <td>-120.77</td>\n",
       "      <td>11.27</td>\n",
       "      <td>6276.0</td>\n",
       "      <td>299.0</td>\n",
       "      <td>283.0</td>\n",
       "      <td>NaN</td>\n",
       "    </tr>\n",
       "    <tr>\n",
       "      <th>1</th>\n",
       "      <td>40631C</td>\n",
       "      <td>14525</td>\n",
       "      <td>53.65956</td>\n",
       "      <td>-1.43921</td>\n",
       "      <td>2017/09/11</td>\n",
       "      <td>17:02:06.875</td>\n",
       "      <td>-120.64</td>\n",
       "      <td>11.30</td>\n",
       "      <td>6276.0</td>\n",
       "      <td>299.0</td>\n",
       "      <td>283.0</td>\n",
       "      <td>NaN</td>\n",
       "    </tr>\n",
       "    <tr>\n",
       "      <th>2</th>\n",
       "      <td>40631C</td>\n",
       "      <td>14500</td>\n",
       "      <td>53.65979</td>\n",
       "      <td>-1.44066</td>\n",
       "      <td>2017/09/11</td>\n",
       "      <td>17:02:07.342</td>\n",
       "      <td>-120.43</td>\n",
       "      <td>11.32</td>\n",
       "      <td>6276.0</td>\n",
       "      <td>299.0</td>\n",
       "      <td>283.0</td>\n",
       "      <td>EZY63BT</td>\n",
       "    </tr>\n",
       "    <tr>\n",
       "      <th>3</th>\n",
       "      <td>40631C</td>\n",
       "      <td>14475</td>\n",
       "      <td>53.66025</td>\n",
       "      <td>-1.44447</td>\n",
       "      <td>2017/09/11</td>\n",
       "      <td>17:02:09.238</td>\n",
       "      <td>-119.94</td>\n",
       "      <td>11.40</td>\n",
       "      <td>6276.0</td>\n",
       "      <td>299.0</td>\n",
       "      <td>283.0</td>\n",
       "      <td>EZY63BT</td>\n",
       "    </tr>\n",
       "    <tr>\n",
       "      <th>4</th>\n",
       "      <td>40631C</td>\n",
       "      <td>14475</td>\n",
       "      <td>53.66044</td>\n",
       "      <td>-1.44591</td>\n",
       "      <td>2017/09/11</td>\n",
       "      <td>17:02:09.825</td>\n",
       "      <td>-119.75</td>\n",
       "      <td>11.43</td>\n",
       "      <td>6276.0</td>\n",
       "      <td>299.0</td>\n",
       "      <td>283.0</td>\n",
       "      <td>EZY63BT</td>\n",
       "    </tr>\n",
       "  </tbody>\n",
       "</table>\n",
       "</div>"
      ],
      "text/plain": [
       "  hex_ident  altitude(feet)  latitude  longitude        date          time  \\\n",
       "0    40631C           14525  53.65947   -1.43819  2017/09/11  17:02:06.418   \n",
       "1    40631C           14525  53.65956   -1.43921  2017/09/11  17:02:06.875   \n",
       "2    40631C           14500  53.65979   -1.44066  2017/09/11  17:02:07.342   \n",
       "3    40631C           14475  53.66025   -1.44447  2017/09/11  17:02:09.238   \n",
       "4    40631C           14475  53.66044   -1.44591  2017/09/11  17:02:09.825   \n",
       "\n",
       "    angle  distance(nauticalmile)  squawk  ground_speed(knotph)  track  \\\n",
       "0 -120.77                   11.27  6276.0                 299.0  283.0   \n",
       "1 -120.64                   11.30  6276.0                 299.0  283.0   \n",
       "2 -120.43                   11.32  6276.0                 299.0  283.0   \n",
       "3 -119.94                   11.40  6276.0                 299.0  283.0   \n",
       "4 -119.75                   11.43  6276.0                 299.0  283.0   \n",
       "\n",
       "   callsign  \n",
       "0       NaN  \n",
       "1       NaN  \n",
       "2  EZY63BT   \n",
       "3  EZY63BT   \n",
       "4  EZY63BT   "
      ]
     },
     "execution_count": 3,
     "metadata": {},
     "output_type": "execute_result"
    }
   ],
   "source": [
    "# displaying the first 5 rows of the dataset\n",
    "dataset.head()"
   ]
  },
  {
   "cell_type": "code",
   "execution_count": 4,
   "metadata": {},
   "outputs": [],
   "source": [
    "# renaming columns latitude to lat and longitude to lon\n",
    "dataset = dataset.rename(index=str, columns={\"latitude\": \"lat\", \"longitude\": \"lon\"})"
   ]
  },
  {
   "cell_type": "markdown",
   "metadata": {},
   "source": [
    "**Note:**   \n",
    "Remember that geoplotlib needs columns that are named `lat` and `lon`. You will encounter an error if that is not the case."
   ]
  },
  {
   "cell_type": "code",
   "execution_count": 5,
   "metadata": {},
   "outputs": [
    {
     "data": {
      "text/html": [
       "<div>\n",
       "<style scoped>\n",
       "    .dataframe tbody tr th:only-of-type {\n",
       "        vertical-align: middle;\n",
       "    }\n",
       "\n",
       "    .dataframe tbody tr th {\n",
       "        vertical-align: top;\n",
       "    }\n",
       "\n",
       "    .dataframe thead th {\n",
       "        text-align: right;\n",
       "    }\n",
       "</style>\n",
       "<table border=\"1\" class=\"dataframe\">\n",
       "  <thead>\n",
       "    <tr style=\"text-align: right;\">\n",
       "      <th></th>\n",
       "      <th>hex_ident</th>\n",
       "      <th>altitude(feet)</th>\n",
       "      <th>lat</th>\n",
       "      <th>lon</th>\n",
       "      <th>date</th>\n",
       "      <th>time</th>\n",
       "      <th>angle</th>\n",
       "      <th>distance(nauticalmile)</th>\n",
       "      <th>squawk</th>\n",
       "      <th>ground_speed(knotph)</th>\n",
       "      <th>track</th>\n",
       "      <th>callsign</th>\n",
       "    </tr>\n",
       "  </thead>\n",
       "  <tbody>\n",
       "    <tr>\n",
       "      <th>0</th>\n",
       "      <td>40631C</td>\n",
       "      <td>14525</td>\n",
       "      <td>53.65947</td>\n",
       "      <td>-1.43819</td>\n",
       "      <td>2017/09/11</td>\n",
       "      <td>17:02:06.418</td>\n",
       "      <td>-120.77</td>\n",
       "      <td>11.27</td>\n",
       "      <td>6276.0</td>\n",
       "      <td>299.0</td>\n",
       "      <td>283.0</td>\n",
       "      <td>NaN</td>\n",
       "    </tr>\n",
       "    <tr>\n",
       "      <th>1</th>\n",
       "      <td>40631C</td>\n",
       "      <td>14525</td>\n",
       "      <td>53.65956</td>\n",
       "      <td>-1.43921</td>\n",
       "      <td>2017/09/11</td>\n",
       "      <td>17:02:06.875</td>\n",
       "      <td>-120.64</td>\n",
       "      <td>11.30</td>\n",
       "      <td>6276.0</td>\n",
       "      <td>299.0</td>\n",
       "      <td>283.0</td>\n",
       "      <td>NaN</td>\n",
       "    </tr>\n",
       "    <tr>\n",
       "      <th>2</th>\n",
       "      <td>40631C</td>\n",
       "      <td>14500</td>\n",
       "      <td>53.65979</td>\n",
       "      <td>-1.44066</td>\n",
       "      <td>2017/09/11</td>\n",
       "      <td>17:02:07.342</td>\n",
       "      <td>-120.43</td>\n",
       "      <td>11.32</td>\n",
       "      <td>6276.0</td>\n",
       "      <td>299.0</td>\n",
       "      <td>283.0</td>\n",
       "      <td>EZY63BT</td>\n",
       "    </tr>\n",
       "    <tr>\n",
       "      <th>3</th>\n",
       "      <td>40631C</td>\n",
       "      <td>14475</td>\n",
       "      <td>53.66025</td>\n",
       "      <td>-1.44447</td>\n",
       "      <td>2017/09/11</td>\n",
       "      <td>17:02:09.238</td>\n",
       "      <td>-119.94</td>\n",
       "      <td>11.40</td>\n",
       "      <td>6276.0</td>\n",
       "      <td>299.0</td>\n",
       "      <td>283.0</td>\n",
       "      <td>EZY63BT</td>\n",
       "    </tr>\n",
       "    <tr>\n",
       "      <th>4</th>\n",
       "      <td>40631C</td>\n",
       "      <td>14475</td>\n",
       "      <td>53.66044</td>\n",
       "      <td>-1.44591</td>\n",
       "      <td>2017/09/11</td>\n",
       "      <td>17:02:09.825</td>\n",
       "      <td>-119.75</td>\n",
       "      <td>11.43</td>\n",
       "      <td>6276.0</td>\n",
       "      <td>299.0</td>\n",
       "      <td>283.0</td>\n",
       "      <td>EZY63BT</td>\n",
       "    </tr>\n",
       "  </tbody>\n",
       "</table>\n",
       "</div>"
      ],
      "text/plain": [
       "  hex_ident  altitude(feet)       lat      lon        date          time  \\\n",
       "0    40631C           14525  53.65947 -1.43819  2017/09/11  17:02:06.418   \n",
       "1    40631C           14525  53.65956 -1.43921  2017/09/11  17:02:06.875   \n",
       "2    40631C           14500  53.65979 -1.44066  2017/09/11  17:02:07.342   \n",
       "3    40631C           14475  53.66025 -1.44447  2017/09/11  17:02:09.238   \n",
       "4    40631C           14475  53.66044 -1.44591  2017/09/11  17:02:09.825   \n",
       "\n",
       "    angle  distance(nauticalmile)  squawk  ground_speed(knotph)  track  \\\n",
       "0 -120.77                   11.27  6276.0                 299.0  283.0   \n",
       "1 -120.64                   11.30  6276.0                 299.0  283.0   \n",
       "2 -120.43                   11.32  6276.0                 299.0  283.0   \n",
       "3 -119.94                   11.40  6276.0                 299.0  283.0   \n",
       "4 -119.75                   11.43  6276.0                 299.0  283.0   \n",
       "\n",
       "   callsign  \n",
       "0       NaN  \n",
       "1       NaN  \n",
       "2  EZY63BT   \n",
       "3  EZY63BT   \n",
       "4  EZY63BT   "
      ]
     },
     "execution_count": 5,
     "metadata": {},
     "output_type": "execute_result"
    }
   ],
   "source": [
    "# displaying the first 5 rows of the dataset\n",
    "dataset.head()"
   ]
  },
  {
   "cell_type": "markdown",
   "metadata": {},
   "source": [
    "---"
   ]
  },
  {
   "cell_type": "markdown",
   "metadata": {},
   "source": [
    "#### Adding an unix timestamp"
   ]
  },
  {
   "cell_type": "markdown",
   "metadata": {},
   "source": [
    "The easiest way to work with and handle time is to use a unix timestamp.   \n",
    "In previous activities, we've already seen how to create a new column in our dataset by applying a function to it.   \n",
    "We are using the datatime library to parse the date and time columns of our dataset and use it to create a unix timestamp."
   ]
  },
  {
   "cell_type": "code",
   "execution_count": 6,
   "metadata": {},
   "outputs": [],
   "source": [
    "# method to convert date and time to an unix timestamp\n",
    "from datetime import datetime\n",
    "\n",
    "def to_epoch(date, time):\n",
    "    try:\n",
    "        timestamp = round(datetime.strptime('{} {}'.format(date, time), '%Y/%m/%d %H:%M:%S.%f').timestamp())\n",
    "        return timestamp\n",
    "    except ValueError:\n",
    "        return round(datetime.strptime('2017/09/11 17:02:06.418', '%Y/%m/%d %H:%M:%S.%f').timestamp())"
   ]
  },
  {
   "cell_type": "code",
   "execution_count": 7,
   "metadata": {},
   "outputs": [],
   "source": [
    "# creating a new column called timestamp with the to_epoch method applied\n",
    "dataset['timestamp'] = dataset.apply(lambda x: to_epoch(x['date'], x['time']), axis=1)"
   ]
  },
  {
   "cell_type": "code",
   "execution_count": 8,
   "metadata": {},
   "outputs": [
    {
     "data": {
      "text/html": [
       "<div>\n",
       "<style scoped>\n",
       "    .dataframe tbody tr th:only-of-type {\n",
       "        vertical-align: middle;\n",
       "    }\n",
       "\n",
       "    .dataframe tbody tr th {\n",
       "        vertical-align: top;\n",
       "    }\n",
       "\n",
       "    .dataframe thead th {\n",
       "        text-align: right;\n",
       "    }\n",
       "</style>\n",
       "<table border=\"1\" class=\"dataframe\">\n",
       "  <thead>\n",
       "    <tr style=\"text-align: right;\">\n",
       "      <th></th>\n",
       "      <th>hex_ident</th>\n",
       "      <th>altitude(feet)</th>\n",
       "      <th>lat</th>\n",
       "      <th>lon</th>\n",
       "      <th>date</th>\n",
       "      <th>time</th>\n",
       "      <th>angle</th>\n",
       "      <th>distance(nauticalmile)</th>\n",
       "      <th>squawk</th>\n",
       "      <th>ground_speed(knotph)</th>\n",
       "      <th>track</th>\n",
       "      <th>callsign</th>\n",
       "      <th>timestamp</th>\n",
       "    </tr>\n",
       "  </thead>\n",
       "  <tbody>\n",
       "    <tr>\n",
       "      <th>0</th>\n",
       "      <td>40631C</td>\n",
       "      <td>14525</td>\n",
       "      <td>53.65947</td>\n",
       "      <td>-1.43819</td>\n",
       "      <td>2017/09/11</td>\n",
       "      <td>17:02:06.418</td>\n",
       "      <td>-120.77</td>\n",
       "      <td>11.27</td>\n",
       "      <td>6276.0</td>\n",
       "      <td>299.0</td>\n",
       "      <td>283.0</td>\n",
       "      <td>NaN</td>\n",
       "      <td>1505142126</td>\n",
       "    </tr>\n",
       "    <tr>\n",
       "      <th>1</th>\n",
       "      <td>40631C</td>\n",
       "      <td>14525</td>\n",
       "      <td>53.65956</td>\n",
       "      <td>-1.43921</td>\n",
       "      <td>2017/09/11</td>\n",
       "      <td>17:02:06.875</td>\n",
       "      <td>-120.64</td>\n",
       "      <td>11.30</td>\n",
       "      <td>6276.0</td>\n",
       "      <td>299.0</td>\n",
       "      <td>283.0</td>\n",
       "      <td>NaN</td>\n",
       "      <td>1505142127</td>\n",
       "    </tr>\n",
       "    <tr>\n",
       "      <th>2</th>\n",
       "      <td>40631C</td>\n",
       "      <td>14500</td>\n",
       "      <td>53.65979</td>\n",
       "      <td>-1.44066</td>\n",
       "      <td>2017/09/11</td>\n",
       "      <td>17:02:07.342</td>\n",
       "      <td>-120.43</td>\n",
       "      <td>11.32</td>\n",
       "      <td>6276.0</td>\n",
       "      <td>299.0</td>\n",
       "      <td>283.0</td>\n",
       "      <td>EZY63BT</td>\n",
       "      <td>1505142127</td>\n",
       "    </tr>\n",
       "    <tr>\n",
       "      <th>3</th>\n",
       "      <td>40631C</td>\n",
       "      <td>14475</td>\n",
       "      <td>53.66025</td>\n",
       "      <td>-1.44447</td>\n",
       "      <td>2017/09/11</td>\n",
       "      <td>17:02:09.238</td>\n",
       "      <td>-119.94</td>\n",
       "      <td>11.40</td>\n",
       "      <td>6276.0</td>\n",
       "      <td>299.0</td>\n",
       "      <td>283.0</td>\n",
       "      <td>EZY63BT</td>\n",
       "      <td>1505142129</td>\n",
       "    </tr>\n",
       "    <tr>\n",
       "      <th>4</th>\n",
       "      <td>40631C</td>\n",
       "      <td>14475</td>\n",
       "      <td>53.66044</td>\n",
       "      <td>-1.44591</td>\n",
       "      <td>2017/09/11</td>\n",
       "      <td>17:02:09.825</td>\n",
       "      <td>-119.75</td>\n",
       "      <td>11.43</td>\n",
       "      <td>6276.0</td>\n",
       "      <td>299.0</td>\n",
       "      <td>283.0</td>\n",
       "      <td>EZY63BT</td>\n",
       "      <td>1505142130</td>\n",
       "    </tr>\n",
       "  </tbody>\n",
       "</table>\n",
       "</div>"
      ],
      "text/plain": [
       "  hex_ident  altitude(feet)       lat      lon        date          time  \\\n",
       "0    40631C           14525  53.65947 -1.43819  2017/09/11  17:02:06.418   \n",
       "1    40631C           14525  53.65956 -1.43921  2017/09/11  17:02:06.875   \n",
       "2    40631C           14500  53.65979 -1.44066  2017/09/11  17:02:07.342   \n",
       "3    40631C           14475  53.66025 -1.44447  2017/09/11  17:02:09.238   \n",
       "4    40631C           14475  53.66044 -1.44591  2017/09/11  17:02:09.825   \n",
       "\n",
       "    angle  distance(nauticalmile)  squawk  ground_speed(knotph)  track  \\\n",
       "0 -120.77                   11.27  6276.0                 299.0  283.0   \n",
       "1 -120.64                   11.30  6276.0                 299.0  283.0   \n",
       "2 -120.43                   11.32  6276.0                 299.0  283.0   \n",
       "3 -119.94                   11.40  6276.0                 299.0  283.0   \n",
       "4 -119.75                   11.43  6276.0                 299.0  283.0   \n",
       "\n",
       "   callsign   timestamp  \n",
       "0       NaN  1505142126  \n",
       "1       NaN  1505142127  \n",
       "2  EZY63BT   1505142127  \n",
       "3  EZY63BT   1505142129  \n",
       "4  EZY63BT   1505142130  "
      ]
     },
     "execution_count": 8,
     "metadata": {},
     "output_type": "execute_result"
    }
   ],
   "source": [
    "# displaying the first 5 rows of the dataset\n",
    "dataset.head()"
   ]
  },
  {
   "cell_type": "markdown",
   "metadata": {},
   "source": [
    "**Note:**   \n",
    "We round up the miliseconds in our `to_epoch` method since epoch is the number of seconds (not miliseconds) that have passes since January 1st 1970.   \n",
    "Of course we loose some precision here, but we want to focus on creating our own custom layer instead of wasting a lot of time with our dataset."
   ]
  },
  {
   "cell_type": "markdown",
   "metadata": {},
   "source": [
    "---"
   ]
  },
  {
   "cell_type": "markdown",
   "metadata": {},
   "source": [
    "#### Writing our custom layer"
   ]
  },
  {
   "cell_type": "markdown",
   "metadata": {},
   "source": [
    "After preparing our dataset, we can now start writing our custom layer.   \n",
    "As mentioned at the beginning of this activity, it will be based on the taxi example of geoplotlib.   \n",
    "\n",
    "We want to have a layer `TrackLayer` that takes an argument dataset which contains `lat` and `lon` data in combination with a `timestamp`.   \n",
    "Given this data, we want to plot each point for each timestamp on the map, creating a tail behind the newest position of the plane.\n",
    "The geoplotlib colorbrewer is used to give each plane a color based on their unique `hex_ident`.   \n",
    "The view (bounding box) of our visualization will be set to the city Leeds and a text information with the current timestamp is displayed in the upper right corner."
   ]
  },
  {
   "cell_type": "code",
   "execution_count": 9,
   "metadata": {},
   "outputs": [],
   "source": [
    "# custom layer creation\n",
    "import geoplotlib\n",
    "from geoplotlib.layers import BaseLayer\n",
    "from geoplotlib.core import BatchPainter\n",
    "from geoplotlib.colors import colorbrewer\n",
    "from geoplotlib.utils import epoch_to_str, BoundingBox\n",
    "\n",
    "class TrackLayer(BaseLayer):\n",
    "\n",
    "    def __init__(self, dataset, bbox=BoundingBox.WORLD):\n",
    "        self.data = dataset\n",
    "        self.cmap = colorbrewer(self.data['hex_ident'], alpha=200)\n",
    "        self.time = self.data['timestamp'].min()\n",
    "        self.painter = BatchPainter()\n",
    "        self.view = bbox\n",
    "\n",
    "\n",
    "    def draw(self, proj, mouse_x, mouse_y, ui_manager):\n",
    "        self.painter = BatchPainter()\n",
    "        df = self.data.where((self.data['timestamp'] > self.time) & (self.data['timestamp'] <= self.time + 180))\n",
    "\n",
    "        for element in set(df['hex_ident']):\n",
    "            grp = df.where(df['hex_ident'] == element)\n",
    "            self.painter.set_color(self.cmap[element])\n",
    "            x, y = proj.lonlat_to_screen(grp['lon'], grp['lat'])\n",
    "            self.painter.points(x, y, 15, rounded=True)\n",
    "\n",
    "        self.time += 1\n",
    "\n",
    "        if self.time > self.data['timestamp'].max():\n",
    "            self.time = self.data['timestamp'].min()\n",
    "\n",
    "        self.painter.batch_draw()\n",
    "        ui_manager.info('Current timestamp: {}'.format(epoch_to_str(self.time)))\n",
    "        \n",
    "    # bounding box that gets used when layer is created\n",
    "    def bbox(self):\n",
    "        return self.view"
   ]
  },
  {
   "cell_type": "markdown",
   "metadata": {},
   "source": [
    "---"
   ]
  },
  {
   "cell_type": "markdown",
   "metadata": {},
   "source": [
    "#### Visualization with of the custom layer"
   ]
  },
  {
   "cell_type": "markdown",
   "metadata": {},
   "source": [
    "After creating the custom layer, using it is as simple as using any other layer in geoplotlib.   \n",
    "We can use the `add_layer` method and pass in our custom layer class with the parameters needed."
   ]
  },
  {
   "cell_type": "markdown",
   "metadata": {},
   "source": [
    "Our data is focused on the UK and specifically Leeds.   \n",
    "So we want to adjust our bounding box to exactly this area."
   ]
  },
  {
   "cell_type": "code",
   "execution_count": 10,
   "metadata": {},
   "outputs": [],
   "source": [
    "# bounding box for our view on leeds\n",
    "from geoplotlib.utils import BoundingBox\n",
    "\n",
    "leeds_bbox = BoundingBox(north=53.8074, west=-3, south=53.7074 , east=0)"
   ]
  },
  {
   "cell_type": "code",
   "execution_count": 11,
   "metadata": {},
   "outputs": [],
   "source": [
    "# displaying our custom layer using add_layer\n",
    "from geoplotlib.utils import DataAccessObject\n",
    "\n",
    "data = DataAccessObject(dataset)\n",
    "\n",
    "geoplotlib.add_layer(TrackLayer(data, bbox=leeds_bbox))\n",
    "geoplotlib.show()"
   ]
  },
  {
   "cell_type": "markdown",
   "metadata": {},
   "source": [
    "**Note:**   \n",
    "In order to avoid any errors associated with the library, we have to convert our pandas dataframe to a geoplotlib DataAccessObject.   \n",
    "The creator of geoplotlib provides a handy interface for this conversion."
   ]
  },
  {
   "cell_type": "markdown",
   "metadata": {},
   "source": [
    "When looking at the upper right hand corner, we can clearly see the temporal aspect of this visualization.   \n",
    "The first observation we make is that our data is really sparse, we sometimes only have a single data point for a plane, seldomly a whole path is drawn.   \n",
    "\n",
    "Even though it is so sparse, we can already get a feeling about where the planes are flying most.\n",
    "\n",
    "**Note:**   \n",
    "If you're interested in what else can be achieved with this custom layer approach, there are more examples in the geoplotlib repository.   \n",
    "- https://github.com/andrea-cuttone/geoplotlib/blob/master/examples/follow_camera.py\n",
    "- https://github.com/andrea-cuttone/geoplotlib/blob/master/examples/quadtree.py\n",
    "- https://github.com/andrea-cuttone/geoplotlib/blob/master/examples/kmeans.py"
   ]
  }
 ],
 "metadata": {
  "kernelspec": {
   "display_name": "Python 3",
   "language": "python",
   "name": "python3"
  },
  "language_info": {
   "codemirror_mode": {
    "name": "ipython",
    "version": 3
   },
   "file_extension": ".py",
   "mimetype": "text/x-python",
   "name": "python",
   "nbconvert_exporter": "python",
   "pygments_lexer": "ipython3",
   "version": "3.7.0"
  }
 },
 "nbformat": 4,
 "nbformat_minor": 2
}
