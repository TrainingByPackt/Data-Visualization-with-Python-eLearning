{
 "cells": [
  {
   "cell_type": "markdown",
   "metadata": {},
   "source": [
    "## Analyzing Airbnb Data with geoplotlib"
   ]
  },
  {
   "cell_type": "markdown",
   "metadata": {},
   "source": [
    "In this last activity for geoplotlib, we will use airbnb listing data to determine the most expensive and best rated regions of accomodations in the New York area.   \n",
    "We will write a custom layer with which we can switch between the price and the review score of each accomodation.   \n",
    "\n",
    "In the end, we will be able to see the hostpots for the most expensive and best rated accomodations across New York.   \n",
    "In theory, we should see a price increase the closer we get to the center of Manhatten. It will be very interesting to see if the ratings for the given accomodations also increase the closer we get to the center of Manhatten."
   ]
  },
  {
   "cell_type": "markdown",
   "metadata": {},
   "source": [
    "#### Loading the dataset"
   ]
  },
  {
   "cell_type": "code",
   "execution_count": 1,
   "metadata": {},
   "outputs": [],
   "source": [
    "# importing the necessary dependencies\n",
    "import numpy as np\n",
    "import pandas as pd\n",
    "import geoplotlib"
   ]
  },
  {
   "cell_type": "markdown",
   "metadata": {},
   "source": [
    "**Note:**    \n",
    "If your system is a little bit slower, just use `./data/airbnb_new_york_smaller.csv` which has fewer datapoints. The activity stays the same, we just cut down on the number of datapoints."
   ]
  },
  {
   "cell_type": "code",
   "execution_count": 2,
   "metadata": {},
   "outputs": [
    {
     "name": "stderr",
     "output_type": "stream",
     "text": [
      "/Users/TG/anaconda3/lib/python3.7/site-packages/IPython/core/interactiveshell.py:2785: DtypeWarning: Columns (61,87,88) have mixed types. Specify dtype option on import or set low_memory=False.\n",
      "  interactivity=interactivity, compiler=compiler, result=result)\n"
     ]
    }
   ],
   "source": [
    "# loading the Dataset\n",
    "dataset = pd.read_csv('./data/airbnb_new_york.csv')\n",
    "# dataset = pd.read_csv('./data/airbnb_new_york_smaller.csv')"
   ]
  },
  {
   "cell_type": "markdown",
   "metadata": {},
   "source": [
    "**Note:**   \n",
    "If we import our dataset without defining the `dtypes` specifically - like we did in the chapter about geoplotlib - we will get a warning telling out the it has a mixed datatype.   \n",
    "We can get rid of this warning by explicitly defining the type of the values in this column by using the `dtype` parameter.   \n",
    "We will ignore this since we are only using a small subset of the data in this dataset.   \n",
    "Normally you want to define the `dtypes` of each column of the used dataset to avoid errors later on."
   ]
  },
  {
   "cell_type": "code",
   "execution_count": 3,
   "metadata": {},
   "outputs": [
    {
     "data": {
      "text/html": [
       "<div>\n",
       "<style scoped>\n",
       "    .dataframe tbody tr th:only-of-type {\n",
       "        vertical-align: middle;\n",
       "    }\n",
       "\n",
       "    .dataframe tbody tr th {\n",
       "        vertical-align: top;\n",
       "    }\n",
       "\n",
       "    .dataframe thead th {\n",
       "        text-align: right;\n",
       "    }\n",
       "</style>\n",
       "<table border=\"1\" class=\"dataframe\">\n",
       "  <thead>\n",
       "    <tr style=\"text-align: right;\">\n",
       "      <th></th>\n",
       "      <th>id</th>\n",
       "      <th>listing_url</th>\n",
       "      <th>scrape_id</th>\n",
       "      <th>last_scraped</th>\n",
       "      <th>name</th>\n",
       "      <th>summary</th>\n",
       "      <th>space</th>\n",
       "      <th>description</th>\n",
       "      <th>experiences_offered</th>\n",
       "      <th>neighborhood_overview</th>\n",
       "      <th>...</th>\n",
       "      <th>requires_license</th>\n",
       "      <th>license</th>\n",
       "      <th>jurisdiction_names</th>\n",
       "      <th>instant_bookable</th>\n",
       "      <th>is_business_travel_ready</th>\n",
       "      <th>cancellation_policy</th>\n",
       "      <th>require_guest_profile_picture</th>\n",
       "      <th>require_guest_phone_verification</th>\n",
       "      <th>calculated_host_listings_count</th>\n",
       "      <th>reviews_per_month</th>\n",
       "    </tr>\n",
       "  </thead>\n",
       "  <tbody>\n",
       "    <tr>\n",
       "      <th>0</th>\n",
       "      <td>2515</td>\n",
       "      <td>https://www.airbnb.com/rooms/2515</td>\n",
       "      <td>20181206022948</td>\n",
       "      <td>2018-12-06</td>\n",
       "      <td>Stay at Chez Chic budget room #1</td>\n",
       "      <td>Step into our artistic spacious apartment and ...</td>\n",
       "      <td>-PLEASE BOOK DIRECTLY. NO NEED TO SEND A REQUE...</td>\n",
       "      <td>Step into our artistic spacious apartment and ...</td>\n",
       "      <td>none</td>\n",
       "      <td>NaN</td>\n",
       "      <td>...</td>\n",
       "      <td>f</td>\n",
       "      <td>NaN</td>\n",
       "      <td>NaN</td>\n",
       "      <td>f</td>\n",
       "      <td>f</td>\n",
       "      <td>strict_14_with_grace_period</td>\n",
       "      <td>f</td>\n",
       "      <td>f</td>\n",
       "      <td>3</td>\n",
       "      <td>1.42</td>\n",
       "    </tr>\n",
       "    <tr>\n",
       "      <th>1</th>\n",
       "      <td>21456</td>\n",
       "      <td>https://www.airbnb.com/rooms/21456</td>\n",
       "      <td>20181206022948</td>\n",
       "      <td>2018-12-06</td>\n",
       "      <td>Light-filled classic Central Park</td>\n",
       "      <td>An adorable, classic, clean, light-filled one-...</td>\n",
       "      <td>An adorable, classic, clean, light-filled one-...</td>\n",
       "      <td>An adorable, classic, clean, light-filled one-...</td>\n",
       "      <td>none</td>\n",
       "      <td>Diverse. Great coffee shops and restaurants, n...</td>\n",
       "      <td>...</td>\n",
       "      <td>f</td>\n",
       "      <td>NaN</td>\n",
       "      <td>NaN</td>\n",
       "      <td>f</td>\n",
       "      <td>f</td>\n",
       "      <td>moderate</td>\n",
       "      <td>t</td>\n",
       "      <td>t</td>\n",
       "      <td>1</td>\n",
       "      <td>0.72</td>\n",
       "    </tr>\n",
       "    <tr>\n",
       "      <th>2</th>\n",
       "      <td>2539</td>\n",
       "      <td>https://www.airbnb.com/rooms/2539</td>\n",
       "      <td>20181206022948</td>\n",
       "      <td>2018-12-06</td>\n",
       "      <td>Clean &amp; quiet apt home by the park</td>\n",
       "      <td>Renovated apt home in elevator building.</td>\n",
       "      <td>Spacious, renovated, and clean apt home, one b...</td>\n",
       "      <td>Renovated apt home in elevator building. Spaci...</td>\n",
       "      <td>none</td>\n",
       "      <td>Close to Prospect Park and Historic Ditmas Park</td>\n",
       "      <td>...</td>\n",
       "      <td>f</td>\n",
       "      <td>NaN</td>\n",
       "      <td>NaN</td>\n",
       "      <td>f</td>\n",
       "      <td>f</td>\n",
       "      <td>moderate</td>\n",
       "      <td>f</td>\n",
       "      <td>f</td>\n",
       "      <td>8</td>\n",
       "      <td>0.25</td>\n",
       "    </tr>\n",
       "    <tr>\n",
       "      <th>3</th>\n",
       "      <td>2595</td>\n",
       "      <td>https://www.airbnb.com/rooms/2595</td>\n",
       "      <td>20181206022948</td>\n",
       "      <td>2018-12-06</td>\n",
       "      <td>Skylit Midtown Castle</td>\n",
       "      <td>Find your romantic getaway to this beautiful, ...</td>\n",
       "      <td>- Spacious (500+ft²), immaculate and nicely fu...</td>\n",
       "      <td>Find your romantic getaway to this beautiful, ...</td>\n",
       "      <td>none</td>\n",
       "      <td>Centrally located in the heart of Manhattan ju...</td>\n",
       "      <td>...</td>\n",
       "      <td>f</td>\n",
       "      <td>NaN</td>\n",
       "      <td>NaN</td>\n",
       "      <td>f</td>\n",
       "      <td>f</td>\n",
       "      <td>strict_14_with_grace_period</td>\n",
       "      <td>t</td>\n",
       "      <td>t</td>\n",
       "      <td>2</td>\n",
       "      <td>0.37</td>\n",
       "    </tr>\n",
       "    <tr>\n",
       "      <th>4</th>\n",
       "      <td>21644</td>\n",
       "      <td>https://www.airbnb.com/rooms/21644</td>\n",
       "      <td>20181206022948</td>\n",
       "      <td>2018-12-06</td>\n",
       "      <td>Upper Manhattan, New York</td>\n",
       "      <td>A great space in a beautiful neighborhood- min...</td>\n",
       "      <td>Nice room in a spacious pre-war apartment in u...</td>\n",
       "      <td>A great space in a beautiful neighborhood- min...</td>\n",
       "      <td>none</td>\n",
       "      <td>I love that the neighborhood is safe to walk a...</td>\n",
       "      <td>...</td>\n",
       "      <td>f</td>\n",
       "      <td>NaN</td>\n",
       "      <td>NaN</td>\n",
       "      <td>f</td>\n",
       "      <td>f</td>\n",
       "      <td>strict_14_with_grace_period</td>\n",
       "      <td>f</td>\n",
       "      <td>f</td>\n",
       "      <td>1</td>\n",
       "      <td>0.51</td>\n",
       "    </tr>\n",
       "  </tbody>\n",
       "</table>\n",
       "<p>5 rows × 96 columns</p>\n",
       "</div>"
      ],
      "text/plain": [
       "      id                         listing_url       scrape_id last_scraped  \\\n",
       "0   2515   https://www.airbnb.com/rooms/2515  20181206022948   2018-12-06   \n",
       "1  21456  https://www.airbnb.com/rooms/21456  20181206022948   2018-12-06   \n",
       "2   2539   https://www.airbnb.com/rooms/2539  20181206022948   2018-12-06   \n",
       "3   2595   https://www.airbnb.com/rooms/2595  20181206022948   2018-12-06   \n",
       "4  21644  https://www.airbnb.com/rooms/21644  20181206022948   2018-12-06   \n",
       "\n",
       "                                 name  \\\n",
       "0    Stay at Chez Chic budget room #1   \n",
       "1  Light-filled classic Central Park    \n",
       "2  Clean & quiet apt home by the park   \n",
       "3               Skylit Midtown Castle   \n",
       "4           Upper Manhattan, New York   \n",
       "\n",
       "                                             summary  \\\n",
       "0  Step into our artistic spacious apartment and ...   \n",
       "1  An adorable, classic, clean, light-filled one-...   \n",
       "2           Renovated apt home in elevator building.   \n",
       "3  Find your romantic getaway to this beautiful, ...   \n",
       "4  A great space in a beautiful neighborhood- min...   \n",
       "\n",
       "                                               space  \\\n",
       "0  -PLEASE BOOK DIRECTLY. NO NEED TO SEND A REQUE...   \n",
       "1  An adorable, classic, clean, light-filled one-...   \n",
       "2  Spacious, renovated, and clean apt home, one b...   \n",
       "3  - Spacious (500+ft²), immaculate and nicely fu...   \n",
       "4  Nice room in a spacious pre-war apartment in u...   \n",
       "\n",
       "                                         description experiences_offered  \\\n",
       "0  Step into our artistic spacious apartment and ...                none   \n",
       "1  An adorable, classic, clean, light-filled one-...                none   \n",
       "2  Renovated apt home in elevator building. Spaci...                none   \n",
       "3  Find your romantic getaway to this beautiful, ...                none   \n",
       "4  A great space in a beautiful neighborhood- min...                none   \n",
       "\n",
       "                               neighborhood_overview        ...          \\\n",
       "0                                                NaN        ...           \n",
       "1  Diverse. Great coffee shops and restaurants, n...        ...           \n",
       "2    Close to Prospect Park and Historic Ditmas Park        ...           \n",
       "3  Centrally located in the heart of Manhattan ju...        ...           \n",
       "4  I love that the neighborhood is safe to walk a...        ...           \n",
       "\n",
       "  requires_license license jurisdiction_names instant_bookable  \\\n",
       "0                f     NaN                NaN                f   \n",
       "1                f     NaN                NaN                f   \n",
       "2                f     NaN                NaN                f   \n",
       "3                f     NaN                NaN                f   \n",
       "4                f     NaN                NaN                f   \n",
       "\n",
       "  is_business_travel_ready          cancellation_policy  \\\n",
       "0                        f  strict_14_with_grace_period   \n",
       "1                        f                     moderate   \n",
       "2                        f                     moderate   \n",
       "3                        f  strict_14_with_grace_period   \n",
       "4                        f  strict_14_with_grace_period   \n",
       "\n",
       "   require_guest_profile_picture require_guest_phone_verification  \\\n",
       "0                              f                                f   \n",
       "1                              t                                t   \n",
       "2                              f                                f   \n",
       "3                              t                                t   \n",
       "4                              f                                f   \n",
       "\n",
       "   calculated_host_listings_count  reviews_per_month  \n",
       "0                               3               1.42  \n",
       "1                               1               0.72  \n",
       "2                               8               0.25  \n",
       "3                               2               0.37  \n",
       "4                               1               0.51  \n",
       "\n",
       "[5 rows x 96 columns]"
      ]
     },
     "execution_count": 3,
     "metadata": {},
     "output_type": "execute_result"
    }
   ],
   "source": [
    "# print the first 5 rows of the dataset\n",
    "dataset.head()"
   ]
  },
  {
   "cell_type": "markdown",
   "metadata": {},
   "source": [
    "---"
   ]
  },
  {
   "cell_type": "markdown",
   "metadata": {},
   "source": [
    "### Data handling "
   ]
  },
  {
   "cell_type": "markdown",
   "metadata": {},
   "source": [
    "Before we start plotting our data, we want to *wrangle* our data to fit our needs.   \n",
    "As with all the previous geoplitlib exercises and activites, we have to map the `latitude` and `longitude` columns to `lat` and `lon`.\n",
    "\n",
    "Considering the fact, that there might be some missing data points in the `review_scores_rating` and `price` columns, we want to fill them in with data of the same datatype.   \n",
    "> This is where you would want to apply some data augmentation in real projects.\n",
    "\n",
    "The last step of our pre-processing is to create a sub-section view of our dataset that is much easier to handle and will be used for plotting."
   ]
  },
  {
   "cell_type": "markdown",
   "metadata": {},
   "source": [
    "#### Mapping `Latitude` and `Longitude` to `lat` and `lon`"
   ]
  },
  {
   "cell_type": "markdown",
   "metadata": {},
   "source": [
    "Again, our dataset has a `latitiude` and a `longitude` column.   \n",
    "As we've already discussed in the lesson about geoplotlib, we need them as `lat` and `lon`."
   ]
  },
  {
   "cell_type": "code",
   "execution_count": 4,
   "metadata": {},
   "outputs": [],
   "source": [
    "# mapping Latitude to lat and Longitude to lon\n",
    "dataset['lat'] = dataset['latitude']\n",
    "dataset['lon'] = dataset['longitude']"
   ]
  },
  {
   "cell_type": "markdown",
   "metadata": {},
   "source": [
    "**Note:**   \n",
    "Geoplotlibs methods expect dataset columns `lat` and `lon` for plotting. This means your dataframe has to be tranfsormed to resemble this structure.   "
   ]
  },
  {
   "cell_type": "markdown",
   "metadata": {},
   "source": [
    "#### Mapping `price` to `dollar_price` as int type"
   ]
  },
  {
   "cell_type": "markdown",
   "metadata": {},
   "source": [
    "When creating a color map that changes color based on the price of an accommodation, we need a value that can easily be compared and checked whether it's smaller or bigger than any other listing.   \n",
    "Therefore we will create a new column called `dollar_price` that will hold the value of the `price` column as a float."
   ]
  },
  {
   "cell_type": "code",
   "execution_count": 5,
   "metadata": {},
   "outputs": [],
   "source": [
    "# convert string of type $<numbers> to <nubmers> of type float\n",
    "def convert_to_float(x):\n",
    "    try:\n",
    "        value=str.replace(x[1:], ',', '')\n",
    "        return float(value)\n",
    "    except:\n",
    "        return 0.0"
   ]
  },
  {
   "cell_type": "code",
   "execution_count": 6,
   "metadata": {},
   "outputs": [],
   "source": [
    "# create new dollar_price column with the price as a number\n",
    "# and replace the NaN values by 0 in the ratings column\n",
    "dataset['price'] = dataset['price'].fillna('$0.0')\n",
    "dataset['review_scores_rating'] = dataset['review_scores_rating'].fillna(0.0)\n",
    "\n",
    "dataset['dollar_price'] = dataset['price'].apply(lambda x: convert_to_float(x))"
   ]
  },
  {
   "cell_type": "markdown",
   "metadata": {},
   "source": [
    "#### Reducing the amount of columns"
   ]
  },
  {
   "cell_type": "markdown",
   "metadata": {},
   "source": [
    "This dataset has 96 columns. When working with such a huge dataset it makes sense to think about what data we really need and create a subsection of our dataset that only holds the data we need.   \n",
    "Before we can do that , we'll take a look at all the columns available and an example for that column. This will help us decide what information is suitable."
   ]
  },
  {
   "cell_type": "code",
   "execution_count": 7,
   "metadata": {},
   "outputs": [
    {
     "name": "stdout",
     "output_type": "stream",
     "text": [
      "id\t2515\n",
      "listing_url\thttps://www.airbnb.com/rooms/2515\n",
      "scrape_id\t20181206022948\n",
      "last_scraped\t2018-12-06\n",
      "name\tStay at Chez Chic budget room #1\n",
      "summary\tStep into our artistic spacious apartment and enjoy your artistic Guest room with original artwork from NY artists. Shared with my little family however we often out and you won't see us much. across the street from Central Park - the busy city minutes away but sleeping in quiet at night!\n",
      "space\t-PLEASE BOOK DIRECTLY. NO NEED TO SEND A REQUEST FOR DATES> CALENDAR IS UP TO DATE> ALL AIRBNB RESERVATIONS WILL BE HONORED> Nice, comfortable, and clean private guest room with shared bathroom (2 people max) - full size bed. In very nice apartment on central Park North 4th floor walk-up. same place as Chez chic #2, max capacity of the rooms 2 people). You will share the apt with me and my little family. Daily cleaning in common areas. Located one block from Subway 2/3,B/C on 110th street, Bus M1,2,3,4 at the corner, central park across the street.  Your room: full size bed (sleeps two), desk, Digital Tv/DVD, wifi internet, A/C, closet and desk. Sheets/Towels provided. Iron/air dryer provided. Separate Full bathroom shared with guestroom room #2. Access to the Kitchen from 8AM weekdays or anytime during the weekend and light cooking, access to kitchen at all times but no cooking in the evening.  The apartment: spacious newly renovated, hardwood floors,3BD, 2Bath apartment with Living r\n",
      "description\tStep into our artistic spacious apartment and enjoy your artistic Guest room with original artwork from NY artists. Shared with my little family however we often out and you won't see us much. across the street from Central Park - the busy city minutes away but sleeping in quiet at night! -PLEASE BOOK DIRECTLY. NO NEED TO SEND A REQUEST FOR DATES> CALENDAR IS UP TO DATE> ALL AIRBNB RESERVATIONS WILL BE HONORED> Nice, comfortable, and clean private guest room with shared bathroom (2 people max) - full size bed. In very nice apartment on central Park North 4th floor walk-up. same place as Chez chic #2, max capacity of the rooms 2 people). You will share the apt with me and my little family. Daily cleaning in common areas. Located one block from Subway 2/3,B/C on 110th street, Bus M1,2,3,4 at the corner, central park across the street.  Your room: full size bed (sleeps two), desk, Digital Tv/DVD, wifi internet, A/C, closet and desk. Sheets/Towels provided. Iron/air dryer provided. Separat\n",
      "experiences_offered\tnone\n",
      "neighborhood_overview\tnan\n",
      "notes\tPlease no cooking at night but you can warm up food in the microwave and use the kitchen \n",
      "transit\tSubway 2.3.B.C. at 110th street around the corner and bus M.2.3.4 at the corner\n",
      "access\tGuests will have their PRIVATE BATHROOM (NOTE: Shared between June 22-Aug 22) (shared with 2nd guestroom if there are guests), and the kitchen\n",
      "interaction\tWe will have a list of Harlem restaurants and points of interest ready for you, as well as a subway map of NYC and pratical infos.\n",
      "house_rules\tno-smoking/please take off your shoes: cleaning fees $40\n",
      "thumbnail_url\tnan\n",
      "medium_url\tnan\n",
      "picture_url\thttps://a0.muscache.com/im/pictures/d0489e42-4333-4360-911f-413d503fe146.jpg?aki_policy=large\n",
      "xl_picture_url\tnan\n",
      "host_id\t2758\n",
      "host_url\thttps://www.airbnb.com/users/show/2758\n",
      "host_name\tSteph\n",
      "host_since\t2008-09-06\n",
      "host_location\tNew York, New York, United States\n",
      "host_about\t loves to host and welcome travelers from around the world in our family Apt.\n",
      "host_response_time\twithin a few hours\n",
      "host_response_rate\t70%\n",
      "host_acceptance_rate\tnan\n",
      "host_is_superhost\tt\n",
      "host_thumbnail_url\thttps://a0.muscache.com/im/users/2758/profile_pic/1338267836/original.jpg?aki_policy=profile_small\n",
      "host_picture_url\thttps://a0.muscache.com/im/users/2758/profile_pic/1338267836/original.jpg?aki_policy=profile_x_medium\n",
      "host_neighbourhood\tHarlem\n",
      "host_listings_count\t3.0\n",
      "host_total_listings_count\t3.0\n",
      "host_verifications\t['email', 'phone', 'facebook', 'reviews', 'jumio', 'offline_government_id', 'government_id']\n",
      "host_has_profile_pic\tt\n",
      "host_identity_verified\tt\n",
      "street\tNew York, NY, United States\n",
      "neighbourhood\tHarlem\n",
      "neighbourhood_cleansed\tHarlem\n",
      "neighbourhood_group_cleansed\tManhattan\n",
      "city\tNew York\n",
      "state\tNY\n",
      "zipcode\t10026\n",
      "market\tNew York\n",
      "smart_location\tNew York, NY\n",
      "country_code\tUS\n",
      "country\tUnited States\n",
      "latitude\t40.79920479936168\n",
      "longitude\t-73.95367574543542\n",
      "is_location_exact\tt\n",
      "property_type\tApartment\n",
      "room_type\tPrivate room\n",
      "accommodates\t3\n",
      "bathrooms\t1.0\n",
      "bedrooms\t1.0\n",
      "beds\t2.0\n",
      "bed_type\tReal Bed\n",
      "amenities\t{TV,\"Cable TV\",Internet,Wifi,\"Air conditioning\",Kitchen,\"Free street parking\",\"Buzzer/wireless intercom\",Heating,\"Family/kid friendly\",\"Smoke detector\",\"Carbon monoxide detector\",\"Fire extinguisher\",Essentials,Shampoo,\"Lock on bedroom door\",Hangers,\"Hair dryer\",Iron,\"Laptop friendly workspace\",\"Children’s books and toys\",\"Window guards\",\"Pack ’n Play/travel crib\",\"Hot water\",Microwave,\"Coffee maker\",Refrigerator,\"Dishes and silverware\",\"Cooking basics\",Oven,Stove,\"Host greets you\"}\n",
      "square_feet\tnan\n",
      "price\t$59.00\n",
      "weekly_price\t$720.00\n",
      "monthly_price\t$1,690.00\n",
      "security_deposit\t$0.00\n",
      "cleaning_fee\t$60.00\n",
      "guests_included\t2\n",
      "extra_people\t$39.00\n",
      "minimum_nights\t2\n",
      "maximum_nights\t21\n",
      "calendar_updated\ttoday\n",
      "has_availability\tt\n",
      "availability_30\t3\n",
      "availability_60\t12\n",
      "availability_90\t23\n",
      "availability_365\t298\n",
      "calendar_last_scraped\t2018-12-06\n",
      "number_of_reviews\t175\n",
      "first_review\t2008-10-13\n",
      "last_review\t2018-11-18\n",
      "review_scores_rating\t93.0\n",
      "review_scores_accuracy\t9.0\n",
      "review_scores_cleanliness\t9.0\n",
      "review_scores_checkin\t10.0\n",
      "review_scores_communication\t9.0\n",
      "review_scores_location\t9.0\n",
      "review_scores_value\t9.0\n",
      "requires_license\tf\n",
      "license\tnan\n",
      "jurisdiction_names\tnan\n",
      "instant_bookable\tf\n",
      "is_business_travel_ready\tf\n",
      "cancellation_policy\tstrict_14_with_grace_period\n",
      "require_guest_profile_picture\tf\n",
      "require_guest_phone_verification\tf\n",
      "calculated_host_listings_count\t3\n",
      "reviews_per_month\t1.42\n",
      "lat\t40.79920479936168\n",
      "lon\t-73.95367574543542\n",
      "dollar_price\t59.0\n"
     ]
    }
   ],
   "source": [
    "# print the col name and the first entry per column\n",
    "for col in dataset.columns:\n",
    "    print('{}\\t{}'.format(col, dataset[col][0]))"
   ]
  },
  {
   "cell_type": "markdown",
   "metadata": {},
   "source": [
    "For now, we want to **only use the fields that help us build the described visualization**.   \n",
    "\n",
    "Those fields are:\n",
    "- **id**\n",
    "- **latitude (as lat)**\n",
    "- **longitude (as lon)**\n",
    "- **price (in $)**\n",
    "- **review_scores_rating**"
   ]
  },
  {
   "cell_type": "code",
   "execution_count": 8,
   "metadata": {},
   "outputs": [],
   "source": [
    "# create a subsection of the dataset with the above mentioned columns\n",
    "columns=['id', 'lat', 'lon', 'dollar_price', 'review_scores_rating']\n",
    "sub_data=dataset[columns]"
   ]
  },
  {
   "cell_type": "code",
   "execution_count": 9,
   "metadata": {},
   "outputs": [
    {
     "data": {
      "text/html": [
       "<div>\n",
       "<style scoped>\n",
       "    .dataframe tbody tr th:only-of-type {\n",
       "        vertical-align: middle;\n",
       "    }\n",
       "\n",
       "    .dataframe tbody tr th {\n",
       "        vertical-align: top;\n",
       "    }\n",
       "\n",
       "    .dataframe thead th {\n",
       "        text-align: right;\n",
       "    }\n",
       "</style>\n",
       "<table border=\"1\" class=\"dataframe\">\n",
       "  <thead>\n",
       "    <tr style=\"text-align: right;\">\n",
       "      <th></th>\n",
       "      <th>id</th>\n",
       "      <th>lat</th>\n",
       "      <th>lon</th>\n",
       "      <th>dollar_price</th>\n",
       "      <th>review_scores_rating</th>\n",
       "    </tr>\n",
       "  </thead>\n",
       "  <tbody>\n",
       "    <tr>\n",
       "      <th>0</th>\n",
       "      <td>2515</td>\n",
       "      <td>40.799205</td>\n",
       "      <td>-73.953676</td>\n",
       "      <td>59.0</td>\n",
       "      <td>93.0</td>\n",
       "    </tr>\n",
       "    <tr>\n",
       "      <th>1</th>\n",
       "      <td>21456</td>\n",
       "      <td>40.797642</td>\n",
       "      <td>-73.961775</td>\n",
       "      <td>140.0</td>\n",
       "      <td>94.0</td>\n",
       "    </tr>\n",
       "    <tr>\n",
       "      <th>2</th>\n",
       "      <td>2539</td>\n",
       "      <td>40.647486</td>\n",
       "      <td>-73.972370</td>\n",
       "      <td>149.0</td>\n",
       "      <td>98.0</td>\n",
       "    </tr>\n",
       "    <tr>\n",
       "      <th>3</th>\n",
       "      <td>2595</td>\n",
       "      <td>40.753621</td>\n",
       "      <td>-73.983774</td>\n",
       "      <td>225.0</td>\n",
       "      <td>95.0</td>\n",
       "    </tr>\n",
       "    <tr>\n",
       "      <th>4</th>\n",
       "      <td>21644</td>\n",
       "      <td>40.828028</td>\n",
       "      <td>-73.947308</td>\n",
       "      <td>89.0</td>\n",
       "      <td>100.0</td>\n",
       "    </tr>\n",
       "  </tbody>\n",
       "</table>\n",
       "</div>"
      ],
      "text/plain": [
       "      id        lat        lon  dollar_price  review_scores_rating\n",
       "0   2515  40.799205 -73.953676          59.0                  93.0\n",
       "1  21456  40.797642 -73.961775         140.0                  94.0\n",
       "2   2539  40.647486 -73.972370         149.0                  98.0\n",
       "3   2595  40.753621 -73.983774         225.0                  95.0\n",
       "4  21644  40.828028 -73.947308          89.0                 100.0"
      ]
     },
     "execution_count": 9,
     "metadata": {},
     "output_type": "execute_result"
    }
   ],
   "source": [
    "# print the first 5 rows of the dataset\n",
    "sub_data.head()"
   ]
  },
  {
   "cell_type": "markdown",
   "metadata": {},
   "source": [
    "**We are now left with only 5 of the 96 columns.**"
   ]
  },
  {
   "cell_type": "markdown",
   "metadata": {},
   "source": [
    "---"
   ]
  },
  {
   "cell_type": "markdown",
   "metadata": {},
   "source": [
    "#### Understanding the spatial features of our dataset"
   ]
  },
  {
   "cell_type": "markdown",
   "metadata": {},
   "source": [
    "Even though we know that our data holds airbnb listings for New York city, at the moment we have no feeling about the amount, distribution, and character of our dataset.   \n",
    "The simplest way to get a first glance at the data is to plot every listing with a simple dot map."
   ]
  },
  {
   "cell_type": "code",
   "execution_count": 10,
   "metadata": {},
   "outputs": [],
   "source": [
    "# import DataAccessObject and create a data object as an instance of that class\n",
    "from geoplotlib.utils import DataAccessObject\n",
    "data = DataAccessObject(sub_data)"
   ]
  },
  {
   "cell_type": "code",
   "execution_count": 43,
   "metadata": {},
   "outputs": [],
   "source": [
    "# plotting the whole dataset with dots\n",
    "geoplotlib.dot(data)\n",
    "geoplotlib.show()"
   ]
  },
  {
   "cell_type": "markdown",
   "metadata": {},
   "source": [
    "This gives us a better understanding about the distribution and character of our data."
   ]
  },
  {
   "cell_type": "markdown",
   "metadata": {},
   "source": [
    "---"
   ]
  },
  {
   "cell_type": "markdown",
   "metadata": {},
   "source": [
    "### Writing the custom layer to map the price and rating to a color"
   ]
  },
  {
   "cell_type": "markdown",
   "metadata": {},
   "source": [
    "The last step is to write the custom layer. Here we want to define a `ValueLayer` that extends the `BaseLayer` of geoplotlib.   \n",
    "For the mentioned interactive feature we need an additional import. `pyglet` provides us with the option to act on key presses.\n",
    "\n",
    "Given the data, we want to plot each point on the map with a color that is defined by the currently selected attribute, either price or rating.   \n",
    "To avoid non-descriptive output, we need to also adjust the scale of our color map. Ratings are between 0 and 100, whereas prices can be much higer. Using a linear (`lin`) scale for the ratings and a logarithmic ('log') scale for the price will give us much better insights into our data.\n",
    "The view (bounding box) of our visualization will be set to New York and a text information with the currently selected attribute will be displayed in the upper right corner."
   ]
  },
  {
   "cell_type": "markdown",
   "metadata": {},
   "source": [
    "<img src=\"./data/colorscale.png\" width=500/>   \n",
    "> The jet color map displays low values as cooler tones and higher values as hotter. "
   ]
  },
  {
   "cell_type": "markdown",
   "metadata": {},
   "source": [
    "In order to assign each point a different color, we simply paint each point separately. This is definitely not the most efficient solution, but it wills suite for now.\n",
    "We will need the following instance variables:   \n",
    "- self.data that holds the dataset\n",
    "- self.display that holds the currently selected attribute name\n",
    "- self.painter holds an instance of the BatchPainter class\n",
    "- self.view holds the BoundingBox\n",
    "- self.cmap holds a color map with the `jet` color schmema, alpha of 255 and 100 levels\n",
    "\n",
    "Inside the `invalidate` method that holds the logic of projection the data to points on the map, we have to switch between the `lin` and `log` scales, depending on the attribute that is currently selected.   \n",
    "The color is then determined by \"placing\" the value between 0/1 and the maximum (`max_val`) value which also has to be taken from the dataset based on what attribute currently is display."
   ]
  },
  {
   "cell_type": "code",
   "execution_count": 20,
   "metadata": {},
   "outputs": [],
   "source": [
    "# custom layer creation\n",
    "import pyglet\n",
    "import geoplotlib\n",
    "from geoplotlib.layers import BaseLayer\n",
    "from geoplotlib.core import BatchPainter\n",
    "from geoplotlib.colors import ColorMap\n",
    "from geoplotlib.utils import BoundingBox\n",
    "\n",
    "class ValueLayer(BaseLayer):\n",
    "\n",
    "    def __init__(self, dataset, bbox=BoundingBox.WORLD):\n",
    "        # initialize instance variables\n",
    "        self.data = dataset\n",
    "        self.display = 'dollar_price'\n",
    "        self.painter = BatchPainter()\n",
    "        self.view = bbox\n",
    "        self.cmap = ColorMap('jet', alpha=255, levels=100)\n",
    "        \n",
    "    def invalidate(self, proj):\n",
    "        # paint every point with a color that represents the currently selected attributes value\n",
    "        self.painter = BatchPainter()\n",
    "        max_val = max(self.data[self.display])\n",
    "        scale = 'log' if self.display == 'dollar_price' else 'lin'\n",
    "        \n",
    "        for index, id in enumerate(self.data['id']):\n",
    "            # log scale can't start at 0, must be 1\n",
    "            min_val = max(self.data[self.display][index], 1)\n",
    "            \n",
    "            color = self.cmap.to_color(min_val, max_val, scale)\n",
    "            self.painter.set_color(color)\n",
    "            lat, lon = self.data['lon'][index], self.data['lat'][index]\n",
    "            x, y = proj.lonlat_to_screen(lat, lon)\n",
    "            self.painter.points(x, y, 5)\n",
    "        \n",
    "    def draw(self, proj, mouse_x, mouse_y, ui_manager):\n",
    "        # display the ui manager info\n",
    "        ui_manager.info('Use left and right to switch between the displaying of price and ratings. Currently displaying: {}'.format(self.display))\n",
    "        self.painter.batch_draw()\n",
    "        \n",
    "    def on_key_release(self, key, modifiers):\n",
    "        # check if left or right keys are pressed to switch to other attribute\n",
    "        if key == pyglet.window.key.LEFT or key == pyglet.window.key.RIGHT:\n",
    "            self.display = 'dollar_price' if self.display != 'dollar_price' else 'review_scores_rating'\n",
    "            return True\n",
    "        return False\n",
    "        \n",
    "    # bounding box that gets used when layer is created\n",
    "    def bbox(self):\n",
    "        return self.view"
   ]
  },
  {
   "cell_type": "markdown",
   "metadata": {},
   "source": [
    "Since our dataset only contains data from New York, we want to set the view to New York in the beginning.   \n",
    "Therefore we need an instance of the `BoundingBox` class with the given parameters.\n",
    "\n",
    "In addition to a custom `BoundingBox`, we will use the `darkmatter` tile provider we have looked at in lesson 5."
   ]
  },
  {
   "cell_type": "code",
   "execution_count": 21,
   "metadata": {},
   "outputs": [],
   "source": [
    "# bounding box for our view on New York\n",
    "from geoplotlib.utils import BoundingBox\n",
    "\n",
    "ny_bbox = BoundingBox(north=40.897994, west=-73.999040, south=40.595581, east=-73.95040)"
   ]
  },
  {
   "cell_type": "code",
   "execution_count": 22,
   "metadata": {},
   "outputs": [],
   "source": [
    "# displaying our custom layer using add_layer\n",
    "geoplotlib.tiles_provider('darkmatter')\n",
    "geoplotlib.add_layer(ValueLayer(data, bbox=ny_bbox))\n",
    "geoplotlib.show()"
   ]
  },
  {
   "cell_type": "code",
   "execution_count": null,
   "metadata": {},
   "outputs": [],
   "source": []
  }
 ],
 "metadata": {
  "kernelspec": {
   "display_name": "Python 3",
   "language": "python",
   "name": "python3"
  },
  "language_info": {
   "codemirror_mode": {
    "name": "ipython",
    "version": 3
   },
   "file_extension": ".py",
   "mimetype": "text/x-python",
   "name": "python",
   "nbconvert_exporter": "python",
   "pygments_lexer": "ipython3",
   "version": "3.7.0"
  }
 },
 "nbformat": 4,
 "nbformat_minor": 2
}
